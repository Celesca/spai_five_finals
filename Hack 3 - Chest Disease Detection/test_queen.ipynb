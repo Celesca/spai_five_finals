{
 "cells": [
  {
   "cell_type": "code",
   "execution_count": 2,
   "id": "836eb298",
   "metadata": {},
   "outputs": [],
   "source": [
    "import pandas as pd\n",
    "\n",
    "df = pd.read_csv(\"test_submission.csv\")\n",
    "\n",
    "filenames = df[\"filename\"]"
   ]
  },
  {
   "cell_type": "code",
   "execution_count": 4,
   "id": "6125ef3f",
   "metadata": {},
   "outputs": [
    {
     "data": {
      "text/plain": [
       "2506"
      ]
     },
     "execution_count": 4,
     "metadata": {},
     "output_type": "execute_result"
    }
   ],
   "source": [
    "test = pd.read_csv(\"test_submission.csv\")\n",
    "len(test)"
   ]
  },
  {
   "cell_type": "code",
   "execution_count": 5,
   "id": "3664ca9e",
   "metadata": {},
   "outputs": [
    {
     "data": {
      "text/plain": [
       "2506"
      ]
     },
     "execution_count": 5,
     "metadata": {},
     "output_type": "execute_result"
    }
   ],
   "source": [
    "final = pd.read_csv(\"final_list.csv\")\n",
    "\n",
    "len(final)"
   ]
  },
  {
   "cell_type": "code",
   "execution_count": 12,
   "id": "f70e78dc",
   "metadata": {},
   "outputs": [
    {
     "data": {
      "application/vnd.microsoft.datawrangler.viewer.v0+json": {
       "columns": [
        {
         "name": "index",
         "rawType": "int64",
         "type": "integer"
        },
        {
         "name": "id",
         "rawType": "object",
         "type": "string"
        },
        {
         "name": "Atelectasis",
         "rawType": "int64",
         "type": "integer"
        },
        {
         "name": "Cardiomegaly",
         "rawType": "int64",
         "type": "integer"
        },
        {
         "name": "Consolidation",
         "rawType": "int64",
         "type": "integer"
        },
        {
         "name": "Edema",
         "rawType": "int64",
         "type": "integer"
        },
        {
         "name": "Enlarged Cardio mediastinum",
         "rawType": "int64",
         "type": "integer"
        },
        {
         "name": "Fracture",
         "rawType": "int64",
         "type": "integer"
        },
        {
         "name": "Lung Lesion",
         "rawType": "int64",
         "type": "integer"
        },
        {
         "name": "Lung Opacity",
         "rawType": "int64",
         "type": "integer"
        },
        {
         "name": "No Finding",
         "rawType": "int64",
         "type": "integer"
        }
       ],
       "ref": "a5c22d41-20b2-4e69-8c85-7906705f0d8a",
       "rows": [
        [
         "0",
         "cxr00001",
         "1",
         "1",
         "0",
         "0",
         "0",
         "0",
         "0",
         "0",
         "0"
        ],
        [
         "1",
         "cxr00002",
         "0",
         "0",
         "0",
         "0",
         "0",
         "0",
         "0",
         "0",
         "1"
        ],
        [
         "2",
         "cxr00003",
         "0",
         "0",
         "0",
         "0",
         "0",
         "0",
         "0",
         "0",
         "1"
        ],
        [
         "3",
         "cxr00007",
         "0",
         "1",
         "0",
         "0",
         "0",
         "0",
         "0",
         "0",
         "0"
        ],
        [
         "4",
         "cxr00008",
         "0",
         "0",
         "0",
         "0",
         "0",
         "0",
         "0",
         "0",
         "1"
        ],
        [
         "5",
         "cxr00010",
         "0",
         "0",
         "0",
         "0",
         "0",
         "0",
         "0",
         "0",
         "1"
        ],
        [
         "6",
         "cxr00011",
         "0",
         "0",
         "0",
         "1",
         "0",
         "0",
         "0",
         "0",
         "1"
        ],
        [
         "7",
         "cxr00013",
         "0",
         "0",
         "0",
         "0",
         "0",
         "0",
         "0",
         "0",
         "1"
        ],
        [
         "8",
         "cxr00014",
         "1",
         "0",
         "0",
         "0",
         "0",
         "0",
         "0",
         "0",
         "0"
        ],
        [
         "9",
         "cxr00015",
         "0",
         "0",
         "0",
         "0",
         "0",
         "0",
         "0",
         "0",
         "1"
        ],
        [
         "10",
         "cxr00017",
         "0",
         "0",
         "0",
         "0",
         "0",
         "0",
         "0",
         "0",
         "1"
        ],
        [
         "11",
         "cxr00022",
         "0",
         "0",
         "0",
         "1",
         "0",
         "0",
         "0",
         "0",
         "1"
        ],
        [
         "12",
         "cxr00023",
         "0",
         "0",
         "0",
         "0",
         "0",
         "0",
         "0",
         "0",
         "1"
        ],
        [
         "13",
         "cxr00031",
         "0",
         "0",
         "0",
         "0",
         "0",
         "0",
         "0",
         "0",
         "1"
        ],
        [
         "14",
         "cxr00032",
         "0",
         "0",
         "0",
         "0",
         "0",
         "0",
         "0",
         "0",
         "1"
        ],
        [
         "15",
         "cxr00036",
         "0",
         "0",
         "0",
         "0",
         "0",
         "0",
         "0",
         "0",
         "1"
        ],
        [
         "16",
         "cxr00037",
         "0",
         "0",
         "0",
         "0",
         "0",
         "0",
         "0",
         "0",
         "1"
        ],
        [
         "17",
         "cxr00039",
         "0",
         "0",
         "0",
         "0",
         "0",
         "0",
         "0",
         "0",
         "1"
        ],
        [
         "18",
         "cxr00040",
         "0",
         "0",
         "0",
         "0",
         "0",
         "0",
         "0",
         "0",
         "1"
        ],
        [
         "19",
         "cxr00041",
         "0",
         "0",
         "0",
         "0",
         "0",
         "0",
         "0",
         "0",
         "1"
        ],
        [
         "20",
         "cxr00043",
         "0",
         "0",
         "0",
         "0",
         "0",
         "0",
         "0",
         "0",
         "1"
        ],
        [
         "21",
         "cxr00045",
         "0",
         "0",
         "0",
         "0",
         "0",
         "0",
         "0",
         "0",
         "1"
        ],
        [
         "22",
         "cxr00046",
         "0",
         "0",
         "0",
         "0",
         "0",
         "0",
         "0",
         "0",
         "1"
        ],
        [
         "23",
         "cxr00050",
         "0",
         "0",
         "0",
         "0",
         "0",
         "0",
         "0",
         "0",
         "1"
        ],
        [
         "24",
         "cxr00053",
         "0",
         "1",
         "0",
         "0",
         "0",
         "0",
         "0",
         "0",
         "0"
        ],
        [
         "25",
         "cxr00054",
         "0",
         "0",
         "0",
         "0",
         "0",
         "0",
         "0",
         "0",
         "1"
        ],
        [
         "26",
         "cxr00055",
         "0",
         "1",
         "0",
         "0",
         "0",
         "0",
         "0",
         "0",
         "0"
        ],
        [
         "27",
         "cxr00056",
         "0",
         "0",
         "0",
         "0",
         "0",
         "0",
         "0",
         "0",
         "1"
        ],
        [
         "28",
         "cxr00058",
         "0",
         "0",
         "0",
         "0",
         "0",
         "0",
         "0",
         "0",
         "1"
        ],
        [
         "29",
         "cxr00062",
         "1",
         "0",
         "0",
         "0",
         "0",
         "0",
         "0",
         "0",
         "0"
        ],
        [
         "30",
         "cxr00063",
         "0",
         "0",
         "0",
         "0",
         "0",
         "0",
         "0",
         "0",
         "1"
        ],
        [
         "31",
         "cxr00065",
         "0",
         "0",
         "0",
         "0",
         "0",
         "0",
         "0",
         "0",
         "1"
        ],
        [
         "32",
         "cxr00066",
         "0",
         "0",
         "0",
         "1",
         "0",
         "0",
         "0",
         "0",
         "1"
        ],
        [
         "33",
         "cxr00068",
         "0",
         "0",
         "0",
         "0",
         "0",
         "0",
         "0",
         "0",
         "1"
        ],
        [
         "34",
         "cxr00072",
         "0",
         "0",
         "0",
         "0",
         "0",
         "0",
         "0",
         "0",
         "1"
        ],
        [
         "35",
         "cxr00075",
         "0",
         "0",
         "0",
         "0",
         "0",
         "0",
         "0",
         "0",
         "1"
        ],
        [
         "36",
         "cxr00076",
         "0",
         "1",
         "0",
         "1",
         "0",
         "0",
         "0",
         "0",
         "0"
        ],
        [
         "37",
         "cxr00077",
         "0",
         "0",
         "0",
         "0",
         "0",
         "0",
         "0",
         "0",
         "1"
        ],
        [
         "38",
         "cxr00078",
         "0",
         "0",
         "0",
         "0",
         "0",
         "0",
         "0",
         "0",
         "1"
        ],
        [
         "39",
         "cxr00079",
         "0",
         "0",
         "0",
         "0",
         "0",
         "0",
         "0",
         "0",
         "1"
        ],
        [
         "40",
         "cxr00081",
         "0",
         "0",
         "0",
         "0",
         "0",
         "0",
         "0",
         "0",
         "1"
        ],
        [
         "41",
         "cxr00082",
         "0",
         "0",
         "0",
         "0",
         "0",
         "0",
         "0",
         "0",
         "1"
        ],
        [
         "42",
         "cxr00084",
         "0",
         "1",
         "0",
         "0",
         "0",
         "0",
         "0",
         "0",
         "0"
        ],
        [
         "43",
         "cxr00085",
         "0",
         "0",
         "0",
         "0",
         "0",
         "0",
         "0",
         "0",
         "1"
        ],
        [
         "44",
         "cxr00087",
         "0",
         "0",
         "0",
         "0",
         "0",
         "0",
         "0",
         "0",
         "1"
        ],
        [
         "45",
         "cxr00088",
         "0",
         "0",
         "0",
         "0",
         "0",
         "0",
         "0",
         "0",
         "1"
        ],
        [
         "46",
         "cxr00092",
         "0",
         "0",
         "0",
         "0",
         "0",
         "0",
         "0",
         "0",
         "1"
        ],
        [
         "47",
         "cxr00093",
         "0",
         "0",
         "0",
         "0",
         "0",
         "0",
         "0",
         "0",
         "1"
        ],
        [
         "48",
         "cxr00094",
         "0",
         "0",
         "0",
         "0",
         "0",
         "0",
         "0",
         "0",
         "1"
        ],
        [
         "49",
         "cxr00095",
         "0",
         "0",
         "0",
         "0",
         "0",
         "0",
         "0",
         "0",
         "1"
        ]
       ],
       "shape": {
        "columns": 10,
        "rows": 2506
       }
      },
      "text/html": [
       "<div>\n",
       "<style scoped>\n",
       "    .dataframe tbody tr th:only-of-type {\n",
       "        vertical-align: middle;\n",
       "    }\n",
       "\n",
       "    .dataframe tbody tr th {\n",
       "        vertical-align: top;\n",
       "    }\n",
       "\n",
       "    .dataframe thead th {\n",
       "        text-align: right;\n",
       "    }\n",
       "</style>\n",
       "<table border=\"1\" class=\"dataframe\">\n",
       "  <thead>\n",
       "    <tr style=\"text-align: right;\">\n",
       "      <th></th>\n",
       "      <th>id</th>\n",
       "      <th>Atelectasis</th>\n",
       "      <th>Cardiomegaly</th>\n",
       "      <th>Consolidation</th>\n",
       "      <th>Edema</th>\n",
       "      <th>Enlarged Cardio mediastinum</th>\n",
       "      <th>Fracture</th>\n",
       "      <th>Lung Lesion</th>\n",
       "      <th>Lung Opacity</th>\n",
       "      <th>No Finding</th>\n",
       "    </tr>\n",
       "  </thead>\n",
       "  <tbody>\n",
       "    <tr>\n",
       "      <th>0</th>\n",
       "      <td>cxr00001</td>\n",
       "      <td>1</td>\n",
       "      <td>1</td>\n",
       "      <td>0</td>\n",
       "      <td>0</td>\n",
       "      <td>0</td>\n",
       "      <td>0</td>\n",
       "      <td>0</td>\n",
       "      <td>0</td>\n",
       "      <td>0</td>\n",
       "    </tr>\n",
       "    <tr>\n",
       "      <th>1</th>\n",
       "      <td>cxr00002</td>\n",
       "      <td>0</td>\n",
       "      <td>0</td>\n",
       "      <td>0</td>\n",
       "      <td>0</td>\n",
       "      <td>0</td>\n",
       "      <td>0</td>\n",
       "      <td>0</td>\n",
       "      <td>0</td>\n",
       "      <td>1</td>\n",
       "    </tr>\n",
       "    <tr>\n",
       "      <th>2</th>\n",
       "      <td>cxr00003</td>\n",
       "      <td>0</td>\n",
       "      <td>0</td>\n",
       "      <td>0</td>\n",
       "      <td>0</td>\n",
       "      <td>0</td>\n",
       "      <td>0</td>\n",
       "      <td>0</td>\n",
       "      <td>0</td>\n",
       "      <td>1</td>\n",
       "    </tr>\n",
       "    <tr>\n",
       "      <th>3</th>\n",
       "      <td>cxr00007</td>\n",
       "      <td>0</td>\n",
       "      <td>1</td>\n",
       "      <td>0</td>\n",
       "      <td>0</td>\n",
       "      <td>0</td>\n",
       "      <td>0</td>\n",
       "      <td>0</td>\n",
       "      <td>0</td>\n",
       "      <td>0</td>\n",
       "    </tr>\n",
       "    <tr>\n",
       "      <th>4</th>\n",
       "      <td>cxr00008</td>\n",
       "      <td>0</td>\n",
       "      <td>0</td>\n",
       "      <td>0</td>\n",
       "      <td>0</td>\n",
       "      <td>0</td>\n",
       "      <td>0</td>\n",
       "      <td>0</td>\n",
       "      <td>0</td>\n",
       "      <td>1</td>\n",
       "    </tr>\n",
       "    <tr>\n",
       "      <th>...</th>\n",
       "      <td>...</td>\n",
       "      <td>...</td>\n",
       "      <td>...</td>\n",
       "      <td>...</td>\n",
       "      <td>...</td>\n",
       "      <td>...</td>\n",
       "      <td>...</td>\n",
       "      <td>...</td>\n",
       "      <td>...</td>\n",
       "      <td>...</td>\n",
       "    </tr>\n",
       "    <tr>\n",
       "      <th>2501</th>\n",
       "      <td>cxr08417</td>\n",
       "      <td>0</td>\n",
       "      <td>0</td>\n",
       "      <td>0</td>\n",
       "      <td>0</td>\n",
       "      <td>0</td>\n",
       "      <td>0</td>\n",
       "      <td>0</td>\n",
       "      <td>0</td>\n",
       "      <td>1</td>\n",
       "    </tr>\n",
       "    <tr>\n",
       "      <th>2502</th>\n",
       "      <td>cxr08428</td>\n",
       "      <td>0</td>\n",
       "      <td>0</td>\n",
       "      <td>0</td>\n",
       "      <td>0</td>\n",
       "      <td>0</td>\n",
       "      <td>0</td>\n",
       "      <td>0</td>\n",
       "      <td>0</td>\n",
       "      <td>1</td>\n",
       "    </tr>\n",
       "    <tr>\n",
       "      <th>2503</th>\n",
       "      <td>cxr09558</td>\n",
       "      <td>0</td>\n",
       "      <td>0</td>\n",
       "      <td>0</td>\n",
       "      <td>0</td>\n",
       "      <td>0</td>\n",
       "      <td>0</td>\n",
       "      <td>0</td>\n",
       "      <td>0</td>\n",
       "      <td>1</td>\n",
       "    </tr>\n",
       "    <tr>\n",
       "      <th>2504</th>\n",
       "      <td>cxr10456</td>\n",
       "      <td>0</td>\n",
       "      <td>0</td>\n",
       "      <td>0</td>\n",
       "      <td>0</td>\n",
       "      <td>0</td>\n",
       "      <td>0</td>\n",
       "      <td>0</td>\n",
       "      <td>0</td>\n",
       "      <td>1</td>\n",
       "    </tr>\n",
       "    <tr>\n",
       "      <th>2505</th>\n",
       "      <td>cxr10974</td>\n",
       "      <td>0</td>\n",
       "      <td>0</td>\n",
       "      <td>0</td>\n",
       "      <td>0</td>\n",
       "      <td>0</td>\n",
       "      <td>0</td>\n",
       "      <td>0</td>\n",
       "      <td>0</td>\n",
       "      <td>1</td>\n",
       "    </tr>\n",
       "  </tbody>\n",
       "</table>\n",
       "<p>2506 rows × 10 columns</p>\n",
       "</div>"
      ],
      "text/plain": [
       "            id  Atelectasis  Cardiomegaly  Consolidation  Edema  \\\n",
       "0     cxr00001            1             1              0      0   \n",
       "1     cxr00002            0             0              0      0   \n",
       "2     cxr00003            0             0              0      0   \n",
       "3     cxr00007            0             1              0      0   \n",
       "4     cxr00008            0             0              0      0   \n",
       "...        ...          ...           ...            ...    ...   \n",
       "2501  cxr08417            0             0              0      0   \n",
       "2502  cxr08428            0             0              0      0   \n",
       "2503  cxr09558            0             0              0      0   \n",
       "2504  cxr10456            0             0              0      0   \n",
       "2505  cxr10974            0             0              0      0   \n",
       "\n",
       "      Enlarged Cardio mediastinum  Fracture  Lung Lesion  Lung Opacity  \\\n",
       "0                               0         0            0             0   \n",
       "1                               0         0            0             0   \n",
       "2                               0         0            0             0   \n",
       "3                               0         0            0             0   \n",
       "4                               0         0            0             0   \n",
       "...                           ...       ...          ...           ...   \n",
       "2501                            0         0            0             0   \n",
       "2502                            0         0            0             0   \n",
       "2503                            0         0            0             0   \n",
       "2504                            0         0            0             0   \n",
       "2505                            0         0            0             0   \n",
       "\n",
       "      No Finding  \n",
       "0              0  \n",
       "1              1  \n",
       "2              1  \n",
       "3              0  \n",
       "4              1  \n",
       "...          ...  \n",
       "2501           1  \n",
       "2502           1  \n",
       "2503           1  \n",
       "2504           1  \n",
       "2505           1  \n",
       "\n",
       "[2506 rows x 10 columns]"
      ]
     },
     "execution_count": 12,
     "metadata": {},
     "output_type": "execute_result"
    }
   ],
   "source": [
    "import pandas as pd\n",
    "\n",
    "# df = pd.DataFrame({'col1': [1, 2, 3], 'col2': ['A', 'B', 'C']})\n",
    "\n",
    "for index, row in final.iterrows():\n",
    "    # Access and modify values using .loc\n",
    "    if row['Atelectasis'] == 0 and row['Cardiomegaly'] == 0 and row['Consolidation'] == 0 and row['Edema'] == 0 and row['Enlarged Cardio mediastinum'] == 0 and row['Fracture'] == 0 and row['Lung Lesion'] == 0 and row['Lung Opacity'] == 0:\n",
    "        # print(\"Hoi\")\n",
    "        final.loc[index, 'No Finding'] = 1\n",
    "\n",
    "final"
   ]
  },
  {
   "cell_type": "code",
   "execution_count": 14,
   "id": "413c6b47",
   "metadata": {},
   "outputs": [
    {
     "data": {
      "application/vnd.microsoft.datawrangler.viewer.v0+json": {
       "columns": [
        {
         "name": "('Atelectasis', 'Cardiomegaly', 'Consolidation', 'Edema', 'Enlarged Cardio mediastinum', 'Fracture', 'Lung Lesion', 'Lung Opacity', 'No Finding')",
         "rawType": "object",
         "type": "unknown"
        },
        {
         "name": "count",
         "rawType": "int64",
         "type": "integer"
        }
       ],
       "ref": "d33f6ea1-d8c3-4e05-ad8a-00617ee064c6",
       "rows": [
        [
         "(0, 0, 0, 0, 0, 0, 0, 0, 1)",
         "1978"
        ],
        [
         "(0, 1, 0, 0, 0, 0, 0, 0, 0)",
         "158"
        ],
        [
         "(1, 0, 0, 0, 0, 0, 0, 0, 0)",
         "151"
        ],
        [
         "(0, 0, 0, 1, 0, 0, 0, 0, 1)",
         "98"
        ],
        [
         "(0, 1, 0, 1, 0, 0, 0, 0, 0)",
         "96"
        ],
        [
         "(1, 1, 0, 0, 0, 0, 0, 0, 0)",
         "24"
        ],
        [
         "(0, 1, 0, 0, 0, 0, 0, 0, 1)",
         "1"
        ]
       ],
       "shape": {
        "columns": 1,
        "rows": 7
       }
      },
      "text/plain": [
       "Atelectasis  Cardiomegaly  Consolidation  Edema  Enlarged Cardio mediastinum  Fracture  Lung Lesion  Lung Opacity  No Finding\n",
       "0            0             0              0      0                            0         0            0             1             1978\n",
       "             1             0              0      0                            0         0            0             0              158\n",
       "1            0             0              0      0                            0         0            0             0              151\n",
       "0            0             0              1      0                            0         0            0             1               98\n",
       "             1             0              1      0                            0         0            0             0               96\n",
       "1            1             0              0      0                            0         0            0             0               24\n",
       "0            1             0              0      0                            0         0            0             1                1\n",
       "Name: count, dtype: int64"
      ]
     },
     "execution_count": 14,
     "metadata": {},
     "output_type": "execute_result"
    }
   ],
   "source": [
    "final[['Atelectasis', 'Cardiomegaly', 'Consolidation', 'Edema', 'Enlarged Cardio mediastinum', 'Fracture', 'Lung Lesion', 'Lung Opacity', 'No Finding']].value_counts()"
   ]
  },
  {
   "cell_type": "code",
   "execution_count": 16,
   "id": "1409f186",
   "metadata": {},
   "outputs": [],
   "source": [
    "final = final.rename(columns={\"id\": \"filename\"})"
   ]
  },
  {
   "cell_type": "code",
   "execution_count": 17,
   "id": "f2aa2ca8",
   "metadata": {},
   "outputs": [],
   "source": [
    "final.to_csv(\"2 epochs_convnext.csv\", index=False)"
   ]
  },
  {
   "cell_type": "code",
   "execution_count": null,
   "id": "1758e41f",
   "metadata": {},
   "outputs": [],
   "source": []
  }
 ],
 "metadata": {
  "kernelspec": {
   "display_name": "Python 3",
   "language": "python",
   "name": "python3"
  },
  "language_info": {
   "codemirror_mode": {
    "name": "ipython",
    "version": 3
   },
   "file_extension": ".py",
   "mimetype": "text/x-python",
   "name": "python",
   "nbconvert_exporter": "python",
   "pygments_lexer": "ipython3",
   "version": "3.12.6"
  }
 },
 "nbformat": 4,
 "nbformat_minor": 5
}
