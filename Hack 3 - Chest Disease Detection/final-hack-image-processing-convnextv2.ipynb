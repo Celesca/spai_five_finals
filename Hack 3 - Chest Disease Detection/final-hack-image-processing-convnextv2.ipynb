{
 "cells": [
  {
   "cell_type": "markdown",
   "id": "eabf04a8",
   "metadata": {},
   "source": [
    "# Chest Disease Detection - Multi-Label Classification\n",
    "\n",
    "This notebook implements a multi-label classification pipeline for detecting 9 different chest X-ray conditions:\n",
    "\n",
    "1. **Atelectasis** - การปอดแฟบ\n",
    "2. **Cardiomegaly** - โรคหัวใจโต\n",
    "3. **Consolidation** - การแข็งตัวของปอด\n",
    "4. **Edema** - อาการบวมน้ำในปอด\n",
    "5. **Enlarged Cardio mediastinum** - การขยายตัวของหัวใจและเยื่อหุ้มหัวใจ\n",
    "6. **Fracture** - กระดูกหัก\n",
    "7. **Lung Lesion** - รอยโรคในปอด\n",
    "8. **Lung Opacity** - ความขุ่นข้นของปอด\n",
    "9. **No Finding** - ไม่พบความผิดปกติ\n",
    "\n",
    "The model uses ConvNeXTv2 architecture for multi-label classification with sigmoid activation."
   ]
  },
  {
   "cell_type": "code",
   "execution_count": 2,
   "id": "PjFC7HMHI7aI",
   "metadata": {
    "colab": {
     "base_uri": "https://localhost:8080/"
    },
    "execution": {
     "iopub.execute_input": "2025-03-09T04:33:04.372293Z",
     "iopub.status.busy": "2025-03-09T04:33:04.372014Z",
     "iopub.status.idle": "2025-03-09T04:33:04.375708Z",
     "shell.execute_reply": "2025-03-09T04:33:04.375087Z",
     "shell.execute_reply.started": "2025-03-09T04:33:04.372261Z"
    },
    "id": "PjFC7HMHI7aI",
    "outputId": "93fb0c02-60d7-4422-8b4e-47cc4625a2b2",
    "trusted": true
   },
   "outputs": [],
   "source": [
    "# !unzip /content/image-processing-house-recognition.zip"
   ]
  },
  {
   "cell_type": "code",
   "execution_count": 3,
   "id": "76d88185-9b36-4279-b8ae-7d0530813c75",
   "metadata": {
    "colab": {
     "base_uri": "https://localhost:8080/"
    },
    "execution": {
     "iopub.execute_input": "2025-03-09T04:33:04.377016Z",
     "iopub.status.busy": "2025-03-09T04:33:04.376610Z",
     "iopub.status.idle": "2025-03-09T04:33:07.740567Z",
     "shell.execute_reply": "2025-03-09T04:33:07.739463Z",
     "shell.execute_reply.started": "2025-03-09T04:33:04.376972Z"
    },
    "id": "76d88185-9b36-4279-b8ae-7d0530813c75",
    "outputId": "1792f512-c7ff-40f8-a3ed-13ff3bc2d00a",
    "trusted": true
   },
   "outputs": [],
   "source": [
    "!pip -q install torch torchvision transformers timm"
   ]
  },
  {
   "cell_type": "code",
   "execution_count": 4,
   "id": "88518293-7105-4150-9536-59afb2e828a2",
   "metadata": {
    "execution": {
     "iopub.execute_input": "2025-03-09T04:33:10.306924Z",
     "iopub.status.busy": "2025-03-09T04:33:10.306651Z",
     "iopub.status.idle": "2025-03-09T04:33:19.425831Z",
     "shell.execute_reply": "2025-03-09T04:33:19.425203Z",
     "shell.execute_reply.started": "2025-03-09T04:33:10.306901Z"
    },
    "id": "88518293-7105-4150-9536-59afb2e828a2",
    "trusted": true
   },
   "outputs": [],
   "source": [
    "import os\n",
    "import pandas as pd\n",
    "import torch\n",
    "import torch.nn as nn\n",
    "import torchvision.transforms as transforms\n",
    "from torch.utils.data import Dataset, DataLoader\n",
    "from PIL import Image\n",
    "from timm import create_model"
   ]
  },
  {
   "cell_type": "code",
   "execution_count": null,
   "id": "7311ebfe-76cc-423a-9a2c-69759709a11f",
   "metadata": {
    "execution": {
     "iopub.execute_input": "2025-03-09T07:57:57.255998Z",
     "iopub.status.busy": "2025-03-09T07:57:57.255606Z",
     "iopub.status.idle": "2025-03-09T07:57:57.263106Z",
     "shell.execute_reply": "2025-03-09T07:57:57.262188Z",
     "shell.execute_reply.started": "2025-03-09T07:57:57.255949Z"
    },
    "id": "7311ebfe-76cc-423a-9a2c-69759709a11f",
    "trusted": true
   },
   "outputs": [],
   "source": [
    "class ChestDiseaseDataset(Dataset):\n",
    "    def __init__(self, csv_file, img_dir, transform=None):\n",
    "        self.data = pd.read_csv(csv_file)\n",
    "        self.img_dir = img_dir\n",
    "        self.transform = transform\n",
    "        \n",
    "        # Define the 9 disease classes\n",
    "        self.disease_columns = [\n",
    "            'Atelectasis', 'Cardiomegaly', 'Consolidation', 'Edema',\n",
    "            'Enlarged Cardio mediastinum', 'Fracture', 'Lung Lesion',\n",
    "            'Lung Opacity', 'No Finding'\n",
    "        ]\n",
    "\n",
    "    def __len__(self):\n",
    "        return len(self.data)\n",
    "\n",
    "    def __getitem__(self, idx):\n",
    "        # Get image path from first column\n",
    "        img_path = os.path.join(self.img_dir, self.data.iloc[idx, 0])\n",
    "        image = Image.open(img_path).convert('RGB')\n",
    "        \n",
    "        # Get multi-label targets (9 classes)\n",
    "        labels = torch.tensor(\n",
    "            self.data.iloc[idx, 1:10].values.astype(float), \n",
    "            dtype=torch.float32\n",
    "        )\n",
    "\n",
    "        if self.transform:\n",
    "            image = self.transform(image)\n",
    "\n",
    "        return image, labels"
   ]
  },
  {
   "cell_type": "code",
   "execution_count": 96,
   "id": "3144983f-899e-4495-aade-defbea178484",
   "metadata": {
    "execution": {
     "iopub.execute_input": "2025-03-09T08:23:13.658561Z",
     "iopub.status.busy": "2025-03-09T08:23:13.658219Z",
     "iopub.status.idle": "2025-03-09T08:23:13.665171Z",
     "shell.execute_reply": "2025-03-09T08:23:13.663905Z",
     "shell.execute_reply.started": "2025-03-09T08:23:13.658538Z"
    },
    "id": "3144983f-899e-4495-aade-defbea178484",
    "trusted": true
   },
   "outputs": [],
   "source": [
    "transform = transforms.Compose([\n",
    "    transforms.Resize((224, 224)),\n",
    "    transforms.RandomHorizontalFlip(),  # Flip images randomly\n",
    "    transforms.RandomRotation(10),  # Rotate images slightly\n",
    "    transforms.ColorJitter(brightness=0.2, contrast=0.2, saturation=0.2, hue=0.1),  # Adjust colors\n",
    "    transforms.ToTensor(),\n",
    "    transforms.Normalize(mean=[0.5, 0.5, 0.5], std=[0.5, 0.5, 0.5])\n",
    "])"
   ]
  },
  {
   "cell_type": "code",
   "execution_count": null,
   "id": "bcc3ab4e-cb29-4dad-99ca-51002a29480d",
   "metadata": {
    "execution": {
     "iopub.execute_input": "2025-03-09T08:23:14.360049Z",
     "iopub.status.busy": "2025-03-09T08:23:14.359708Z",
     "iopub.status.idle": "2025-03-09T08:23:14.369288Z",
     "shell.execute_reply": "2025-03-09T08:23:14.368451Z",
     "shell.execute_reply.started": "2025-03-09T08:23:14.360021Z"
    },
    "id": "bcc3ab4e-cb29-4dad-99ca-51002a29480d",
    "trusted": true
   },
   "outputs": [],
   "source": [
    "train_dataset = ChestDiseaseDataset(\"train.csv\", \"train/\", transform=transform)\n",
    "train_loader = DataLoader(train_dataset, batch_size=16, shuffle=True)\n",
    "\n",
    "print(f\"Training dataset size: {len(train_dataset)}\")\n",
    "print(f\"Number of batches: {len(train_loader)}\")\n",
    "\n",
    "# Check data shape\n",
    "sample_image, sample_labels = train_dataset[0]\n",
    "print(f\"Image shape: {sample_image.shape}\")\n",
    "print(f\"Labels shape: {sample_labels.shape}\")\n",
    "print(f\"Sample labels: {sample_labels}\")"
   ]
  },
  {
   "cell_type": "code",
   "execution_count": 80,
   "id": "aa54cb83-f9f4-4956-97e0-809beb040d36",
   "metadata": {
    "execution": {
     "iopub.execute_input": "2025-03-09T07:58:01.665261Z",
     "iopub.status.busy": "2025-03-09T07:58:01.664942Z",
     "iopub.status.idle": "2025-03-09T07:58:01.668931Z",
     "shell.execute_reply": "2025-03-09T07:58:01.668136Z",
     "shell.execute_reply.started": "2025-03-09T07:58:01.665239Z"
    },
    "trusted": true
   },
   "outputs": [],
   "source": [
    "import timm\n",
    "\n",
    "# timm.list_models(\"\")"
   ]
  },
  {
   "cell_type": "code",
   "execution_count": null,
   "id": "bfceb895-4ed2-4eaa-87eb-7e20f6bcca58",
   "metadata": {
    "colab": {
     "base_uri": "https://localhost:8080/",
     "height": 178,
     "referenced_widgets": [
      "03d5f0faa88040ee8cdcda379e0f2d37",
      "2b358303f6774b41aad1aa3843b7bc72",
      "03b82487b20d4d1e95fcfcec58bcceb7",
      "2761b466f39d471bbe6429778ffde4c0",
      "1a45414381e04da79dc6450dab3aaeba",
      "fc6395e7df9546298399e118f4a198dc",
      "f8f71b829a9f4391b9a97010ffa42564",
      "3692cc4cc5354a0db0bd91d2d9a09ec6",
      "07b5b39df8e44487b0079d7b4ec9fa73",
      "57b8849566c14d23b569974b688edbdb",
      "02ffa35293454cc8b4a82cb3a00c8997"
     ]
    },
    "execution": {
     "iopub.execute_input": "2025-03-09T08:37:43.801857Z",
     "iopub.status.busy": "2025-03-09T08:37:43.801576Z",
     "iopub.status.idle": "2025-03-09T08:37:44.541109Z",
     "shell.execute_reply": "2025-03-09T08:37:44.540435Z",
     "shell.execute_reply.started": "2025-03-09T08:37:43.801835Z"
    },
    "id": "bfceb895-4ed2-4eaa-87eb-7e20f6bcca58",
    "outputId": "3d179afc-740b-4a4c-918a-34bccb446975",
    "trusted": true
   },
   "outputs": [],
   "source": [
    "# Create model for multi-label classification (9 classes)\n",
    "model = create_model(\"convnextv2_tiny\", pretrained=True, num_classes=9)\n",
    "\n",
    "# Move model to device\n",
    "device = torch.device(\"cuda\" if torch.cuda.is_available() else \"cpu\")\n",
    "model = model.to(device)\n",
    "\n",
    "print(f\"Model created with {sum(p.numel() for p in model.parameters())} parameters\")\n",
    "print(f\"Using device: {device}\")\n",
    "\n",
    "# Print model architecture summary\n",
    "print(\"\\nModel output shape for batch size 1:\")\n",
    "dummy_input = torch.randn(1, 3, 224, 224).to(device)\n",
    "with torch.no_grad():\n",
    "    output = model(dummy_input)\n",
    "    print(f\"Output shape: {output.shape}\")  # Should be [1, 9]"
   ]
  },
  {
   "cell_type": "code",
   "execution_count": null,
   "id": "497d4926-412f-430c-8917-63933203db0e",
   "metadata": {
    "execution": {
     "iopub.execute_input": "2025-03-09T08:37:48.630472Z",
     "iopub.status.busy": "2025-03-09T08:37:48.630189Z",
     "iopub.status.idle": "2025-03-09T08:37:48.635352Z",
     "shell.execute_reply": "2025-03-09T08:37:48.634565Z",
     "shell.execute_reply.started": "2025-03-09T08:37:48.630451Z"
    },
    "id": "497d4926-412f-430c-8917-63933203db0e",
    "trusted": true
   },
   "outputs": [],
   "source": [
    "criterion = nn.BCEWithLogitsLoss()\n",
    "\n",
    "optimizer = torch.optim.Adam(model.parameters(), lr=1e-4, weight_decay=1e-5)\n",
    "\n",
    "scheduler = torch.optim.lr_scheduler.ReduceLROnPlateau(\n",
    "    optimizer, mode='min', factor=0.5, patience=3, verbose=True\n",
    ")\n",
    "\n",
    "print(\"Loss function: BCEWithLogitsLoss (suitable for multi-label)\")\n",
    "print(\"Optimizer: Adam with weight decay\")\n",
    "print(\"Scheduler: ReduceLROnPlateau\")"
   ]
  },
  {
   "cell_type": "code",
   "execution_count": null,
   "id": "b6d6e3c5-1777-4111-93e0-011a2ecc8ad8",
   "metadata": {
    "execution": {
     "iopub.execute_input": "2025-03-09T08:37:49.856335Z",
     "iopub.status.busy": "2025-03-09T08:37:49.856027Z",
     "iopub.status.idle": "2025-03-09T08:37:49.861461Z",
     "shell.execute_reply": "2025-03-09T08:37:49.860719Z",
     "shell.execute_reply.started": "2025-03-09T08:37:49.856312Z"
    },
    "id": "b6d6e3c5-1777-4111-93e0-011a2ecc8ad8",
    "trusted": true
   },
   "outputs": [],
   "source": [
    "def train_model(model, dataloader, criterion, optimizer, scheduler, epochs=10):\n",
    "    device = torch.device(\"cuda\" if torch.cuda.is_available() else \"cpu\")\n",
    "    model.train()\n",
    "    \n",
    "    # Disease class names for monitoring\n",
    "    disease_names = [\n",
    "        'Atelectasis', 'Cardiomegaly', 'Consolidation', 'Edema',\n",
    "        'Enlarged Cardio mediastinum', 'Fracture', 'Lung Lesion',\n",
    "        'Lung Opacity', 'No Finding'\n",
    "    ]\n",
    "\n",
    "    for epoch in range(epochs):\n",
    "        running_loss = 0.0\n",
    "        correct_predictions = torch.zeros(9)  # Track accuracy per class\n",
    "        total_predictions = 0\n",
    "        \n",
    "        for batch_idx, (images, labels) in enumerate(dataloader):\n",
    "            images, labels = images.to(device), labels.to(device)\n",
    "            \n",
    "            optimizer.zero_grad()\n",
    "            outputs = model(images)\n",
    "            loss = criterion(outputs, labels)\n",
    "            loss.backward()\n",
    "            optimizer.step()\n",
    "            \n",
    "            running_loss += loss.item()\n",
    "            \n",
    "            # Calculate accuracy for each class\n",
    "            predictions = torch.sigmoid(outputs) > 0.5\n",
    "            correct_predictions += (predictions == labels.bool()).sum(dim=0).cpu()\n",
    "            total_predictions += labels.size(0)\n",
    "            \n",
    "            # Print progress every 50 batches\n",
    "            if batch_idx % 50 == 0:\n",
    "                print(f'Epoch {epoch+1}, Batch {batch_idx}, Loss: {loss.item():.4f}')\n",
    "        \n",
    "        # Calculate epoch metrics\n",
    "        epoch_loss = running_loss / len(dataloader)\n",
    "        class_accuracies = correct_predictions / total_predictions\n",
    "        \n",
    "        print(f\"\\nEpoch {epoch+1}/{epochs}\")\n",
    "        print(f\"Average Loss: {epoch_loss:.4f}\")\n",
    "        print(\"Class Accuracies:\")\n",
    "        for i, (name, acc) in enumerate(zip(disease_names, class_accuracies)):\n",
    "            print(f\"  {name}: {acc:.4f}\")\n",
    "        \n",
    "        # Update learning rate\n",
    "        scheduler.step(epoch_loss)\n",
    "        print(f\"Current LR: {optimizer.param_groups[0]['lr']:.6f}\")\n",
    "        print(\"-\" * 50)"
   ]
  },
  {
   "cell_type": "code",
   "execution_count": null,
   "id": "d9133d8b-f550-4c3a-9e95-b7acb6f5364e",
   "metadata": {
    "colab": {
     "base_uri": "https://localhost:8080/"
    },
    "execution": {
     "iopub.execute_input": "2025-03-09T08:37:50.559630Z",
     "iopub.status.busy": "2025-03-09T08:37:50.559370Z"
    },
    "id": "d9133d8b-f550-4c3a-9e95-b7acb6f5364e",
    "outputId": "6c3973f6-241e-403c-c50f-555f717b100b",
    "trusted": true
   },
   "outputs": [
    {
     "name": "stdout",
     "output_type": "stream",
     "text": [
      "Epoch 1, Loss: 0.8753\n"
     ]
    }
   ],
   "source": [
    "train_model(model, train_loader, criterion, optimizer, scheduler, epochs=15)"
   ]
  },
  {
   "cell_type": "code",
   "execution_count": null,
   "id": "efc7d9c7-e9c2-4e49-a12a-3b8ea2124e5c",
   "metadata": {
    "execution": {
     "iopub.execute_input": "2025-03-09T08:19:01.679408Z",
     "iopub.status.busy": "2025-03-09T08:19:01.679108Z",
     "iopub.status.idle": "2025-03-09T08:19:01.772994Z",
     "shell.execute_reply": "2025-03-09T08:19:01.772317Z",
     "shell.execute_reply.started": "2025-03-09T08:19:01.679387Z"
    },
    "id": "efc7d9c7-e9c2-4e49-a12a-3b8ea2124e5c",
    "trusted": true
   },
   "outputs": [],
   "source": [
    "torch.save(model.state_dict(), \"convnextv2_chest_disease_model.pth\")\n",
    "print(\"Model saved as 'convnextv2_chest_disease_model.pth'\")"
   ]
  },
  {
   "cell_type": "markdown",
   "id": "13435df5-f254-421e-b5cd-9373a022e9f1",
   "metadata": {},
   "source": [
    "# Multi-Label Prediction Pipeline\n",
    "\n",
    "This section implements prediction for the 9 chest disease classes. The model outputs probabilities for each class, and we can set different thresholds for each class or use a global threshold of 0.5."
   ]
  },
  {
   "cell_type": "code",
   "execution_count": 87,
   "id": "78a777b6-4d64-4780-b609-dfa426669de3",
   "metadata": {
    "execution": {
     "iopub.execute_input": "2025-03-09T08:19:21.744522Z",
     "iopub.status.busy": "2025-03-09T08:19:21.744239Z",
     "iopub.status.idle": "2025-03-09T08:19:21.748547Z",
     "shell.execute_reply": "2025-03-09T08:19:21.747655Z",
     "shell.execute_reply.started": "2025-03-09T08:19:21.744501Z"
    },
    "trusted": true
   },
   "outputs": [],
   "source": [
    "test_transform = transforms.Compose([\n",
    "    transforms.Resize((224, 224)),\n",
    "    transforms.ToTensor(),\n",
    "    transforms.Normalize(mean=[0.5, 0.5, 0.5], std=[0.5, 0.5, 0.5])\n",
    "])"
   ]
  },
  {
   "cell_type": "code",
   "execution_count": null,
   "id": "d9f00221-38cc-42c7-8849-d2eca0451523",
   "metadata": {
    "execution": {
     "iopub.execute_input": "2025-03-09T08:19:24.848830Z",
     "iopub.status.busy": "2025-03-09T08:19:24.848554Z",
     "iopub.status.idle": "2025-03-09T08:19:24.855446Z",
     "shell.execute_reply": "2025-03-09T08:19:24.854561Z",
     "shell.execute_reply.started": "2025-03-09T08:19:24.848808Z"
    },
    "id": "d9f00221-38cc-42c7-8849-d2eca0451523",
    "trusted": true
   },
   "outputs": [],
   "source": [
    "import torch\n",
    "import os\n",
    "import pandas as pd\n",
    "from PIL import Image\n",
    "from torchvision import transforms\n",
    "\n",
    "def predict(model, test_folder, output_csv, threshold=0.5):\n",
    "    device = torch.device(\"cuda\" if torch.cuda.is_available() else \"cpu\")\n",
    "    model.to(device)\n",
    "    model.eval()\n",
    "    \n",
    "    # Disease class names\n",
    "    disease_columns = [\n",
    "        'Atelectasis', 'Cardiomegaly', 'Consolidation', 'Edema',\n",
    "        'Enlarged Cardio mediastinum', 'Fracture', 'Lung Lesion',\n",
    "        'Lung Opacity', 'No Finding'\n",
    "    ]\n",
    "    \n",
    "    test_images = [f for f in os.listdir(test_folder) if f.lower().endswith(('png', 'jpg', 'jpeg'))]\n",
    "    results = []\n",
    "\n",
    "    with torch.no_grad():\n",
    "        for img_name in test_images:\n",
    "            img_path = os.path.join(test_folder, img_name)\n",
    "            image = Image.open(img_path).convert('RGB')\n",
    "            image = test_transform(image).unsqueeze(0).to(device)\n",
    "            \n",
    "            # Get model output and apply sigmoid\n",
    "            outputs = model(image)\n",
    "            probabilities = torch.sigmoid(outputs).cpu().numpy()[0]\n",
    "            \n",
    "            # Convert probabilities to binary predictions using threshold\n",
    "            predictions = (probabilities > threshold).astype(int)\n",
    "            \n",
    "            # Create result row: image_id + 9 class predictions\n",
    "            result_row = [os.path.splitext(img_name)[0]] + predictions.tolist()\n",
    "            results.append(result_row)\n",
    "            \n",
    "            # Print sample prediction for debugging\n",
    "            if len(results) <= 3:\n",
    "                print(f\"Image: {img_name}\")\n",
    "                print(\"Probabilities:\")\n",
    "                for disease, prob in zip(disease_columns, probabilities):\n",
    "                    print(f\"  {disease}: {prob:.4f}\")\n",
    "                print(\"Predictions:\", predictions)\n",
    "                print(\"-\" * 30)\n",
    "\n",
    "    # Create DataFrame with proper column names\n",
    "    columns = ['id'] + disease_columns\n",
    "    df = pd.DataFrame(results, columns=columns)\n",
    "    df.to_csv(output_csv, index=False)\n",
    "    \n",
    "    print(f\"\\nPredictions saved to {output_csv}\")\n",
    "    print(f\"Total images processed: {len(test_images)}\")\n",
    "    print(f\"Columns in output: {list(df.columns)}\")\n",
    "    \n",
    "    # Show prediction statistics\n",
    "    print(\"\\nPrediction Statistics:\")\n",
    "    for disease in disease_columns:\n",
    "        positive_count = df[disease].sum()\n",
    "        print(f\"  {disease}: {positive_count} positive predictions ({positive_count/len(df)*100:.1f}%)\")\n",
    "    \n",
    "    return df"
   ]
  },
  {
   "cell_type": "code",
   "execution_count": null,
   "id": "eb3aa040-a2cb-45f9-972a-3a85fb115584",
   "metadata": {
    "colab": {
     "base_uri": "https://localhost:8080/"
    },
    "execution": {
     "iopub.execute_input": "2025-03-09T08:19:31.022033Z",
     "iopub.status.busy": "2025-03-09T08:19:31.021703Z",
     "iopub.status.idle": "2025-03-09T08:19:52.459573Z",
     "shell.execute_reply": "2025-03-09T08:19:52.458667Z",
     "shell.execute_reply.started": "2025-03-09T08:19:31.021969Z"
    },
    "id": "eb3aa040-a2cb-45f9-972a-3a85fb115584",
    "outputId": "4fd6fcc2-e48d-4b40-ce5c-0105ad6e367a",
    "trusted": true
   },
   "outputs": [
    {
     "name": "stdout",
     "output_type": "stream",
     "text": [
      "Predictions saved to vit_pwee_base_submission.csv\n"
     ]
    }
   ],
   "source": [
    "prediction_df = predict_chest_diseases(model, \"test/\", \"chest_disease_predictions.csv\", threshold=0.5)\n",
    "\n",
    "# Display first few predictions\n",
    "print(\"First 5 predictions:\")\n",
    "print(prediction_df.head())"
   ]
  },
  {
   "cell_type": "code",
   "execution_count": null,
   "id": "62f65f17-16cc-424d-ae41-0b34eb81f826",
   "metadata": {
    "trusted": true
   },
   "outputs": [],
   "source": [
    "# Additional utility functions for analysis\n",
    "\n",
    "def analyze_predictions(df):\n",
    "    \"\"\"Analyze the prediction results\"\"\"\n",
    "    disease_columns = [\n",
    "        'Atelectasis', 'Cardiomegaly', 'Consolidation', 'Edema',\n",
    "        'Enlarged Cardio mediastinum', 'Fracture', 'Lung Lesion',\n",
    "        'Lung Opacity', 'No Finding'\n",
    "    ]\n",
    "    \n",
    "    print(\"=== Prediction Analysis ===\")\n",
    "    print(f\"Total images: {len(df)}\")\n",
    "    print(f\"Average diseases per image: {df[disease_columns].sum(axis=1).mean():.2f}\")\n",
    "    \n",
    "    # Check for images with no findings\n",
    "    no_disease_images = df[df[disease_columns].sum(axis=1) == 0]\n",
    "    print(f\"Images with no predicted diseases: {len(no_disease_images)}\")\n",
    "    \n",
    "    # Check for images with multiple diseases\n",
    "    multiple_disease_images = df[df[disease_columns].sum(axis=1) > 1]\n",
    "    print(f\"Images with multiple diseases: {len(multiple_disease_images)}\")\n",
    "    \n",
    "    return df\n",
    "\n",
    "def predict_single_image(model, image_path, disease_columns):\n",
    "    \"\"\"Predict diseases for a single image\"\"\"\n",
    "    device = torch.device(\"cuda\" if torch.cuda.is_available() else \"cpu\")\n",
    "    model.eval()\n",
    "    \n",
    "    image = Image.open(image_path).convert('RGB')\n",
    "    image = test_transform(image).unsqueeze(0).to(device)\n",
    "    \n",
    "    with torch.no_grad():\n",
    "        outputs = model(image)\n",
    "        probabilities = torch.sigmoid(outputs).cpu().numpy()[0]\n",
    "    \n",
    "    print(f\"Predictions for {image_path}:\")\n",
    "    for disease, prob in zip(disease_columns, probabilities):\n",
    "        status = \"✓\" if prob > 0.5 else \"✗\"\n",
    "        print(f\"  {status} {disease}: {prob:.4f}\")\n",
    "    \n",
    "    return probabilities\n",
    "\n",
    "# Example usage (uncomment to test on a single image):\n",
    "# disease_columns = ['Atelectasis', 'Cardiomegaly', 'Consolidation', 'Edema',\n",
    "#                   'Enlarged Cardio mediastinum', 'Fracture', 'Lung Lesion',\n",
    "#                   'Lung Opacity', 'No Finding']\n",
    "# predict_single_image(model, \"test/sample_image.jpg\", disease_columns)"
   ]
  }
 ],
 "metadata": {
  "accelerator": "GPU",
  "colab": {
   "gpuType": "A100",
   "machine_shape": "hm",
   "provenance": []
  },
  "kaggle": {
   "accelerator": "nvidiaTeslaT4",
   "dataSources": [
    {
     "databundleVersionId": 11337137,
     "sourceId": 92851,
     "sourceType": "competition"
    }
   ],
   "dockerImageVersionId": 30919,
   "isGpuEnabled": true,
   "isInternetEnabled": true,
   "language": "python",
   "sourceType": "notebook"
  },
  "kernelspec": {
   "display_name": "Python 3",
   "language": "python",
   "name": "python3"
  },
  "language_info": {
   "codemirror_mode": {
    "name": "ipython",
    "version": 3
   },
   "file_extension": ".py",
   "mimetype": "text/x-python",
   "name": "python",
   "nbconvert_exporter": "python",
   "pygments_lexer": "ipython3",
   "version": "3.10.12"
  },
  "widgets": {
   "application/vnd.jupyter.widget-state+json": {
    "02ffa35293454cc8b4a82cb3a00c8997": {
     "model_module": "@jupyter-widgets/controls",
     "model_module_version": "1.5.0",
     "model_name": "DescriptionStyleModel",
     "state": {
      "_model_module": "@jupyter-widgets/controls",
      "_model_module_version": "1.5.0",
      "_model_name": "DescriptionStyleModel",
      "_view_count": null,
      "_view_module": "@jupyter-widgets/base",
      "_view_module_version": "1.2.0",
      "_view_name": "StyleView",
      "description_width": ""
     }
    },
    "03b82487b20d4d1e95fcfcec58bcceb7": {
     "model_module": "@jupyter-widgets/controls",
     "model_module_version": "1.5.0",
     "model_name": "FloatProgressModel",
     "state": {
      "_dom_classes": [],
      "_model_module": "@jupyter-widgets/controls",
      "_model_module_version": "1.5.0",
      "_model_name": "FloatProgressModel",
      "_view_count": null,
      "_view_module": "@jupyter-widgets/controls",
      "_view_module_version": "1.5.0",
      "_view_name": "ProgressView",
      "bar_style": "success",
      "description": "",
      "description_tooltip": null,
      "layout": "IPY_MODEL_3692cc4cc5354a0db0bd91d2d9a09ec6",
      "max": 352685652,
      "min": 0,
      "orientation": "horizontal",
      "style": "IPY_MODEL_07b5b39df8e44487b0079d7b4ec9fa73",
      "value": 352685652
     }
    },
    "03d5f0faa88040ee8cdcda379e0f2d37": {
     "model_module": "@jupyter-widgets/controls",
     "model_module_version": "1.5.0",
     "model_name": "HBoxModel",
     "state": {
      "_dom_classes": [],
      "_model_module": "@jupyter-widgets/controls",
      "_model_module_version": "1.5.0",
      "_model_name": "HBoxModel",
      "_view_count": null,
      "_view_module": "@jupyter-widgets/controls",
      "_view_module_version": "1.5.0",
      "_view_name": "HBoxView",
      "box_style": "",
      "children": [
       "IPY_MODEL_2b358303f6774b41aad1aa3843b7bc72",
       "IPY_MODEL_03b82487b20d4d1e95fcfcec58bcceb7",
       "IPY_MODEL_2761b466f39d471bbe6429778ffde4c0"
      ],
      "layout": "IPY_MODEL_1a45414381e04da79dc6450dab3aaeba"
     }
    },
    "07b5b39df8e44487b0079d7b4ec9fa73": {
     "model_module": "@jupyter-widgets/controls",
     "model_module_version": "1.5.0",
     "model_name": "ProgressStyleModel",
     "state": {
      "_model_module": "@jupyter-widgets/controls",
      "_model_module_version": "1.5.0",
      "_model_name": "ProgressStyleModel",
      "_view_count": null,
      "_view_module": "@jupyter-widgets/base",
      "_view_module_version": "1.2.0",
      "_view_name": "StyleView",
      "bar_color": null,
      "description_width": ""
     }
    },
    "1a45414381e04da79dc6450dab3aaeba": {
     "model_module": "@jupyter-widgets/base",
     "model_module_version": "1.2.0",
     "model_name": "LayoutModel",
     "state": {
      "_model_module": "@jupyter-widgets/base",
      "_model_module_version": "1.2.0",
      "_model_name": "LayoutModel",
      "_view_count": null,
      "_view_module": "@jupyter-widgets/base",
      "_view_module_version": "1.2.0",
      "_view_name": "LayoutView",
      "align_content": null,
      "align_items": null,
      "align_self": null,
      "border": null,
      "bottom": null,
      "display": null,
      "flex": null,
      "flex_flow": null,
      "grid_area": null,
      "grid_auto_columns": null,
      "grid_auto_flow": null,
      "grid_auto_rows": null,
      "grid_column": null,
      "grid_gap": null,
      "grid_row": null,
      "grid_template_areas": null,
      "grid_template_columns": null,
      "grid_template_rows": null,
      "height": null,
      "justify_content": null,
      "justify_items": null,
      "left": null,
      "margin": null,
      "max_height": null,
      "max_width": null,
      "min_height": null,
      "min_width": null,
      "object_fit": null,
      "object_position": null,
      "order": null,
      "overflow": null,
      "overflow_x": null,
      "overflow_y": null,
      "padding": null,
      "right": null,
      "top": null,
      "visibility": null,
      "width": null
     }
    },
    "2761b466f39d471bbe6429778ffde4c0": {
     "model_module": "@jupyter-widgets/controls",
     "model_module_version": "1.5.0",
     "model_name": "HTMLModel",
     "state": {
      "_dom_classes": [],
      "_model_module": "@jupyter-widgets/controls",
      "_model_module_version": "1.5.0",
      "_model_name": "HTMLModel",
      "_view_count": null,
      "_view_module": "@jupyter-widgets/controls",
      "_view_module_version": "1.5.0",
      "_view_name": "HTMLView",
      "description": "",
      "description_tooltip": null,
      "layout": "IPY_MODEL_57b8849566c14d23b569974b688edbdb",
      "placeholder": "​",
      "style": "IPY_MODEL_02ffa35293454cc8b4a82cb3a00c8997",
      "value": " 353M/353M [00:01&lt;00:00, 253MB/s]"
     }
    },
    "2b358303f6774b41aad1aa3843b7bc72": {
     "model_module": "@jupyter-widgets/controls",
     "model_module_version": "1.5.0",
     "model_name": "HTMLModel",
     "state": {
      "_dom_classes": [],
      "_model_module": "@jupyter-widgets/controls",
      "_model_module_version": "1.5.0",
      "_model_name": "HTMLModel",
      "_view_count": null,
      "_view_module": "@jupyter-widgets/controls",
      "_view_module_version": "1.5.0",
      "_view_name": "HTMLView",
      "description": "",
      "description_tooltip": null,
      "layout": "IPY_MODEL_fc6395e7df9546298399e118f4a198dc",
      "placeholder": "​",
      "style": "IPY_MODEL_f8f71b829a9f4391b9a97010ffa42564",
      "value": "model.safetensors: 100%"
     }
    },
    "3692cc4cc5354a0db0bd91d2d9a09ec6": {
     "model_module": "@jupyter-widgets/base",
     "model_module_version": "1.2.0",
     "model_name": "LayoutModel",
     "state": {
      "_model_module": "@jupyter-widgets/base",
      "_model_module_version": "1.2.0",
      "_model_name": "LayoutModel",
      "_view_count": null,
      "_view_module": "@jupyter-widgets/base",
      "_view_module_version": "1.2.0",
      "_view_name": "LayoutView",
      "align_content": null,
      "align_items": null,
      "align_self": null,
      "border": null,
      "bottom": null,
      "display": null,
      "flex": null,
      "flex_flow": null,
      "grid_area": null,
      "grid_auto_columns": null,
      "grid_auto_flow": null,
      "grid_auto_rows": null,
      "grid_column": null,
      "grid_gap": null,
      "grid_row": null,
      "grid_template_areas": null,
      "grid_template_columns": null,
      "grid_template_rows": null,
      "height": null,
      "justify_content": null,
      "justify_items": null,
      "left": null,
      "margin": null,
      "max_height": null,
      "max_width": null,
      "min_height": null,
      "min_width": null,
      "object_fit": null,
      "object_position": null,
      "order": null,
      "overflow": null,
      "overflow_x": null,
      "overflow_y": null,
      "padding": null,
      "right": null,
      "top": null,
      "visibility": null,
      "width": null
     }
    },
    "57b8849566c14d23b569974b688edbdb": {
     "model_module": "@jupyter-widgets/base",
     "model_module_version": "1.2.0",
     "model_name": "LayoutModel",
     "state": {
      "_model_module": "@jupyter-widgets/base",
      "_model_module_version": "1.2.0",
      "_model_name": "LayoutModel",
      "_view_count": null,
      "_view_module": "@jupyter-widgets/base",
      "_view_module_version": "1.2.0",
      "_view_name": "LayoutView",
      "align_content": null,
      "align_items": null,
      "align_self": null,
      "border": null,
      "bottom": null,
      "display": null,
      "flex": null,
      "flex_flow": null,
      "grid_area": null,
      "grid_auto_columns": null,
      "grid_auto_flow": null,
      "grid_auto_rows": null,
      "grid_column": null,
      "grid_gap": null,
      "grid_row": null,
      "grid_template_areas": null,
      "grid_template_columns": null,
      "grid_template_rows": null,
      "height": null,
      "justify_content": null,
      "justify_items": null,
      "left": null,
      "margin": null,
      "max_height": null,
      "max_width": null,
      "min_height": null,
      "min_width": null,
      "object_fit": null,
      "object_position": null,
      "order": null,
      "overflow": null,
      "overflow_x": null,
      "overflow_y": null,
      "padding": null,
      "right": null,
      "top": null,
      "visibility": null,
      "width": null
     }
    },
    "f8f71b829a9f4391b9a97010ffa42564": {
     "model_module": "@jupyter-widgets/controls",
     "model_module_version": "1.5.0",
     "model_name": "DescriptionStyleModel",
     "state": {
      "_model_module": "@jupyter-widgets/controls",
      "_model_module_version": "1.5.0",
      "_model_name": "DescriptionStyleModel",
      "_view_count": null,
      "_view_module": "@jupyter-widgets/base",
      "_view_module_version": "1.2.0",
      "_view_name": "StyleView",
      "description_width": ""
     }
    },
    "fc6395e7df9546298399e118f4a198dc": {
     "model_module": "@jupyter-widgets/base",
     "model_module_version": "1.2.0",
     "model_name": "LayoutModel",
     "state": {
      "_model_module": "@jupyter-widgets/base",
      "_model_module_version": "1.2.0",
      "_model_name": "LayoutModel",
      "_view_count": null,
      "_view_module": "@jupyter-widgets/base",
      "_view_module_version": "1.2.0",
      "_view_name": "LayoutView",
      "align_content": null,
      "align_items": null,
      "align_self": null,
      "border": null,
      "bottom": null,
      "display": null,
      "flex": null,
      "flex_flow": null,
      "grid_area": null,
      "grid_auto_columns": null,
      "grid_auto_flow": null,
      "grid_auto_rows": null,
      "grid_column": null,
      "grid_gap": null,
      "grid_row": null,
      "grid_template_areas": null,
      "grid_template_columns": null,
      "grid_template_rows": null,
      "height": null,
      "justify_content": null,
      "justify_items": null,
      "left": null,
      "margin": null,
      "max_height": null,
      "max_width": null,
      "min_height": null,
      "min_width": null,
      "object_fit": null,
      "object_position": null,
      "order": null,
      "overflow": null,
      "overflow_x": null,
      "overflow_y": null,
      "padding": null,
      "right": null,
      "top": null,
      "visibility": null,
      "width": null
     }
    }
   }
  }
 },
 "nbformat": 4,
 "nbformat_minor": 5
}
