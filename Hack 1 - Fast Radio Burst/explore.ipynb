{
 "cells": [
  {
   "cell_type": "code",
   "execution_count": 9,
   "id": "15c9bcab",
   "metadata": {},
   "outputs": [],
   "source": [
    "import pandas as pd\n",
    "\n",
    "df1 = pd.read_csv(\"iwillwinnow.csv\")\n",
    "\n",
    "df2 = pd.read_csv(\"second_sub.csv\")"
   ]
  },
  {
   "cell_type": "code",
   "execution_count": 10,
   "id": "73d777d0",
   "metadata": {},
   "outputs": [
    {
     "data": {
      "application/vnd.microsoft.datawrangler.viewer.v0+json": {
       "columns": [
        {
         "name": "('pulse', 'broad', 'narrow')",
         "rawType": "object",
         "type": "unknown"
        },
        {
         "name": "count",
         "rawType": "int64",
         "type": "integer"
        }
       ],
       "ref": "33195da3-57f0-45f4-b1d8-ccaa55b0b83a",
       "rows": [
        [
         "(0, 0, 0)",
         "27170"
        ],
        [
         "(1, 0, 0)",
         "381"
        ],
        [
         "(0, 0, 1)",
         "257"
        ],
        [
         "(0, 1, 1)",
         "242"
        ],
        [
         "(0, 1, 0)",
         "33"
        ],
        [
         "(1, 1, 0)",
         "14"
        ],
        [
         "(1, 1, 1)",
         "8"
        ],
        [
         "(1, 0, 1)",
         "3"
        ]
       ],
       "shape": {
        "columns": 1,
        "rows": 8
       }
      },
      "text/plain": [
       "pulse  broad  narrow\n",
       "0      0      0         27170\n",
       "1      0      0           381\n",
       "0      0      1           257\n",
       "       1      1           242\n",
       "              0            33\n",
       "1      1      0            14\n",
       "              1             8\n",
       "       0      1             3\n",
       "Name: count, dtype: int64"
      ]
     },
     "execution_count": 10,
     "metadata": {},
     "output_type": "execute_result"
    }
   ],
   "source": [
    "df1[['pulse', 'broad', 'narrow']].value_counts()"
   ]
  },
  {
   "cell_type": "code",
   "execution_count": 11,
   "id": "bfbe4f7c",
   "metadata": {},
   "outputs": [
    {
     "data": {
      "application/vnd.microsoft.datawrangler.viewer.v0+json": {
       "columns": [
        {
         "name": "('pulse', 'broad', 'narrow')",
         "rawType": "object",
         "type": "unknown"
        },
        {
         "name": "count",
         "rawType": "int64",
         "type": "integer"
        }
       ],
       "ref": "2a1a1d21-8757-4e7a-b1c2-7f3b0126d381",
       "rows": [
        [
         "(0, 0, 1)",
         "22961"
        ],
        [
         "(1, 0, 0)",
         "3253"
        ],
        [
         "(0, 0, 0)",
         "1232"
        ],
        [
         "(0, 1, 0)",
         "354"
        ],
        [
         "(1, 0, 1)",
         "308"
        ]
       ],
       "shape": {
        "columns": 1,
        "rows": 5
       }
      },
      "text/plain": [
       "pulse  broad  narrow\n",
       "0      0      1         22961\n",
       "1      0      0          3253\n",
       "0      0      0          1232\n",
       "       1      0           354\n",
       "1      0      1           308\n",
       "Name: count, dtype: int64"
      ]
     },
     "execution_count": 11,
     "metadata": {},
     "output_type": "execute_result"
    }
   ],
   "source": [
    "df2[['pulse', 'broad', 'narrow']].value_counts()"
   ]
  },
  {
   "cell_type": "code",
   "execution_count": null,
   "id": "25cffc92",
   "metadata": {},
   "outputs": [],
   "source": []
  }
 ],
 "metadata": {
  "kernelspec": {
   "display_name": "Python 3",
   "language": "python",
   "name": "python3"
  },
  "language_info": {
   "codemirror_mode": {
    "name": "ipython",
    "version": 3
   },
   "file_extension": ".py",
   "mimetype": "text/x-python",
   "name": "python",
   "nbconvert_exporter": "python",
   "pygments_lexer": "ipython3",
   "version": "3.12.6"
  }
 },
 "nbformat": 4,
 "nbformat_minor": 5
}
