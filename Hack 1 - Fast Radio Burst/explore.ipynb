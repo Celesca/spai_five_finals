{
 "cells": [
  {
   "cell_type": "code",
   "execution_count": 6,
   "id": "15c9bcab",
   "metadata": {},
   "outputs": [],
   "source": [
    "import pandas as pd\n",
    "\n",
    "df1 = pd.read_csv(\"iwillwinnow.csv\")\n",
    "\n",
    "df2 = pd.read_csv(\"first_sub.csv\")"
   ]
  },
  {
   "cell_type": "code",
   "execution_count": 7,
   "id": "73d777d0",
   "metadata": {},
   "outputs": [
    {
     "data": {
      "application/vnd.microsoft.datawrangler.viewer.v0+json": {
       "columns": [
        {
         "name": "('pulse', 'broad', 'narrow')",
         "rawType": "object",
         "type": "unknown"
        },
        {
         "name": "count",
         "rawType": "int64",
         "type": "integer"
        }
       ],
       "ref": "92943836-80d7-401b-81c1-04161cc6cc14",
       "rows": [
        [
         "(0, 0, 0)",
         "27170"
        ],
        [
         "(1, 0, 0)",
         "381"
        ],
        [
         "(0, 0, 1)",
         "257"
        ],
        [
         "(0, 1, 1)",
         "242"
        ],
        [
         "(0, 1, 0)",
         "33"
        ],
        [
         "(1, 1, 0)",
         "14"
        ],
        [
         "(1, 1, 1)",
         "8"
        ],
        [
         "(1, 0, 1)",
         "3"
        ]
       ],
       "shape": {
        "columns": 1,
        "rows": 8
       }
      },
      "text/plain": [
       "pulse  broad  narrow\n",
       "0      0      0         27170\n",
       "1      0      0           381\n",
       "0      0      1           257\n",
       "       1      1           242\n",
       "              0            33\n",
       "1      1      0            14\n",
       "              1             8\n",
       "       0      1             3\n",
       "Name: count, dtype: int64"
      ]
     },
     "execution_count": 7,
     "metadata": {},
     "output_type": "execute_result"
    }
   ],
   "source": [
    "df1[['pulse', 'broad', 'narrow']].value_counts()"
   ]
  },
  {
   "cell_type": "code",
   "execution_count": 8,
   "id": "bfbe4f7c",
   "metadata": {},
   "outputs": [
    {
     "data": {
      "application/vnd.microsoft.datawrangler.viewer.v0+json": {
       "columns": [
        {
         "name": "('pulse', 'broad', 'narrow')",
         "rawType": "object",
         "type": "unknown"
        },
        {
         "name": "count",
         "rawType": "int64",
         "type": "integer"
        }
       ],
       "ref": "a0b769f7-ce43-4046-9614-5c0d5de90c61",
       "rows": [
        [
         "(0, 0, 1)",
         "23252"
        ],
        [
         "(0, 0, 0)",
         "3646"
        ],
        [
         "(0, 1, 0)",
         "713"
        ],
        [
         "(1, 0, 0)",
         "497"
        ]
       ],
       "shape": {
        "columns": 1,
        "rows": 4
       }
      },
      "text/plain": [
       "pulse  broad  narrow\n",
       "0      0      1         23252\n",
       "              0          3646\n",
       "       1      0           713\n",
       "1      0      0           497\n",
       "Name: count, dtype: int64"
      ]
     },
     "execution_count": 8,
     "metadata": {},
     "output_type": "execute_result"
    }
   ],
   "source": [
    "df2[['pulse', 'broad', 'narrow']].value_counts()"
   ]
  },
  {
   "cell_type": "code",
   "execution_count": null,
   "id": "25cffc92",
   "metadata": {},
   "outputs": [],
   "source": []
  }
 ],
 "metadata": {
  "kernelspec": {
   "display_name": "Python 3",
   "language": "python",
   "name": "python3"
  },
  "language_info": {
   "codemirror_mode": {
    "name": "ipython",
    "version": 3
   },
   "file_extension": ".py",
   "mimetype": "text/x-python",
   "name": "python",
   "nbconvert_exporter": "python",
   "pygments_lexer": "ipython3",
   "version": "3.12.6"
  }
 },
 "nbformat": 4,
 "nbformat_minor": 5
}
