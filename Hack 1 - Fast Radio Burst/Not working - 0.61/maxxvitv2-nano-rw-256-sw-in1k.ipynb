{
 "cells": [
  {
   "cell_type": "code",
   "execution_count": 1,
   "id": "abc13675",
   "metadata": {
    "_cell_guid": "b1076dfc-b9ad-4769-8c92-a6c4dae69d19",
    "_uuid": "8f2839f25d086af736a60e9eeb907d3b93b6e0e5",
    "execution": {
     "iopub.execute_input": "2025-02-08T19:16:51.731115Z",
     "iopub.status.busy": "2025-02-08T19:16:51.730796Z",
     "iopub.status.idle": "2025-02-08T19:17:27.617532Z",
     "shell.execute_reply": "2025-02-08T19:17:27.616784Z"
    },
    "papermill": {
     "duration": 35.891886,
     "end_time": "2025-02-08T19:17:27.619080",
     "exception": false,
     "start_time": "2025-02-08T19:16:51.727194",
     "status": "completed"
    },
    "tags": []
   },
   "outputs": [],
   "source": [
    "import os\n",
    "import json\n",
    "import cv2\n",
    "import torch\n",
    "import random\n",
    "import scipy\n",
    "import pandas as pd\n",
    "import matplotlib.pyplot as plt\n",
    "import numpy as np\n",
    "from scipy import fftpack as fft\n",
    "from PIL import Image, ImageOps\n",
    "from tqdm import tqdm\n",
    "from torch.utils.data import Dataset, DataLoader\n",
    "from torch import nn\n",
    "from timm.scheduler.cosine_lr import CosineLRScheduler\n",
    "import tensorflow as tf\n",
    "from sklearn.model_selection import train_test_split\n",
    "from sklearn.metrics import classification_report\n",
    "import torchvision.transforms as T\n",
    "from timm.models import maxxvit"
   ]
  },
  {
   "cell_type": "code",
   "execution_count": 2,
   "id": "5f3fe6a2",
   "metadata": {
    "execution": {
     "iopub.execute_input": "2025-02-08T19:17:27.625565Z",
     "iopub.status.busy": "2025-02-08T19:17:27.625031Z",
     "iopub.status.idle": "2025-02-08T19:29:10.589263Z",
     "shell.execute_reply": "2025-02-08T19:29:10.588341Z"
    },
    "papermill": {
     "duration": 702.971191,
     "end_time": "2025-02-08T19:29:10.593290",
     "exception": false,
     "start_time": "2025-02-08T19:17:27.622099",
     "status": "completed"
    },
    "tags": []
   },
   "outputs": [
    {
     "name": "stdout",
     "output_type": "stream",
     "text": [
      "                                       index  \\\n",
      "0  B1933_16_59475_68410_reduced_fc_0001023_0   \n",
      "1  B1933_16_59475_68410_reduced_fc_0001023_1   \n",
      "\n",
      "                                               image label  \n",
      "0  /kaggle/working/B1933_16_59475_68410_reduced_f...   NaN  \n",
      "1  /kaggle/working/B1933_16_59475_68410_reduced_f...   NaN  \n"
     ]
    }
   ],
   "source": [
    "# Define the paths\n",
    "train_npy_path = \"/kaggle/input/signal-fast-radio-burst-detection/train/train\"\n",
    "train_csv_path = \"/kaggle/input/signal-fast-radio-burst-detection/train-labels-corrected/train\"\n",
    "test_npy_path = \"/kaggle/input/signal-fast-radio-burst-detection/test/test\"\n",
    "output_dir = \"/kaggle/working\"\n",
    "train_dir = os.path.join(output_dir, \"train_dir\")\n",
    "#val_dir = os.path.join(output_dir, \"val_dir\")\n",
    "test_dir = os.path.join(output_dir, \"test_dir\")\n",
    "\n",
    "# Create output directories\n",
    "os.makedirs(train_dir, exist_ok=True)\n",
    "#os.makedirs(val_dir, exist_ok=True)\n",
    "os.makedirs(test_dir, exist_ok=True)\n",
    "\n",
    "# Load CSV files\n",
    "csv_files = [f for f in os.listdir(train_csv_path) if f.endswith('.csv')]\n",
    "train_df = pd.DataFrame(columns=['index', 'image', 'label'])\n",
    "\n",
    "# Process each .npy file and corresponding .csv file\n",
    "for csv_file in csv_files:\n",
    "    npy_file = csv_file.replace('_labels.csv', '.npy')\n",
    "    npy_data = np.load(os.path.join(train_npy_path, npy_file))  # Shape: (262144, 256)\n",
    "    csv_data = pd.read_csv(os.path.join(train_csv_path, csv_file))\n",
    "    \n",
    "    # Slice the npy_data into chunks of 256x256\n",
    "    num_chunks = npy_data.shape[0] // 256  # 262144 / 256 = 1024 chunks\n",
    "    for chunk_idx in range(num_chunks):\n",
    "        # Extract a 256x256 chunk\n",
    "        chunk = npy_data[chunk_idx * 256 : (chunk_idx + 1) * 256, :]  # Shape: (256, 256)\n",
    "        \n",
    "        # Save the chunk as an image\n",
    "        image_path = os.path.join(output_dir, f\"{npy_file.replace('+', '_').replace('-', '_').replace('.npy', '')}_{chunk_idx}.jpg\")\n",
    "        plt.imsave(image_path, chunk, cmap='gray')\n",
    "        \n",
    "        # Get the corresponding label from the CSV file\n",
    "        label = csv_data.iloc[chunk_idx]['labels']\n",
    "        \n",
    "        # Append the new row to the DataFrame using pd.concat\n",
    "        new_row = pd.DataFrame([{'index': f\"{npy_file.replace('+', '_').replace('-', '_').replace('.npy', '')}_{chunk_idx}\", 'image': image_path, 'label': label}])\n",
    "        train_df = pd.concat([train_df, new_row], ignore_index=True)\n",
    "\n",
    "train_df.to_csv('/kaggle/working/train_input_df.csv', index=False)\n",
    "# Display the first few rows of the DataFrame\n",
    "print(train_df.head(2))\n"
   ]
  },
  {
   "cell_type": "code",
   "execution_count": 3,
   "id": "86af34b8",
   "metadata": {
    "execution": {
     "iopub.execute_input": "2025-02-08T19:29:10.599157Z",
     "iopub.status.busy": "2025-02-08T19:29:10.598931Z",
     "iopub.status.idle": "2025-02-08T19:29:10.650978Z",
     "shell.execute_reply": "2025-02-08T19:29:10.650127Z"
    },
    "papermill": {
     "duration": 0.056506,
     "end_time": "2025-02-08T19:29:10.652371",
     "exception": false,
     "start_time": "2025-02-08T19:29:10.595865",
     "status": "completed"
    },
    "tags": []
   },
   "outputs": [
    {
     "data": {
      "text/plain": [
       "label\n",
       "Unlabeled        11842\n",
       "Narrow            8582\n",
       "Uncertain         5721\n",
       "Pulse             3847\n",
       "Broad             3201\n",
       "Narrow+Broad       138\n",
       "Narrow+Pulse        60\n",
       "Unknown+Pulse       37\n",
       "Broad+Pulse          9\n",
       "Name: count, dtype: int64"
      ]
     },
     "execution_count": 3,
     "metadata": {},
     "output_type": "execute_result"
    }
   ],
   "source": [
    "train_df[\"label\"].value_counts()"
   ]
  },
  {
   "cell_type": "code",
   "execution_count": 4,
   "id": "f5c4c093",
   "metadata": {
    "execution": {
     "iopub.execute_input": "2025-02-08T19:29:10.658003Z",
     "iopub.status.busy": "2025-02-08T19:29:10.657792Z",
     "iopub.status.idle": "2025-02-08T19:29:11.277330Z",
     "shell.execute_reply": "2025-02-08T19:29:11.276424Z"
    },
    "papermill": {
     "duration": 0.623804,
     "end_time": "2025-02-08T19:29:11.278617",
     "exception": false,
     "start_time": "2025-02-08T19:29:10.654813",
     "status": "completed"
    },
    "tags": []
   },
   "outputs": [
    {
     "data": {
      "image/png": "[encoded data removed]",
      "text/plain": [
       "<Figure size 1000x500 with 1 Axes>"
      ]
     },
     "metadata": {},
     "output_type": "display_data"
    }
   ],
   "source": [
    "# Alternative, slightly more concise approach (but less flexible):\n",
    "plt.figure(figsize=(10, 5)) # Create the figure *before* the hist call\n",
    "train_df['label'].hist()\n",
    "plt.title('Distribution of Labels')\n",
    "plt.xlabel('Label Value')\n",
    "plt.ylabel('Frequency')\n",
    "plt.show()"
   ]
  },
  {
   "cell_type": "code",
   "execution_count": 5,
   "id": "3194c243",
   "metadata": {
    "execution": {
     "iopub.execute_input": "2025-02-08T19:29:11.285421Z",
     "iopub.status.busy": "2025-02-08T19:29:11.285140Z",
     "iopub.status.idle": "2025-02-08T19:29:11.572003Z",
     "shell.execute_reply": "2025-02-08T19:29:11.571248Z"
    },
    "papermill": {
     "duration": 0.29185,
     "end_time": "2025-02-08T19:29:11.573585",
     "exception": false,
     "start_time": "2025-02-08T19:29:11.281735",
     "status": "completed"
    },
    "tags": []
   },
   "outputs": [
    {
     "data": {
      "image/png": "[encoded data removed]",
      "text/plain": [
       "<Figure size 1000x500 with 1 Axes>"
      ]
     },
     "metadata": {},
     "output_type": "display_data"
    }
   ],
   "source": [
    "def drop_unknown_labels(df):\n",
    "    labels_to_drop = [\"Uncertain\", \"Unlabeled\"]\n",
    "    # Use isin() for efficient filtering\n",
    "    mask = train_df['label'].isin(labels_to_drop)\n",
    "    train_df.drop(train_df[mask].index, inplace=True)   \n",
    "drop_unknown_labels(train_df)\n",
    "\n",
    "# Replace train_df['label']with 'None'\n",
    "train_df.fillna(0, inplace=True)\n",
    "train_df.replace(0, \"None\", inplace=True)  # Correct!\n",
    "\n",
    "train_df = pd.concat([\n",
    "  train_df[train_df['label']==\"None\"].sample(n=3000,replace=True),\n",
    "  train_df[train_df['label']==\"Pulse\"].sample(n=3000,replace=True),\n",
    "  train_df[train_df['label']==\"Broad\"].sample(n=3000,replace=True),\n",
    "  train_df[train_df['label']==\"Narrow\"].sample(n=3000,replace=True),\n",
    "  train_df[train_df['label']==\"Broad+Pulse\"].sample(n=3000,replace=True),\n",
    "  train_df[train_df['label']==\"Narrow+Broad\"].sample(n=3000,replace=True),\n",
    "  train_df[train_df['label']==\"Narrow+Pulse\"].sample(n=3000,replace=True)\n",
    "  ],axis=0)\n",
    "\n",
    "plt.figure(figsize=(10, 5)) # Create the figure *before* the hist call\n",
    "train_df['label'].hist()\n",
    "plt.title('Distribution of Labels')\n",
    "plt.xlabel('Label Value')\n",
    "plt.ylabel('Frequency')\n",
    "plt.show()"
   ]
  },
  {
   "cell_type": "code",
   "execution_count": 6,
   "id": "5a29c6be",
   "metadata": {
    "execution": {
     "iopub.execute_input": "2025-02-08T19:29:11.581808Z",
     "iopub.status.busy": "2025-02-08T19:29:11.581578Z",
     "iopub.status.idle": "2025-02-08T19:29:11.599016Z",
     "shell.execute_reply": "2025-02-08T19:29:11.598421Z"
    },
    "papermill": {
     "duration": 0.022528,
     "end_time": "2025-02-08T19:29:11.600112",
     "exception": false,
     "start_time": "2025-02-08T19:29:11.577584",
     "status": "completed"
    },
    "tags": []
   },
   "outputs": [],
   "source": [
    "# Create a mapping from string labels to integer indices\n",
    "label_mapping = {\n",
    "    \"None\": 0,\n",
    "    \"Pulse\": 1,\n",
    "    \"Broad\": 2,\n",
    "    \"Narrow\": 3,\n",
    "    \"Broad+Pulse\": 4,\n",
    "    \"Narrow+Broad\": 5,\n",
    "    \"Narrow+Pulse\": 6\n",
    "}\n",
    "train_df['label'] = train_df['label'].map(label_mapping)\n",
    "\n",
    "# Split the dataset into training and validation sets\n",
    "train_df, val_df = train_test_split(train_df, test_size=0.1, random_state=42)"
   ]
  },
  {
   "cell_type": "code",
   "execution_count": 7,
   "id": "2dcc824b",
   "metadata": {
    "execution": {
     "iopub.execute_input": "2025-02-08T19:29:11.607457Z",
     "iopub.status.busy": "2025-02-08T19:29:11.607204Z",
     "iopub.status.idle": "2025-02-08T19:29:11.706768Z",
     "shell.execute_reply": "2025-02-08T19:29:11.706117Z"
    },
    "papermill": {
     "duration": 0.104443,
     "end_time": "2025-02-08T19:29:11.707889",
     "exception": false,
     "start_time": "2025-02-08T19:29:11.603446",
     "status": "completed"
    },
    "tags": []
   },
   "outputs": [],
   "source": [
    "# Define the ImageDataset class\n",
    "class ImageDataset(Dataset):\n",
    "    def __init__(self, dataframe, transforms, has_labels=True):\n",
    "        self.dataframe = dataframe\n",
    "        self.transforms = transforms\n",
    "        self.has_labels = has_labels  # Flag to indicate whether labels are present\n",
    "\n",
    "    def __len__(self):\n",
    "        return len(self.dataframe)\n",
    "\n",
    "    def __getitem__(self, idx):\n",
    "        row = self.dataframe.iloc[idx]\n",
    "        image = Image.open(row['image']).convert(\"RGB\")\n",
    "        image = self.transforms(image)\n",
    "        \n",
    "        if self.has_labels:\n",
    "            label = torch.tensor(row['label'], dtype=torch.long)  # Ensure label is of type torch.long\n",
    "            return image, label\n",
    "        else:\n",
    "            return image  # Return only the image if labels are not present\n",
    "\n",
    "# Define the transforms\n",
    "img_size = (256, 256)\n",
    "transforms = {\n",
    "    \"train\": T.Compose([\n",
    "        T.Resize(img_size, interpolation=T.InterpolationMode.BICUBIC),\n",
    "        T.ToTensor(),\n",
    "        T.Normalize(mean=torch.tensor([0.5, 0.5, 0.5]), std=torch.tensor([0.234, 0.234, 0.234]))\n",
    "    ]),\n",
    "    \"test\": T.Compose([\n",
    "        T.Resize(img_size, interpolation=T.InterpolationMode.BICUBIC),\n",
    "        T.ToTensor(),\n",
    "        T.Normalize(mean=torch.tensor([0.5, 0.5, 0.5]), std=torch.tensor([0.234, 0.234, 0.234]))\n",
    "    ]),\n",
    "}\n",
    "\n",
    "train_dataset = ImageDataset(train_df, transforms[\"train\"], has_labels=True)\n",
    "val_dataset = ImageDataset(val_df, transforms[\"test\"], has_labels=True)\n",
    "\n",
    "train_loader = DataLoader(train_dataset, batch_size=8, shuffle=True, num_workers=4)\n",
    "val_loader = DataLoader(val_dataset, batch_size=8, shuffle=False, num_workers=4)"
   ]
  },
  {
   "cell_type": "code",
   "execution_count": 8,
   "id": "bb55d3c0",
   "metadata": {
    "execution": {
     "iopub.execute_input": "2025-02-08T19:29:11.715177Z",
     "iopub.status.busy": "2025-02-08T19:29:11.714977Z",
     "iopub.status.idle": "2025-02-08T20:33:40.271571Z",
     "shell.execute_reply": "2025-02-08T20:33:40.270499Z"
    },
    "papermill": {
     "duration": 3868.562379,
     "end_time": "2025-02-08T20:33:40.273597",
     "exception": false,
     "start_time": "2025-02-08T19:29:11.711218",
     "status": "completed"
    },
    "tags": []
   },
   "outputs": [
    {
     "data": {
      "application/vnd.jupyter.widget-view+json": {
       "model_id": "7e056b6672e04f5ea8351f709cf60e32",
       "version_major": 2,
       "version_minor": 0
      },
      "text/plain": [
       "model.safetensors:   0%|          | 0.00/94.8M [00:00<?, ?B/s]"
      ]
     },
     "metadata": {},
     "output_type": "display_data"
    },
    {
     "name": "stdout",
     "output_type": "stream",
     "text": [
      "Epoch 1, Loss: 0.6524853706359863, Val Loss: 0.5817001406457487, Val Acc: 0.7171428571428572\n",
      "Epoch 2, Loss: 0.10575112700462341, Val Loss: 0.24198430676027397, Val Acc: 0.9147619047619048\n",
      "Epoch 3, Loss: 0.02579382061958313, Val Loss: 0.16303949544521423, Val Acc: 0.9471428571428572\n",
      "Epoch 4, Loss: 1.3582929372787476, Val Loss: 0.13582620212904306, Val Acc: 0.9542857142857143\n",
      "Epoch 5, Loss: 0.0011449067387729883, Val Loss: 0.12508464959439441, Val Acc: 0.9576190476190476\n",
      "Epoch 6, Loss: 0.02520635351538658, Val Loss: 0.1573351805957969, Val Acc: 0.9395238095238095\n",
      "Epoch 7, Loss: 0.0017049522139132023, Val Loss: 0.12810475687751327, Val Acc: 0.9419047619047619\n"
     ]
    }
   ],
   "source": [
    "# Define the model\n",
    "device = \"cuda\" if torch.cuda.is_available() else \"cpu\"\n",
    "model = maxxvit.maxxvitv2_nano_rw_256(pretrained=True, num_classes=len(label_mapping)).to(device)\n",
    "\n",
    "# Define the loss function and optimizer\n",
    "criterion = nn.CrossEntropyLoss()\n",
    "optimizer = torch.optim.AdamW(model.parameters(), lr=0.0001)\n",
    "\n",
    "# Training loop\n",
    "n_epochs = 7\n",
    "for epoch in range(n_epochs):\n",
    "    model.train()\n",
    "    for images, labels in train_loader:\n",
    "        images, labels = images.to(device), labels.to(device)\n",
    "        optimizer.zero_grad()\n",
    "        outputs = model(images)\n",
    "        loss = criterion(outputs, labels)\n",
    "        loss.backward()\n",
    "        optimizer.step()\n",
    "    \n",
    "    model.eval()\n",
    "    val_loss = 0\n",
    "    correct = 0\n",
    "    total = 0\n",
    "    with torch.no_grad():\n",
    "        for images, labels in val_loader:\n",
    "            images, labels = images.to(device), labels.to(device)\n",
    "            outputs = model(images)\n",
    "            val_loss += criterion(outputs, labels).item()\n",
    "            _, predicted = outputs.max(1)\n",
    "            total += labels.size(0)\n",
    "            correct += predicted.eq(labels).sum().item()\n",
    "    \n",
    "    print(f'Epoch {epoch+1}, Loss: {loss.item()}, Val Loss: {val_loss/len(val_loader)}, Val Acc: {correct/total}')\n",
    "\n",
    "# Save the model\n",
    "#torch.save(model.state_dict(), \"maxxvitv2_nano_rw_256.pth\")\n",
    "\n",
    "# Process the test set\n",
    "test_files = [f for f in os.listdir(test_npy_path) if f.endswith('.npy')]\n",
    "test_df = pd.DataFrame(columns=['id', 'image'])\n",
    "\n",
    "for test_file in test_files:\n",
    "    npy_data = np.load(os.path.join(test_npy_path, test_file))  # Shape: (262144, 256)\n",
    "    num_chunks = npy_data.shape[0] // 256  # 262144 / 256 = 1024 chunks\n",
    "    for chunk_idx in range(num_chunks):\n",
    "        # Extract a 256x256 chunk\n",
    "        chunk = npy_data[chunk_idx * 256 : (chunk_idx + 1) * 256, :]  # Shape: (256, 256)\n",
    "        \n",
    "        # Save the chunk as an image\n",
    "        image_path = os.path.join(test_dir, f\"{test_file.replace('.npy', '')}_{chunk_idx}.jpg\")\n",
    "        plt.imsave(image_path, chunk, cmap='gray')\n",
    "        \n",
    "        # Append the new row to the DataFrame using pd.concat\n",
    "        new_row = pd.DataFrame([{'id': f\"{test_file.replace('.npy', '')}_{chunk_idx}\", 'image': image_path}])\n",
    "        test_df = pd.concat([test_df, new_row], ignore_index=True)\n",
    "\n",
    "# Create test dataset and dataloader\n",
    "#test_dataset = ImageDataset(test_df, transforms[\"test\"])\n",
    "test_dataset = ImageDataset(test_df, transforms[\"test\"], has_labels=False)\n",
    "test_loader = DataLoader(test_dataset, batch_size=8, shuffle=False, num_workers=4)\n",
    "\n",
    "# Make predictions on the test set\n",
    "model.eval()\n",
    "predictions = []\n",
    "with torch.no_grad():\n",
    "    for images in test_loader:  # No labels returned\n",
    "        images = images.to(device)\n",
    "        outputs = model(images)\n",
    "        _, predicted = outputs.max(1)\n",
    "        predictions.extend(predicted.cpu().numpy())"
   ]
  },
  {
   "cell_type": "code",
   "execution_count": 9,
   "id": "08a991d7",
   "metadata": {
    "execution": {
     "iopub.execute_input": "2025-02-08T20:33:40.283627Z",
     "iopub.status.busy": "2025-02-08T20:33:40.283312Z",
     "iopub.status.idle": "2025-02-08T20:34:02.341133Z",
     "shell.execute_reply": "2025-02-08T20:34:02.340114Z"
    },
    "papermill": {
     "duration": 22.064248,
     "end_time": "2025-02-08T20:34:02.342644",
     "exception": false,
     "start_time": "2025-02-08T20:33:40.278396",
     "status": "completed"
    },
    "tags": []
   },
   "outputs": [
    {
     "name": "stdout",
     "output_type": "stream",
     "text": [
      "Copmplate to submission_maxxvitv2_nano_rw_256_7eps.csv\n"
     ]
    }
   ],
   "source": [
    "# Create submission file\n",
    "submission = pd.DataFrame(columns=['id', 'pulse', 'broad', 'narrow'])\n",
    "for idx, row in test_df.iterrows():\n",
    "    pred = predictions[idx]\n",
    "    if pred == 0:  # None\n",
    "        submission = pd.concat([submission, pd.DataFrame([{'id': row['id'], 'pulse': 0, 'broad': 0, 'narrow': 0}])], ignore_index=True)\n",
    "    elif pred == 1:  # Pulse or Unknown+Pulse\"\n",
    "        submission = pd.concat([submission, pd.DataFrame([{'id': row['id'], 'pulse': 1, 'broad': 0, 'narrow': 0}])], ignore_index=True)\n",
    "    elif pred == 2:  # Broad\n",
    "        submission = pd.concat([submission, pd.DataFrame([{'id': row['id'], 'pulse': 0, 'broad': 1, 'narrow': 0}])], ignore_index=True)\n",
    "    elif pred == 3:  # Narrow\n",
    "        submission = pd.concat([submission, pd.DataFrame([{'id': row['id'], 'pulse': 0, 'broad': 0, 'narrow': 1}])], ignore_index=True)\n",
    "    elif pred == 4:  # Broad+Pulse or Pulse+Broad\n",
    "        submission = pd.concat([submission, pd.DataFrame([{'id': row['id'], 'pulse': 1, 'broad': 1, 'narrow': 0}])], ignore_index=True)\n",
    "    elif pred == 5:  # Narrow+Broad orBroad+Narrow\n",
    "        submission = pd.concat([submission, pd.DataFrame([{'id': row['id'], 'pulse': 0, 'broad': 1, 'narrow': 1}])], ignore_index=True)\n",
    "    elif pred == 6:  # Narrow+Pulse or Pulse+Narrow\n",
    "        submission = pd.concat([submission, pd.DataFrame([{'id': row['id'], 'pulse': 1, 'broad': 0, 'narrow': 1}])], ignore_index=True)\n",
    "df0 = pd.read_csv('/kaggle/input/signal-fast-radio-burst-detection/sample_submission.csv')\n",
    "df1 = df0['id']\n",
    "submission = pd.merge(df1, submission, on='id', how='left')\n",
    "# Save submission file\n",
    "submission.to_csv(os.path.join(output_dir, \"submission_maxxvitv2_nano_rw_256_7eps.csv\"), index=False)\n",
    "print(\"Copmplate to submission_maxxvitv2_nano_rw_256_7eps.csv\")"
   ]
  }
 ],
 "metadata": {
  "kaggle": {
   "accelerator": "nvidiaTeslaT4",
   "dataSources": [
    {
     "databundleVersionId": 11038850,
     "sourceId": 91438,
     "sourceType": "competition"
    }
   ],
   "dockerImageVersionId": 30887,
   "isGpuEnabled": true,
   "isInternetEnabled": true,
   "language": "python",
   "sourceType": "notebook"
  },
  "kernelspec": {
   "display_name": "Python 3",
   "language": "python",
   "name": "python3"
  },
  "language_info": {
   "codemirror_mode": {
    "name": "ipython",
    "version": 3
   },
   "file_extension": ".py",
   "mimetype": "text/x-python",
   "name": "python",
   "nbconvert_exporter": "python",
   "pygments_lexer": "ipython3",
   "version": "3.10.12"
  },
  "papermill": {
   "default_parameters": {},
   "duration": 4637.179024,
   "end_time": "2025-02-08T20:34:05.239181",
   "environment_variables": {},
   "exception": null,
   "input_path": "__notebook__.ipynb",
   "output_path": "__notebook__.ipynb",
   "parameters": {},
   "start_time": "2025-02-08T19:16:48.060157",
   "version": "2.6.0"
  },
  "widgets": {
   "application/vnd.jupyter.widget-state+json": {
    "state": {
     "0802b214664e4d17bc793b8aec57fd78": {
      "model_module": "@jupyter-widgets/controls",
      "model_module_version": "2.0.0",
      "model_name": "FloatProgressModel",
      "state": {
       "_dom_classes": [],
       "_model_module": "@jupyter-widgets/controls",
       "_model_module_version": "2.0.0",
       "_model_name": "FloatProgressModel",
       "_view_count": null,
       "_view_module": "@jupyter-widgets/controls",
       "_view_module_version": "2.0.0",
       "_view_name": "ProgressView",
       "bar_style": "success",
       "description": "",
       "description_allow_html": false,
       "layout": "IPY_MODEL_0b00d70506de4a6c83fc72d012df1da4",
       "max": 94805990.0,
       "min": 0.0,
       "orientation": "horizontal",
       "style": "IPY_MODEL_cd6c039aad434771991604821e0bdb5a",
       "tabbable": null,
       "tooltip": null,
       "value": 94805990.0
      }
     },
     "0a31efd4ec424eab89e7e3ca1fe02216": {
      "model_module": "@jupyter-widgets/base",
      "model_module_version": "2.0.0",
      "model_name": "LayoutModel",
      "state": {
       "_model_module": "@jupyter-widgets/base",
       "_model_module_version": "2.0.0",
       "_model_name": "LayoutModel",
       "_view_count": null,
       "_view_module": "@jupyter-widgets/base",
       "_view_module_version": "2.0.0",
       "_view_name": "LayoutView",
       "align_content": null,
       "align_items": null,
       "align_self": null,
       "border_bottom": null,
       "border_left": null,
       "border_right": null,
       "border_top": null,
       "bottom": null,
       "display": null,
       "flex": null,
       "flex_flow": null,
       "grid_area": null,
       "grid_auto_columns": null,
       "grid_auto_flow": null,
       "grid_auto_rows": null,
       "grid_column": null,
       "grid_gap": null,
       "grid_row": null,
       "grid_template_areas": null,
       "grid_template_columns": null,
       "grid_template_rows": null,
       "height": null,
       "justify_content": null,
       "justify_items": null,
       "left": null,
       "margin": null,
       "max_height": null,
       "max_width": null,
       "min_height": null,
       "min_width": null,
       "object_fit": null,
       "object_position": null,
       "order": null,
       "overflow": null,
       "padding": null,
       "right": null,
       "top": null,
       "visibility": null,
       "width": null
      }
     },
     "0b00d70506de4a6c83fc72d012df1da4": {
      "model_module": "@jupyter-widgets/base",
      "model_module_version": "2.0.0",
      "model_name": "LayoutModel",
      "state": {
       "_model_module": "@jupyter-widgets/base",
       "_model_module_version": "2.0.0",
       "_model_name": "LayoutModel",
       "_view_count": null,
       "_view_module": "@jupyter-widgets/base",
       "_view_module_version": "2.0.0",
       "_view_name": "LayoutView",
       "align_content": null,
       "align_items": null,
       "align_self": null,
       "border_bottom": null,
       "border_left": null,
       "border_right": null,
       "border_top": null,
       "bottom": null,
       "display": null,
       "flex": null,
       "flex_flow": null,
       "grid_area": null,
       "grid_auto_columns": null,
       "grid_auto_flow": null,
       "grid_auto_rows": null,
       "grid_column": null,
       "grid_gap": null,
       "grid_row": null,
       "grid_template_areas": null,
       "grid_template_columns": null,
       "grid_template_rows": null,
       "height": null,
       "justify_content": null,
       "justify_items": null,
       "left": null,
       "margin": null,
       "max_height": null,
       "max_width": null,
       "min_height": null,
       "min_width": null,
       "object_fit": null,
       "object_position": null,
       "order": null,
       "overflow": null,
       "padding": null,
       "right": null,
       "top": null,
       "visibility": null,
       "width": null
      }
     },
     "255ca0b078db4d4bad116f1551c22ad5": {
      "model_module": "@jupyter-widgets/controls",
      "model_module_version": "2.0.0",
      "model_name": "HTMLModel",
      "state": {
       "_dom_classes": [],
       "_model_module": "@jupyter-widgets/controls",
       "_model_module_version": "2.0.0",
       "_model_name": "HTMLModel",
       "_view_count": null,
       "_view_module": "@jupyter-widgets/controls",
       "_view_module_version": "2.0.0",
       "_view_name": "HTMLView",
       "description": "",
       "description_allow_html": false,
       "layout": "IPY_MODEL_61b8d39ddd8d43d1b70c3b5cdf31731d",
       "placeholder": "​",
       "style": "IPY_MODEL_2e9e36552e7142d79e0d905456bd7dc6",
       "tabbable": null,
       "tooltip": null,
       "value": " 94.8M/94.8M [00:00&lt;00:00, 192MB/s]"
      }
     },
     "2e9e36552e7142d79e0d905456bd7dc6": {
      "model_module": "@jupyter-widgets/controls",
      "model_module_version": "2.0.0",
      "model_name": "HTMLStyleModel",
      "state": {
       "_model_module": "@jupyter-widgets/controls",
       "_model_module_version": "2.0.0",
       "_model_name": "HTMLStyleModel",
       "_view_count": null,
       "_view_module": "@jupyter-widgets/base",
       "_view_module_version": "2.0.0",
       "_view_name": "StyleView",
       "background": null,
       "description_width": "",
       "font_size": null,
       "text_color": null
      }
     },
     "341c50157f5746a19e7aa442ab74a3c3": {
      "model_module": "@jupyter-widgets/controls",
      "model_module_version": "2.0.0",
      "model_name": "HTMLModel",
      "state": {
       "_dom_classes": [],
       "_model_module": "@jupyter-widgets/controls",
       "_model_module_version": "2.0.0",
       "_model_name": "HTMLModel",
       "_view_count": null,
       "_view_module": "@jupyter-widgets/controls",
       "_view_module_version": "2.0.0",
       "_view_name": "HTMLView",
       "description": "",
       "description_allow_html": false,
       "layout": "IPY_MODEL_0a31efd4ec424eab89e7e3ca1fe02216",
       "placeholder": "​",
       "style": "IPY_MODEL_5207eb184afa4bc58e60b0e4847158e5",
       "tabbable": null,
       "tooltip": null,
       "value": "model.safetensors: 100%"
      }
     },
     "5207eb184afa4bc58e60b0e4847158e5": {
      "model_module": "@jupyter-widgets/controls",
      "model_module_version": "2.0.0",
      "model_name": "HTMLStyleModel",
      "state": {
       "_model_module": "@jupyter-widgets/controls",
       "_model_module_version": "2.0.0",
       "_model_name": "HTMLStyleModel",
       "_view_count": null,
       "_view_module": "@jupyter-widgets/base",
       "_view_module_version": "2.0.0",
       "_view_name": "StyleView",
       "background": null,
       "description_width": "",
       "font_size": null,
       "text_color": null
      }
     },
     "61b8d39ddd8d43d1b70c3b5cdf31731d": {
      "model_module": "@jupyter-widgets/base",
      "model_module_version": "2.0.0",
      "model_name": "LayoutModel",
      "state": {
       "_model_module": "@jupyter-widgets/base",
       "_model_module_version": "2.0.0",
       "_model_name": "LayoutModel",
       "_view_count": null,
       "_view_module": "@jupyter-widgets/base",
       "_view_module_version": "2.0.0",
       "_view_name": "LayoutView",
       "align_content": null,
       "align_items": null,
       "align_self": null,
       "border_bottom": null,
       "border_left": null,
       "border_right": null,
       "border_top": null,
       "bottom": null,
       "display": null,
       "flex": null,
       "flex_flow": null,
       "grid_area": null,
       "grid_auto_columns": null,
       "grid_auto_flow": null,
       "grid_auto_rows": null,
       "grid_column": null,
       "grid_gap": null,
       "grid_row": null,
       "grid_template_areas": null,
       "grid_template_columns": null,
       "grid_template_rows": null,
       "height": null,
       "justify_content": null,
       "justify_items": null,
       "left": null,
       "margin": null,
       "max_height": null,
       "max_width": null,
       "min_height": null,
       "min_width": null,
       "object_fit": null,
       "object_position": null,
       "order": null,
       "overflow": null,
       "padding": null,
       "right": null,
       "top": null,
       "visibility": null,
       "width": null
      }
     },
     "7e056b6672e04f5ea8351f709cf60e32": {
      "model_module": "@jupyter-widgets/controls",
      "model_module_version": "2.0.0",
      "model_name": "HBoxModel",
      "state": {
       "_dom_classes": [],
       "_model_module": "@jupyter-widgets/controls",
       "_model_module_version": "2.0.0",
       "_model_name": "HBoxModel",
       "_view_count": null,
       "_view_module": "@jupyter-widgets/controls",
       "_view_module_version": "2.0.0",
       "_view_name": "HBoxView",
       "box_style": "",
       "children": [
        "IPY_MODEL_341c50157f5746a19e7aa442ab74a3c3",
        "IPY_MODEL_0802b214664e4d17bc793b8aec57fd78",
        "IPY_MODEL_255ca0b078db4d4bad116f1551c22ad5"
       ],
       "layout": "IPY_MODEL_ed3ac887323e4bf5a84ea55116d896f9",
       "tabbable": null,
       "tooltip": null
      }
     },
     "cd6c039aad434771991604821e0bdb5a": {
      "model_module": "@jupyter-widgets/controls",
      "model_module_version": "2.0.0",
      "model_name": "ProgressStyleModel",
      "state": {
       "_model_module": "@jupyter-widgets/controls",
       "_model_module_version": "2.0.0",
       "_model_name": "ProgressStyleModel",
       "_view_count": null,
       "_view_module": "@jupyter-widgets/base",
       "_view_module_version": "2.0.0",
       "_view_name": "StyleView",
       "bar_color": null,
       "description_width": ""
      }
     },
     "ed3ac887323e4bf5a84ea55116d896f9": {
      "model_module": "@jupyter-widgets/base",
      "model_module_version": "2.0.0",
      "model_name": "LayoutModel",
      "state": {
       "_model_module": "@jupyter-widgets/base",
       "_model_module_version": "2.0.0",
       "_model_name": "LayoutModel",
       "_view_count": null,
       "_view_module": "@jupyter-widgets/base",
       "_view_module_version": "2.0.0",
       "_view_name": "LayoutView",
       "align_content": null,
       "align_items": null,
       "align_self": null,
       "border_bottom": null,
       "border_left": null,
       "border_right": null,
       "border_top": null,
       "bottom": null,
       "display": null,
       "flex": null,
       "flex_flow": null,
       "grid_area": null,
       "grid_auto_columns": null,
       "grid_auto_flow": null,
       "grid_auto_rows": null,
       "grid_column": null,
       "grid_gap": null,
       "grid_row": null,
       "grid_template_areas": null,
       "grid_template_columns": null,
       "grid_template_rows": null,
       "height": null,
       "justify_content": null,
       "justify_items": null,
       "left": null,
       "margin": null,
       "max_height": null,
       "max_width": null,
       "min_height": null,
       "min_width": null,
       "object_fit": null,
       "object_position": null,
       "order": null,
       "overflow": null,
       "padding": null,
       "right": null,
       "top": null,
       "visibility": null,
       "width": null
      }
     }
    },
    "version_major": 2,
    "version_minor": 0
   }
  }
 },
 "nbformat": 4,
 "nbformat_minor": 5
}
