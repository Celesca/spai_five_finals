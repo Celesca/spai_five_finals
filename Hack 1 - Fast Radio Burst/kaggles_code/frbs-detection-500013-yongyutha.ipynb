{
 "cells": [
  {
   "cell_type": "markdown",
   "id": "632a072f",
   "metadata": {
    "papermill": {
     "duration": 0.010452,
     "end_time": "2025-02-08T17:24:51.951689",
     "exception": false,
     "start_time": "2025-02-08T17:24:51.941237",
     "status": "completed"
    },
    "tags": []
   },
   "source": [
    "## Setup"
   ]
  },
  {
   "cell_type": "code",
   "execution_count": 1,
   "id": "3e825131",
   "metadata": {
    "execution": {
     "iopub.execute_input": "2025-02-08T17:24:51.972031Z",
     "iopub.status.busy": "2025-02-08T17:24:51.971710Z",
     "iopub.status.idle": "2025-02-08T17:24:59.971954Z",
     "shell.execute_reply": "2025-02-08T17:24:59.971260Z"
    },
    "papermill": {
     "duration": 8.01236,
     "end_time": "2025-02-08T17:24:59.973553",
     "exception": false,
     "start_time": "2025-02-08T17:24:51.961193",
     "status": "completed"
    },
    "tags": []
   },
   "outputs": [],
   "source": [
    "import os\n",
    "import glob\n",
    "import tqdm\n",
    "import torch\n",
    "import torch.nn as nn\n",
    "import torch.nn.functional as F\n",
    "import torch.optim as optim\n",
    "import torchvision\n",
    "import torchvision.transforms as transforms\n",
    "import torchvision.models as models\n",
    "import numpy as np\n",
    "import matplotlib.pyplot as plt\n",
    "import pandas as pd"
   ]
  },
  {
   "cell_type": "code",
   "execution_count": 2,
   "id": "3fa9058b",
   "metadata": {
    "execution": {
     "iopub.execute_input": "2025-02-08T17:24:59.993694Z",
     "iopub.status.busy": "2025-02-08T17:24:59.993329Z",
     "iopub.status.idle": "2025-02-08T17:25:00.084786Z",
     "shell.execute_reply": "2025-02-08T17:25:00.083944Z"
    },
    "papermill": {
     "duration": 0.103884,
     "end_time": "2025-02-08T17:25:00.087147",
     "exception": false,
     "start_time": "2025-02-08T17:24:59.983263",
     "status": "completed"
    },
    "tags": []
   },
   "outputs": [
    {
     "name": "stdout",
     "output_type": "stream",
     "text": [
      "/kaggle/input/signal-fast-radio-burst-detection/sample_submission.csv\n",
      "/kaggle/input/signal-fast-radio-burst-detection/train-labels-corrected/train/B1933+16_59475_68410_reduced_fc_0001023_labels.csv\n",
      "/kaggle/input/signal-fast-radio-burst-detection/train-labels-corrected/train/B0531+21_58713_43190_reduced_fc_0001023_labels.csv\n",
      "/kaggle/input/signal-fast-radio-burst-detection/train-labels-corrected/train/J1022+1001_59503_29150_reduced_fc_0004611_labels.csv\n",
      "/kaggle/input/signal-fast-radio-burst-detection/train-labels-corrected/train/J0621+1002_59691_60070_reduced_fc_0003041_labels.csv\n",
      "/kaggle/input/signal-fast-radio-burst-detection/train-labels-corrected/train/B0531+21_2020-05-31-11_36_46_0020479_labels.csv\n",
      "/kaggle/input/signal-fast-radio-burst-detection/train-labels-corrected/train/B0531+21_58713_43190_reduced_fc_0004095_labels.csv\n",
      "/kaggle/input/signal-fast-radio-burst-detection/train-labels-corrected/train/B0531+21_58713_43190_reduced_fc_0029695_labels.csv\n",
      "/kaggle/input/signal-fast-radio-burst-detection/train-labels-corrected/train/B0531+21_2020-05-31-11_36_46_0006143_labels.csv\n",
      "/kaggle/input/signal-fast-radio-burst-detection/train-labels-corrected/train/B0531+21_2020-05-31-11_36_46_0021503_labels.csv\n",
      "/kaggle/input/signal-fast-radio-burst-detection/train-labels-corrected/train/B1937+21_59475_69390_reduced_fc_0008071_labels.csv\n",
      "/kaggle/input/signal-fast-radio-burst-detection/train-labels-corrected/train/B0531+21_58713_43190_reduced_fc_0021503_labels.csv\n",
      "/kaggle/input/signal-fast-radio-burst-detection/train-labels-corrected/train/J0621+1002_59691_60070_reduced_fc_0002017_labels.csv\n",
      "/kaggle/input/signal-fast-radio-burst-detection/train-labels-corrected/train/J2145-0750_59475_75870_reduced_fc_0003071_labels.csv\n",
      "/kaggle/input/signal-fast-radio-burst-detection/train-labels-corrected/train/B0531+21_2020-05-31-11_36_46_0012287_labels.csv\n",
      "/kaggle/input/signal-fast-radio-burst-detection/train-labels-corrected/train/B1933+16_59475_68410_reduced_fc_0004095_labels.csv\n",
      "/kaggle/input/signal-fast-radio-burst-detection/train-labels-corrected/train/B0531+21_58713_43190_reduced_fc_0023551_labels.csv\n",
      "/kaggle/input/signal-fast-radio-burst-detection/train-labels-corrected/train/J2145-0750_59475_75870_reduced_fc_0003623_labels.csv\n",
      "/kaggle/input/signal-fast-radio-burst-detection/train-labels-corrected/train/B0531+21_58713_43190_reduced_fc_0014335_labels.csv\n",
      "/kaggle/input/signal-fast-radio-burst-detection/train-labels-corrected/train/B0531+21_58713_43190_reduced_fc_0013311_labels.csv\n",
      "/kaggle/input/signal-fast-radio-burst-detection/train-labels-corrected/train/B0531+21_58713_43190_reduced_fc_0019455_labels.csv\n",
      "/kaggle/input/signal-fast-radio-burst-detection/train-labels-corrected/train/B0531+21_2020-05-31-11_36_46_0009215_labels.csv\n",
      "/kaggle/input/signal-fast-radio-burst-detection/train-labels-corrected/train/B0531+21_58713_43190_reduced_fc_0006143_labels.csv\n",
      "/kaggle/input/signal-fast-radio-burst-detection/train-labels-corrected/train/B0531+21_2020-05-31-11_36_46_0011263_labels.csv\n",
      "/kaggle/input/signal-fast-radio-burst-detection/train-labels-corrected/train/J0621+1002_59691_60070_reduced_fc_0003286_labels.csv\n",
      "/kaggle/input/signal-fast-radio-burst-detection/train-labels-corrected/train/B0531+21_2020-05-31-11_36_46_0005119_labels.csv\n",
      "/kaggle/input/signal-fast-radio-burst-detection/train-labels-corrected/train/B1933+16_59664_23770_reduced_fc_0014095_labels.csv\n",
      "/kaggle/input/signal-fast-radio-burst-detection/train-labels-corrected/train/B1933+16_59503_61810_reduced_fc_0002047_labels.csv\n",
      "/kaggle/input/signal-fast-radio-burst-detection/train-labels-corrected/train/B0531+21_2020-05-31-11_36_46_0016383_labels.csv\n",
      "/kaggle/input/signal-fast-radio-burst-detection/train-labels-corrected/train/B0531+21_58713_43190_reduced_fc_0011263_labels.csv\n",
      "/kaggle/input/signal-fast-radio-burst-detection/train-labels-corrected/train/B1937+21_59475_69390_reduced_fc_0006023_labels.csv\n",
      "/kaggle/input/signal-fast-radio-burst-detection/train-labels-corrected/train/B1937+21_59475_69390_reduced_fc_0009095_labels.csv\n",
      "/kaggle/input/signal-fast-radio-burst-detection/train-labels-corrected/train/B1933+16_59475_68410_reduced_fc_0007167_labels.csv\n",
      "/kaggle/input/signal-fast-radio-burst-detection/train-labels-corrected/train/B0531+21_58713_43190_reduced_fc_0018431_labels.csv\n",
      "/kaggle/input/signal-fast-radio-burst-detection/train-labels-corrected/train/B1937+21_59475_69390_reduced_fc_0009497_labels.csv\n",
      "/kaggle/input/signal-fast-radio-burst-detection/train-labels-corrected/train/J1518+4904_59475_43490_reduced_fc_0001023_labels.csv\n",
      "/kaggle/input/signal-fast-radio-burst-detection/train-labels-corrected/train/B0531+21_58713_43190_reduced_fc_0028671_labels.csv\n",
      "/kaggle/input/signal-fast-radio-burst-detection/train-labels-corrected/train/B0531+21_2020-05-31-11_36_46_0004095_labels.csv\n",
      "/kaggle/input/signal-fast-radio-burst-detection/train-labels-corrected/train/B0531+21_58713_43190_reduced_fc_0020479_labels.csv\n",
      "/kaggle/input/signal-fast-radio-burst-detection/train-labels-corrected/train/B0531+21_58713_43190_reduced_fc_0022527_labels.csv\n",
      "/kaggle/input/signal-fast-radio-burst-detection/train-labels-corrected/train/B0531+21_58713_43190_reduced_fc_0024575_labels.csv\n",
      "/kaggle/input/signal-fast-radio-burst-detection/train-labels-corrected/train/B0531+21_58713_43190_reduced_fc_0012287_labels.csv\n",
      "/kaggle/input/signal-fast-radio-burst-detection/train-labels-corrected/train/B1933+16_59664_23770_reduced_fc_0012047_labels.csv\n",
      "/kaggle/input/signal-fast-radio-burst-detection/train-labels-corrected/train/J1518+4904_59475_43490_reduced_fc_0003071_labels.csv\n",
      "/kaggle/input/signal-fast-radio-burst-detection/train-labels-corrected/train/B1933+16_59503_61810_reduced_fc_0003071_labels.csv\n",
      "/kaggle/input/signal-fast-radio-burst-detection/train-labels-corrected/train/J1022+1001_59503_29150_reduced_fc_0002276_labels.csv\n",
      "/kaggle/input/signal-fast-radio-burst-detection/train-labels-corrected/train/J1518+4904_59475_43490_reduced_fc_0004095_labels.csv\n",
      "/kaggle/input/signal-fast-radio-burst-detection/train-labels-corrected/train/B0531+21_2020-05-31-11_36_46_0008191_labels.csv\n",
      "/kaggle/input/signal-fast-radio-burst-detection/train-labels-corrected/train/B1933+16_59664_23770_reduced_fc_0014499_labels.csv\n",
      "/kaggle/input/signal-fast-radio-burst-detection/train-labels-corrected/train/B0531+21_2020-05-31-11_36_46_0022499_labels.csv\n",
      "/kaggle/input/signal-fast-radio-burst-detection/train-labels-corrected/train/B0531+21_58713_43190_reduced_fc_0030719_labels.csv\n",
      "/kaggle/input/signal-fast-radio-burst-detection/train-labels-corrected/train/B0531+21_2020-05-31-11_36_46_0010239_labels.csv\n",
      "/kaggle/input/signal-fast-radio-burst-detection/train-labels-corrected/train/B0531+21_2020-05-31-11_36_46_0017407_labels.csv\n",
      "/kaggle/input/signal-fast-radio-burst-detection/train-labels-corrected/train/B0531+21_58713_43190_reduced_fc_0005119_labels.csv\n",
      "/kaggle/input/signal-fast-radio-burst-detection/train-labels-corrected/train/B0531+21_2020-05-31-11_36_46_0007167_labels.csv\n",
      "/kaggle/input/signal-fast-radio-burst-detection/train-labels-corrected/train/B0531+21_2020-05-31-11_36_46_0002047_labels.csv\n",
      "/kaggle/input/signal-fast-radio-burst-detection/train-labels-corrected/train/B0531+21_58713_43190_reduced_fc_0010239_labels.csv\n",
      "/kaggle/input/signal-fast-radio-burst-detection/train-labels-corrected/train/B0531+21_58713_43190_reduced_fc_0003071_labels.csv\n",
      "/kaggle/input/signal-fast-radio-burst-detection/train-labels-corrected/train/J1022+1001_59503_29150_reduced_fc_0001252_labels.csv\n",
      "/kaggle/input/signal-fast-radio-burst-detection/train-labels-corrected/train/B1937+21_59503_62790_reduced_fc_0004498_labels.csv\n",
      "/kaggle/input/signal-fast-radio-burst-detection/train-labels-corrected/train/B0531+21_58713_43190_reduced_fc_0015359_labels.csv\n",
      "/kaggle/input/signal-fast-radio-burst-detection/train-labels-corrected/train/B1933+16_59664_23770_reduced_fc_0013071_labels.csv\n",
      "/kaggle/input/signal-fast-radio-burst-detection/train-labels-corrected/train/B1933+16_59475_68410_reduced_fc_0002047_labels.csv\n",
      "/kaggle/input/signal-fast-radio-burst-detection/train-labels-corrected/train/B1933+16_59475_68410_reduced_fc_0008191_labels.csv\n",
      "/kaggle/input/signal-fast-radio-burst-detection/train-labels-corrected/train/J1518+4904_59475_43490_reduced_fc_0004500_labels.csv\n",
      "/kaggle/input/signal-fast-radio-burst-detection/train-labels-corrected/train/B0531+21_58713_43190_reduced_fc_0025599_labels.csv\n",
      "/kaggle/input/signal-fast-radio-burst-detection/train-labels-corrected/train/B1937+21_59503_62790_reduced_fc_0002047_labels.csv\n",
      "/kaggle/input/signal-fast-radio-burst-detection/train-labels-corrected/train/B1933+16_59475_68410_reduced_fc_0003071_labels.csv\n",
      "/kaggle/input/signal-fast-radio-burst-detection/train-labels-corrected/train/B1933+16_59503_61810_reduced_fc_0004495_labels.csv\n",
      "/kaggle/input/signal-fast-radio-burst-detection/train-labels-corrected/train/B0531+21_2020-05-31-11_36_46_0013311_labels.csv\n",
      "/kaggle/input/signal-fast-radio-burst-detection/train-labels-corrected/train/J1518+4904_59475_43490_reduced_fc_0002047_labels.csv\n",
      "/kaggle/input/signal-fast-radio-burst-detection/train-labels-corrected/train/B1933+16_59475_68410_reduced_fc_0005119_labels.csv\n",
      "/kaggle/input/signal-fast-radio-burst-detection/train-labels-corrected/train/J2145-0750_59475_75870_reduced_fc_0001023_labels.csv\n",
      "/kaggle/input/signal-fast-radio-burst-detection/train-labels-corrected/train/B0531+21_58713_43190_reduced_fc_0008191_labels.csv\n",
      "/kaggle/input/signal-fast-radio-burst-detection/train-labels-corrected/train/B0531+21_2020-05-31-11_36_46_0019455_labels.csv\n",
      "/kaggle/input/signal-fast-radio-burst-detection/train-labels-corrected/train/B0531+21_2020-05-31-11_36_46_0014335_labels.csv\n",
      "/kaggle/input/signal-fast-radio-burst-detection/train-labels-corrected/train/J1022+1001_59503_29150_reduced_fc_0003300_labels.csv\n",
      "/kaggle/input/signal-fast-radio-burst-detection/train-labels-corrected/train/B1933+16_59503_61810_reduced_fc_0001023_labels.csv\n",
      "/kaggle/input/signal-fast-radio-burst-detection/train-labels-corrected/train/B1937+21_59475_69390_reduced_fc_0007047_labels.csv\n",
      "/kaggle/input/signal-fast-radio-burst-detection/train-labels-corrected/train/B1933+16_59503_61810_reduced_fc_0004095_labels.csv\n",
      "/kaggle/input/signal-fast-radio-burst-detection/train-labels-corrected/train/B0531+21_2020-05-31-11_36_46_0015359_labels.csv\n",
      "/kaggle/input/signal-fast-radio-burst-detection/train-labels-corrected/train/B0531+21_58713_43190_reduced_fc_0016383_labels.csv\n",
      "/kaggle/input/signal-fast-radio-burst-detection/train-labels-corrected/train/B0531+21_58713_43190_reduced_fc_0031743_labels.csv\n",
      "/kaggle/input/signal-fast-radio-burst-detection/train-labels-corrected/train/B0531+21_58713_43190_reduced_fc_0002047_labels.csv\n",
      "/kaggle/input/signal-fast-radio-burst-detection/train-labels-corrected/train/B0531+21_58713_43190_reduced_fc_0017407_labels.csv\n",
      "/kaggle/input/signal-fast-radio-burst-detection/train-labels-corrected/train/B0531+21_58713_43190_reduced_fc_0026623_labels.csv\n",
      "/kaggle/input/signal-fast-radio-burst-detection/train-labels-corrected/train/B1933+16_59664_23770_reduced_fc_0011023_labels.csv\n",
      "/kaggle/input/signal-fast-radio-burst-detection/train-labels-corrected/train/B1937+21_59503_62790_reduced_fc_0003071_labels.csv\n",
      "/kaggle/input/signal-fast-radio-burst-detection/train-labels-corrected/train/J1022+1001_59503_29150_reduced_fc_0004324_labels.csv\n",
      "/kaggle/input/signal-fast-radio-burst-detection/train-labels-corrected/train/B1933+16_59475_68410_reduced_fc_0006143_labels.csv\n",
      "/kaggle/input/signal-fast-radio-burst-detection/train-labels-corrected/train/B0531+21_58713_43190_reduced_fc_0009215_labels.csv\n",
      "/kaggle/input/signal-fast-radio-burst-detection/train-labels-corrected/train/J2145-0750_59475_75870_reduced_fc_0002047_labels.csv\n",
      "/kaggle/input/signal-fast-radio-burst-detection/train-labels-corrected/train/B0531+21_2020-05-31-11_36_46_0018431_labels.csv\n",
      "/kaggle/input/signal-fast-radio-burst-detection/train-labels-corrected/train/B1933+16_59475_68410_reduced_fc_0008999_labels.csv\n",
      "/kaggle/input/signal-fast-radio-burst-detection/train-labels-corrected/train/B1937+21_59503_62790_reduced_fc_0001023_labels.csv\n",
      "/kaggle/input/signal-fast-radio-burst-detection/train-labels-corrected/train/B1937+21_59503_62790_reduced_fc_0004095_labels.csv\n",
      "/kaggle/input/signal-fast-radio-burst-detection/train-labels-corrected/train/B0531+21_58713_43190_reduced_fc_0032130_labels.csv\n",
      "/kaggle/input/signal-fast-radio-burst-detection/train-labels-corrected/train/B0531+21_58713_43190_reduced_fc_0027647_labels.csv\n",
      "/kaggle/input/signal-fast-radio-burst-detection/train-labels-corrected/train/B0531+21_2020-05-31-11_36_46_0001023_labels.csv\n",
      "/kaggle/input/signal-fast-radio-burst-detection/train-labels-corrected/train/B0531+21_2020-05-31-11_36_46_0003071_labels.csv\n",
      "/kaggle/input/signal-fast-radio-burst-detection/train-labels-corrected/train/B0531+21_58713_43190_reduced_fc_0007167_labels.csv\n",
      "/kaggle/input/signal-fast-radio-burst-detection/test/test/23.npy\n",
      "/kaggle/input/signal-fast-radio-burst-detection/test/test/10.npy\n",
      "/kaggle/input/signal-fast-radio-burst-detection/test/test/21.npy\n",
      "/kaggle/input/signal-fast-radio-burst-detection/test/test/14.npy\n",
      "/kaggle/input/signal-fast-radio-burst-detection/test/test/3.npy\n",
      "/kaggle/input/signal-fast-radio-burst-detection/test/test/30.npy\n",
      "/kaggle/input/signal-fast-radio-burst-detection/test/test/24.npy\n",
      "/kaggle/input/signal-fast-radio-burst-detection/test/test/5.npy\n",
      "/kaggle/input/signal-fast-radio-burst-detection/test/test/29.npy\n",
      "/kaggle/input/signal-fast-radio-burst-detection/test/test/18.npy\n",
      "/kaggle/input/signal-fast-radio-burst-detection/test/test/22.npy\n",
      "/kaggle/input/signal-fast-radio-burst-detection/test/test/17.npy\n",
      "/kaggle/input/signal-fast-radio-burst-detection/test/test/2.npy\n",
      "/kaggle/input/signal-fast-radio-burst-detection/test/test/26.npy\n",
      "/kaggle/input/signal-fast-radio-burst-detection/test/test/27.npy\n",
      "/kaggle/input/signal-fast-radio-burst-detection/test/test/4.npy\n",
      "/kaggle/input/signal-fast-radio-burst-detection/test/test/9.npy\n",
      "/kaggle/input/signal-fast-radio-burst-detection/test/test/0.npy\n",
      "/kaggle/input/signal-fast-radio-burst-detection/test/test/31.npy\n",
      "/kaggle/input/signal-fast-radio-burst-detection/test/test/15.npy\n",
      "/kaggle/input/signal-fast-radio-burst-detection/test/test/20.npy\n",
      "/kaggle/input/signal-fast-radio-burst-detection/test/test/6.npy\n",
      "/kaggle/input/signal-fast-radio-burst-detection/test/test/32.npy\n",
      "/kaggle/input/signal-fast-radio-burst-detection/test/test/19.npy\n",
      "/kaggle/input/signal-fast-radio-burst-detection/test/test/25.npy\n",
      "/kaggle/input/signal-fast-radio-burst-detection/test/test/12.npy\n",
      "/kaggle/input/signal-fast-radio-burst-detection/test/test/1.npy\n",
      "/kaggle/input/signal-fast-radio-burst-detection/test/test/7.npy\n",
      "/kaggle/input/signal-fast-radio-burst-detection/test/test/11.npy\n",
      "/kaggle/input/signal-fast-radio-burst-detection/test/test/28.npy\n",
      "/kaggle/input/signal-fast-radio-burst-detection/test/test/13.npy\n",
      "/kaggle/input/signal-fast-radio-burst-detection/test/test/8.npy\n",
      "/kaggle/input/signal-fast-radio-burst-detection/test/test/16.npy\n",
      "/kaggle/input/signal-fast-radio-burst-detection/train/train/B0531+21_2020-05-31-11_36_46_0004095.npy\n",
      "/kaggle/input/signal-fast-radio-burst-detection/train/train/B0531+21_2020-05-31-11_36_46_0015359.npy\n",
      "/kaggle/input/signal-fast-radio-burst-detection/train/train/B1933+16_59475_68410_reduced_fc_0001023_labels.csv\n",
      "/kaggle/input/signal-fast-radio-burst-detection/train/train/B0531+21_58713_43190_reduced_fc_0001023_labels.csv\n",
      "/kaggle/input/signal-fast-radio-burst-detection/train/train/J1022+1001_59503_29150_reduced_fc_0004611_labels.csv\n",
      "/kaggle/input/signal-fast-radio-burst-detection/train/train/J0621+1002_59691_60070_reduced_fc_0003041_labels.csv\n",
      "/kaggle/input/signal-fast-radio-burst-detection/train/train/B1933+16_59475_68410_reduced_fc_0006143.npy\n",
      "/kaggle/input/signal-fast-radio-burst-detection/train/train/B0531+21_2020-05-31-11_36_46_0020479_labels.csv\n",
      "/kaggle/input/signal-fast-radio-burst-detection/train/train/B0531+21_58713_43190_reduced_fc_0004095_labels.csv\n",
      "/kaggle/input/signal-fast-radio-burst-detection/train/train/B0531+21_58713_43190_reduced_fc_0029695_labels.csv\n",
      "/kaggle/input/signal-fast-radio-burst-detection/train/train/B0531+21_2020-05-31-11_36_46_0006143_labels.csv\n",
      "/kaggle/input/signal-fast-radio-burst-detection/train/train/B0531+21_58713_43190_reduced_fc_0015359.npy\n",
      "/kaggle/input/signal-fast-radio-burst-detection/train/train/B0531+21_2020-05-31-11_36_46_0021503_labels.csv\n",
      "/kaggle/input/signal-fast-radio-burst-detection/train/train/B0531+21_2020-05-31-11_36_46_0001023.npy\n",
      "/kaggle/input/signal-fast-radio-burst-detection/train/train/B1937+21_59475_69390_reduced_fc_0008071_labels.csv\n",
      "/kaggle/input/signal-fast-radio-burst-detection/train/train/J1022+1001_59503_29150_reduced_fc_0003300.npy\n",
      "/kaggle/input/signal-fast-radio-burst-detection/train/train/B0531+21_58713_43190_reduced_fc_0021503_labels.csv\n",
      "/kaggle/input/signal-fast-radio-burst-detection/train/train/J0621+1002_59691_60070_reduced_fc_0002017_labels.csv\n",
      "/kaggle/input/signal-fast-radio-burst-detection/train/train/B0531+21_2020-05-31-11_36_46_0005119.npy\n",
      "/kaggle/input/signal-fast-radio-burst-detection/train/train/J2145-0750_59475_75870_reduced_fc_0003071.npy\n",
      "/kaggle/input/signal-fast-radio-burst-detection/train/train/B0531+21_58713_43190_reduced_fc_0014335.npy\n",
      "/kaggle/input/signal-fast-radio-burst-detection/train/train/J0621+1002_59691_60070_reduced_fc_0003286.npy\n",
      "/kaggle/input/signal-fast-radio-burst-detection/train/train/J2145-0750_59475_75870_reduced_fc_0003071_labels.csv\n",
      "/kaggle/input/signal-fast-radio-burst-detection/train/train/B0531+21_58713_43190_reduced_fc_0019455.npy\n",
      "/kaggle/input/signal-fast-radio-burst-detection/train/train/B0531+21_58713_43190_reduced_fc_0029695.npy\n",
      "/kaggle/input/signal-fast-radio-burst-detection/train/train/J1022+1001_59503_29150_reduced_fc_0004324.npy\n",
      "/kaggle/input/signal-fast-radio-burst-detection/train/train/B0531+21_2020-05-31-11_36_46_0012287_labels.csv\n",
      "/kaggle/input/signal-fast-radio-burst-detection/train/train/B0531+21_2020-05-31-11_36_46_0017407.npy\n",
      "/kaggle/input/signal-fast-radio-burst-detection/train/train/B1933+16_59475_68410_reduced_fc_0004095_labels.csv\n",
      "/kaggle/input/signal-fast-radio-burst-detection/train/train/B0531+21_58713_43190_reduced_fc_0006143.npy\n",
      "/kaggle/input/signal-fast-radio-burst-detection/train/train/B0531+21_58713_43190_reduced_fc_0023551_labels.csv\n",
      "/kaggle/input/signal-fast-radio-burst-detection/train/train/B0531+21_2020-05-31-11_36_46_0008191.npy\n",
      "/kaggle/input/signal-fast-radio-burst-detection/train/train/J2145-0750_59475_75870_reduced_fc_0001023.npy\n",
      "/kaggle/input/signal-fast-radio-burst-detection/train/train/J2145-0750_59475_75870_reduced_fc_0003623_labels.csv\n",
      "/kaggle/input/signal-fast-radio-burst-detection/train/train/J1022+1001_59503_29150_reduced_fc_0002276.npy\n",
      "/kaggle/input/signal-fast-radio-burst-detection/train/train/B0531+21_2020-05-31-11_36_46_0021503.npy\n",
      "/kaggle/input/signal-fast-radio-burst-detection/train/train/B0531+21_58713_43190_reduced_fc_0014335_labels.csv\n",
      "/kaggle/input/signal-fast-radio-burst-detection/train/train/B1937+21_59475_69390_reduced_fc_0007047.npy\n",
      "/kaggle/input/signal-fast-radio-burst-detection/train/train/J1022+1001_59503_29150_reduced_fc_0004611.npy\n",
      "/kaggle/input/signal-fast-radio-burst-detection/train/train/B1933+16_59475_68410_reduced_fc_0004095.npy\n",
      "/kaggle/input/signal-fast-radio-burst-detection/train/train/B0531+21_58713_43190_reduced_fc_0013311_labels.csv\n",
      "/kaggle/input/signal-fast-radio-burst-detection/train/train/B0531+21_2020-05-31-11_36_46_0003071.npy\n",
      "/kaggle/input/signal-fast-radio-burst-detection/train/train/B1937+21_59475_69390_reduced_fc_0009497.npy\n",
      "/kaggle/input/signal-fast-radio-burst-detection/train/train/B1933+16_59475_68410_reduced_fc_0008999.npy\n",
      "/kaggle/input/signal-fast-radio-burst-detection/train/train/B1937+21_59475_69390_reduced_fc_0008071.npy\n",
      "/kaggle/input/signal-fast-radio-burst-detection/train/train/B0531+21_58713_43190_reduced_fc_0019455_labels.csv\n",
      "/kaggle/input/signal-fast-radio-burst-detection/train/train/B0531+21_2020-05-31-11_36_46_0009215_labels.csv\n",
      "/kaggle/input/signal-fast-radio-burst-detection/train/train/B0531+21_58713_43190_reduced_fc_0022527.npy\n",
      "/kaggle/input/signal-fast-radio-burst-detection/train/train/B0531+21_58713_43190_reduced_fc_0006143_labels.csv\n",
      "/kaggle/input/signal-fast-radio-burst-detection/train/train/B0531+21_2020-05-31-11_36_46_0011263_labels.csv\n",
      "/kaggle/input/signal-fast-radio-burst-detection/train/train/B0531+21_58713_43190_reduced_fc_0025599.npy\n",
      "/kaggle/input/signal-fast-radio-burst-detection/train/train/J1518+4904_59475_43490_reduced_fc_0003071.npy\n",
      "/kaggle/input/signal-fast-radio-burst-detection/train/train/B1933+16_59664_23770_reduced_fc_0012047.npy\n",
      "/kaggle/input/signal-fast-radio-burst-detection/train/train/B1933+16_59475_68410_reduced_fc_0005119.npy\n",
      "/kaggle/input/signal-fast-radio-burst-detection/train/train/B0531+21_58713_43190_reduced_fc_0027647.npy\n",
      "/kaggle/input/signal-fast-radio-burst-detection/train/train/B0531+21_58713_43190_reduced_fc_0008191.npy\n",
      "/kaggle/input/signal-fast-radio-burst-detection/train/train/B1933+16_59664_23770_reduced_fc_0014499.npy\n",
      "/kaggle/input/signal-fast-radio-burst-detection/train/train/B0531+21_58713_43190_reduced_fc_0003071.npy\n",
      "/kaggle/input/signal-fast-radio-burst-detection/train/train/J0621+1002_59691_60070_reduced_fc_0003286_labels.csv\n",
      "/kaggle/input/signal-fast-radio-burst-detection/train/train/B1933+16_59503_61810_reduced_fc_0004095.npy\n",
      "/kaggle/input/signal-fast-radio-burst-detection/train/train/B0531+21_2020-05-31-11_36_46_0005119_labels.csv\n",
      "/kaggle/input/signal-fast-radio-burst-detection/train/train/B0531+21_58713_43190_reduced_fc_0028671.npy\n",
      "/kaggle/input/signal-fast-radio-burst-detection/train/train/B1933+16_59503_61810_reduced_fc_0004495.npy\n",
      "/kaggle/input/signal-fast-radio-burst-detection/train/train/B1933+16_59664_23770_reduced_fc_0014095_labels.csv\n",
      "/kaggle/input/signal-fast-radio-burst-detection/train/train/B0531+21_2020-05-31-11_36_46_0010239.npy\n",
      "/kaggle/input/signal-fast-radio-burst-detection/train/train/B1933+16_59503_61810_reduced_fc_0002047_labels.csv\n",
      "/kaggle/input/signal-fast-radio-burst-detection/train/train/B1933+16_59475_68410_reduced_fc_0007167.npy\n",
      "/kaggle/input/signal-fast-radio-burst-detection/train/train/B0531+21_2020-05-31-11_36_46_0016383_labels.csv\n",
      "/kaggle/input/signal-fast-radio-burst-detection/train/train/J1022+1001_59503_29150_reduced_fc_0001252.npy\n",
      "/kaggle/input/signal-fast-radio-burst-detection/train/train/J0621+1002_59691_60070_reduced_fc_0002017.npy\n",
      "/kaggle/input/signal-fast-radio-burst-detection/train/train/B0531+21_58713_43190_reduced_fc_0011263_labels.csv\n",
      "/kaggle/input/signal-fast-radio-burst-detection/train/train/J1518+4904_59475_43490_reduced_fc_0004095.npy\n",
      "/kaggle/input/signal-fast-radio-burst-detection/train/train/B1937+21_59503_62790_reduced_fc_0004095.npy\n",
      "/kaggle/input/signal-fast-radio-burst-detection/train/train/B1937+21_59475_69390_reduced_fc_0006023_labels.csv\n",
      "/kaggle/input/signal-fast-radio-burst-detection/train/train/B1937+21_59475_69390_reduced_fc_0009095_labels.csv\n",
      "/kaggle/input/signal-fast-radio-burst-detection/train/train/B1937+21_59503_62790_reduced_fc_0002047.npy\n",
      "/kaggle/input/signal-fast-radio-burst-detection/train/train/B1933+16_59475_68410_reduced_fc_0007167_labels.csv\n",
      "/kaggle/input/signal-fast-radio-burst-detection/train/train/B0531+21_2020-05-31-11_36_46_0011263.npy\n",
      "/kaggle/input/signal-fast-radio-burst-detection/train/train/B0531+21_58713_43190_reduced_fc_0018431_labels.csv\n",
      "/kaggle/input/signal-fast-radio-burst-detection/train/train/B0531+21_2020-05-31-11_36_46_0012287.npy\n",
      "/kaggle/input/signal-fast-radio-burst-detection/train/train/B1937+21_59475_69390_reduced_fc_0009497_labels.csv\n",
      "/kaggle/input/signal-fast-radio-burst-detection/train/train/J1518+4904_59475_43490_reduced_fc_0001023_labels.csv\n",
      "/kaggle/input/signal-fast-radio-burst-detection/train/train/B0531+21_58713_43190_reduced_fc_0018431.npy\n",
      "/kaggle/input/signal-fast-radio-burst-detection/train/train/B1937+21_59503_62790_reduced_fc_0003071.npy\n",
      "/kaggle/input/signal-fast-radio-burst-detection/train/train/B0531+21_58713_43190_reduced_fc_0028671_labels.csv\n",
      "/kaggle/input/signal-fast-radio-burst-detection/train/train/B0531+21_58713_43190_reduced_fc_0011263.npy\n",
      "/kaggle/input/signal-fast-radio-burst-detection/train/train/B0531+21_2020-05-31-11_36_46_0004095_labels.csv\n",
      "/kaggle/input/signal-fast-radio-burst-detection/train/train/B0531+21_58713_43190_reduced_fc_0020479_labels.csv\n",
      "/kaggle/input/signal-fast-radio-burst-detection/train/train/B0531+21_58713_43190_reduced_fc_0022527_labels.csv\n",
      "/kaggle/input/signal-fast-radio-burst-detection/train/train/B0531+21_58713_43190_reduced_fc_0024575_labels.csv\n",
      "/kaggle/input/signal-fast-radio-burst-detection/train/train/B0531+21_2020-05-31-11_36_46_0022499.npy\n",
      "/kaggle/input/signal-fast-radio-burst-detection/train/train/B0531+21_58713_43190_reduced_fc_0032130.npy\n",
      "/kaggle/input/signal-fast-radio-burst-detection/train/train/B0531+21_58713_43190_reduced_fc_0023551.npy\n",
      "/kaggle/input/signal-fast-radio-burst-detection/train/train/B0531+21_58713_43190_reduced_fc_0012287_labels.csv\n",
      "/kaggle/input/signal-fast-radio-burst-detection/train/train/B1933+16_59664_23770_reduced_fc_0012047_labels.csv\n",
      "/kaggle/input/signal-fast-radio-burst-detection/train/train/J1518+4904_59475_43490_reduced_fc_0003071_labels.csv\n",
      "/kaggle/input/signal-fast-radio-burst-detection/train/train/B1933+16_59503_61810_reduced_fc_0003071_labels.csv\n",
      "/kaggle/input/signal-fast-radio-burst-detection/train/train/J1022+1001_59503_29150_reduced_fc_0002276_labels.csv\n",
      "/kaggle/input/signal-fast-radio-burst-detection/train/train/B0531+21_58713_43190_reduced_fc_0002047.npy\n",
      "/kaggle/input/signal-fast-radio-burst-detection/train/train/J1518+4904_59475_43490_reduced_fc_0004095_labels.csv\n",
      "/kaggle/input/signal-fast-radio-burst-detection/train/train/B0531+21_58713_43190_reduced_fc_0026623.npy\n",
      "/kaggle/input/signal-fast-radio-burst-detection/train/train/B1937+21_59475_69390_reduced_fc_0009095.npy\n",
      "/kaggle/input/signal-fast-radio-burst-detection/train/train/B0531+21_2020-05-31-11_36_46_0008191_labels.csv\n",
      "/kaggle/input/signal-fast-radio-burst-detection/train/train/B1933+16_59664_23770_reduced_fc_0013071.npy\n",
      "/kaggle/input/signal-fast-radio-burst-detection/train/train/B1933+16_59664_23770_reduced_fc_0014499_labels.csv\n",
      "/kaggle/input/signal-fast-radio-burst-detection/train/train/B1933+16_59503_61810_reduced_fc_0003071.npy\n",
      "/kaggle/input/signal-fast-radio-burst-detection/train/train/B0531+21_2020-05-31-11_36_46_0022499_labels.csv\n",
      "/kaggle/input/signal-fast-radio-burst-detection/train/train/B0531+21_58713_43190_reduced_fc_0030719_labels.csv\n",
      "/kaggle/input/signal-fast-radio-burst-detection/train/train/B0531+21_2020-05-31-11_36_46_0010239_labels.csv\n",
      "/kaggle/input/signal-fast-radio-burst-detection/train/train/B0531+21_2020-05-31-11_36_46_0017407_labels.csv\n",
      "/kaggle/input/signal-fast-radio-burst-detection/train/train/B0531+21_58713_43190_reduced_fc_0005119_labels.csv\n",
      "/kaggle/input/signal-fast-radio-burst-detection/train/train/B0531+21_58713_43190_reduced_fc_0021503.npy\n",
      "/kaggle/input/signal-fast-radio-burst-detection/train/train/B0531+21_2020-05-31-11_36_46_0007167_labels.csv\n",
      "/kaggle/input/signal-fast-radio-burst-detection/train/train/B0531+21_2020-05-31-11_36_46_0002047_labels.csv\n",
      "/kaggle/input/signal-fast-radio-burst-detection/train/train/B0531+21_58713_43190_reduced_fc_0010239_labels.csv\n",
      "/kaggle/input/signal-fast-radio-burst-detection/train/train/B0531+21_58713_43190_reduced_fc_0003071_labels.csv\n",
      "/kaggle/input/signal-fast-radio-burst-detection/train/train/B0531+21_2020-05-31-11_36_46_0009215.npy\n",
      "/kaggle/input/signal-fast-radio-burst-detection/train/train/J1022+1001_59503_29150_reduced_fc_0001252_labels.csv\n",
      "/kaggle/input/signal-fast-radio-burst-detection/train/train/B1937+21_59503_62790_reduced_fc_0004498_labels.csv\n",
      "/kaggle/input/signal-fast-radio-burst-detection/train/train/B1933+16_59664_23770_reduced_fc_0014095.npy\n",
      "/kaggle/input/signal-fast-radio-burst-detection/train/train/B0531+21_58713_43190_reduced_fc_0015359_labels.csv\n",
      "/kaggle/input/signal-fast-radio-burst-detection/train/train/B1933+16_59664_23770_reduced_fc_0013071_labels.csv\n",
      "/kaggle/input/signal-fast-radio-burst-detection/train/train/B1933+16_59503_61810_reduced_fc_0002047.npy\n",
      "/kaggle/input/signal-fast-radio-burst-detection/train/train/B1933+16_59475_68410_reduced_fc_0002047_labels.csv\n",
      "/kaggle/input/signal-fast-radio-burst-detection/train/train/B1933+16_59475_68410_reduced_fc_0008191_labels.csv\n",
      "/kaggle/input/signal-fast-radio-burst-detection/train/train/J1518+4904_59475_43490_reduced_fc_0004500_labels.csv\n",
      "/kaggle/input/signal-fast-radio-burst-detection/train/train/B1933+16_59475_68410_reduced_fc_0003071.npy\n",
      "/kaggle/input/signal-fast-radio-burst-detection/train/train/B0531+21_58713_43190_reduced_fc_0025599_labels.csv\n",
      "/kaggle/input/signal-fast-radio-burst-detection/train/train/B1937+21_59503_62790_reduced_fc_0002047_labels.csv\n",
      "/kaggle/input/signal-fast-radio-burst-detection/train/train/B1933+16_59475_68410_reduced_fc_0003071_labels.csv\n",
      "/kaggle/input/signal-fast-radio-burst-detection/train/train/B1933+16_59503_61810_reduced_fc_0004495_labels.csv\n",
      "/kaggle/input/signal-fast-radio-burst-detection/train/train/B0531+21_2020-05-31-11_36_46_0013311_labels.csv\n",
      "/kaggle/input/signal-fast-radio-burst-detection/train/train/B0531+21_58713_43190_reduced_fc_0007167.npy\n",
      "/kaggle/input/signal-fast-radio-burst-detection/train/train/J1518+4904_59475_43490_reduced_fc_0002047_labels.csv\n",
      "/kaggle/input/signal-fast-radio-burst-detection/train/train/B0531+21_2020-05-31-11_36_46_0014335.npy\n",
      "/kaggle/input/signal-fast-radio-burst-detection/train/train/B0531+21_2020-05-31-11_36_46_0013311.npy\n",
      "/kaggle/input/signal-fast-radio-burst-detection/train/train/B1933+16_59475_68410_reduced_fc_0005119_labels.csv\n",
      "/kaggle/input/signal-fast-radio-burst-detection/train/train/J2145-0750_59475_75870_reduced_fc_0002047.npy\n",
      "/kaggle/input/signal-fast-radio-burst-detection/train/train/B1937+21_59503_62790_reduced_fc_0004498.npy\n",
      "/kaggle/input/signal-fast-radio-burst-detection/train/train/J2145-0750_59475_75870_reduced_fc_0001023_labels.csv\n",
      "/kaggle/input/signal-fast-radio-burst-detection/train/train/B0531+21_58713_43190_reduced_fc_0008191_labels.csv\n",
      "/kaggle/input/signal-fast-radio-burst-detection/train/train/B0531+21_2020-05-31-11_36_46_0019455_labels.csv\n",
      "/kaggle/input/signal-fast-radio-burst-detection/train/train/B0531+21_2020-05-31-11_36_46_0014335_labels.csv\n",
      "/kaggle/input/signal-fast-radio-burst-detection/train/train/J1022+1001_59503_29150_reduced_fc_0003300_labels.csv\n",
      "/kaggle/input/signal-fast-radio-burst-detection/train/train/B1933+16_59503_61810_reduced_fc_0001023_labels.csv\n",
      "/kaggle/input/signal-fast-radio-burst-detection/train/train/B1937+21_59475_69390_reduced_fc_0007047_labels.csv\n",
      "/kaggle/input/signal-fast-radio-burst-detection/train/train/J2145-0750_59475_75870_reduced_fc_0003623.npy\n",
      "/kaggle/input/signal-fast-radio-burst-detection/train/train/B1933+16_59503_61810_reduced_fc_0004095_labels.csv\n",
      "/kaggle/input/signal-fast-radio-burst-detection/train/train/B0531+21_58713_43190_reduced_fc_0010239.npy\n",
      "/kaggle/input/signal-fast-radio-burst-detection/train/train/B0531+21_2020-05-31-11_36_46_0015359_labels.csv\n",
      "/kaggle/input/signal-fast-radio-burst-detection/train/train/J0621+1002_59691_60070_reduced_fc_0003041.npy\n",
      "/kaggle/input/signal-fast-radio-burst-detection/train/train/B0531+21_58713_43190_reduced_fc_0024575.npy\n",
      "/kaggle/input/signal-fast-radio-burst-detection/train/train/B1937+21_59503_62790_reduced_fc_0001023.npy\n",
      "/kaggle/input/signal-fast-radio-burst-detection/train/train/B0531+21_58713_43190_reduced_fc_0016383_labels.csv\n",
      "/kaggle/input/signal-fast-radio-burst-detection/train/train/B1933+16_59503_61810_reduced_fc_0001023.npy\n",
      "/kaggle/input/signal-fast-radio-burst-detection/train/train/B0531+21_58713_43190_reduced_fc_0031743_labels.csv\n",
      "/kaggle/input/signal-fast-radio-burst-detection/train/train/B0531+21_58713_43190_reduced_fc_0002047_labels.csv\n",
      "/kaggle/input/signal-fast-radio-burst-detection/train/train/J1518+4904_59475_43490_reduced_fc_0001023.npy\n",
      "/kaggle/input/signal-fast-radio-burst-detection/train/train/B0531+21_58713_43190_reduced_fc_0017407_labels.csv\n",
      "/kaggle/input/signal-fast-radio-burst-detection/train/train/B0531+21_58713_43190_reduced_fc_0017407.npy\n",
      "/kaggle/input/signal-fast-radio-burst-detection/train/train/B1933+16_59475_68410_reduced_fc_0001023.npy\n",
      "/kaggle/input/signal-fast-radio-burst-detection/train/train/B0531+21_58713_43190_reduced_fc_0030719.npy\n",
      "/kaggle/input/signal-fast-radio-burst-detection/train/train/B0531+21_58713_43190_reduced_fc_0026623_labels.csv\n",
      "/kaggle/input/signal-fast-radio-burst-detection/train/train/J1518+4904_59475_43490_reduced_fc_0002047.npy\n",
      "/kaggle/input/signal-fast-radio-burst-detection/train/train/B1933+16_59664_23770_reduced_fc_0011023_labels.csv\n",
      "/kaggle/input/signal-fast-radio-burst-detection/train/train/B1937+21_59475_69390_reduced_fc_0006023.npy\n",
      "/kaggle/input/signal-fast-radio-burst-detection/train/train/B1937+21_59503_62790_reduced_fc_0003071_labels.csv\n",
      "/kaggle/input/signal-fast-radio-burst-detection/train/train/J1022+1001_59503_29150_reduced_fc_0004324_labels.csv\n",
      "/kaggle/input/signal-fast-radio-burst-detection/train/train/B1933+16_59475_68410_reduced_fc_0006143_labels.csv\n",
      "/kaggle/input/signal-fast-radio-burst-detection/train/train/B1933+16_59475_68410_reduced_fc_0002047.npy\n",
      "/kaggle/input/signal-fast-radio-burst-detection/train/train/B0531+21_58713_43190_reduced_fc_0009215_labels.csv\n",
      "/kaggle/input/signal-fast-radio-burst-detection/train/train/J2145-0750_59475_75870_reduced_fc_0002047_labels.csv\n",
      "/kaggle/input/signal-fast-radio-burst-detection/train/train/B0531+21_58713_43190_reduced_fc_0012287.npy\n",
      "/kaggle/input/signal-fast-radio-burst-detection/train/train/B0531+21_58713_43190_reduced_fc_0031743.npy\n",
      "/kaggle/input/signal-fast-radio-burst-detection/train/train/B1933+16_59664_23770_reduced_fc_0011023.npy\n",
      "/kaggle/input/signal-fast-radio-burst-detection/train/train/B0531+21_2020-05-31-11_36_46_0018431_labels.csv\n",
      "/kaggle/input/signal-fast-radio-burst-detection/train/train/B1933+16_59475_68410_reduced_fc_0008999_labels.csv\n",
      "/kaggle/input/signal-fast-radio-burst-detection/train/train/B0531+21_58713_43190_reduced_fc_0013311.npy\n",
      "/kaggle/input/signal-fast-radio-burst-detection/train/train/B0531+21_58713_43190_reduced_fc_0001023.npy\n",
      "/kaggle/input/signal-fast-radio-burst-detection/train/train/B0531+21_2020-05-31-11_36_46_0006143.npy\n",
      "/kaggle/input/signal-fast-radio-burst-detection/train/train/B0531+21_58713_43190_reduced_fc_0005119.npy\n",
      "/kaggle/input/signal-fast-radio-burst-detection/train/train/B1937+21_59503_62790_reduced_fc_0001023_labels.csv\n",
      "/kaggle/input/signal-fast-radio-burst-detection/train/train/B0531+21_2020-05-31-11_36_46_0016383.npy\n",
      "/kaggle/input/signal-fast-radio-burst-detection/train/train/B0531+21_58713_43190_reduced_fc_0009215.npy\n",
      "/kaggle/input/signal-fast-radio-burst-detection/train/train/B1933+16_59475_68410_reduced_fc_0008191.npy\n",
      "/kaggle/input/signal-fast-radio-burst-detection/train/train/J1518+4904_59475_43490_reduced_fc_0004500.npy\n",
      "/kaggle/input/signal-fast-radio-burst-detection/train/train/B0531+21_2020-05-31-11_36_46_0007167.npy\n",
      "/kaggle/input/signal-fast-radio-burst-detection/train/train/B1937+21_59503_62790_reduced_fc_0004095_labels.csv\n",
      "/kaggle/input/signal-fast-radio-burst-detection/train/train/B0531+21_58713_43190_reduced_fc_0032130_labels.csv\n",
      "/kaggle/input/signal-fast-radio-burst-detection/train/train/B0531+21_2020-05-31-11_36_46_0002047.npy\n",
      "/kaggle/input/signal-fast-radio-burst-detection/train/train/B0531+21_58713_43190_reduced_fc_0016383.npy\n",
      "/kaggle/input/signal-fast-radio-burst-detection/train/train/B0531+21_2020-05-31-11_36_46_0020479.npy\n",
      "/kaggle/input/signal-fast-radio-burst-detection/train/train/B0531+21_58713_43190_reduced_fc_0027647_labels.csv\n",
      "/kaggle/input/signal-fast-radio-burst-detection/train/train/B0531+21_2020-05-31-11_36_46_0001023_labels.csv\n",
      "/kaggle/input/signal-fast-radio-burst-detection/train/train/B0531+21_58713_43190_reduced_fc_0004095.npy\n",
      "/kaggle/input/signal-fast-radio-burst-detection/train/train/B0531+21_58713_43190_reduced_fc_0020479.npy\n",
      "/kaggle/input/signal-fast-radio-burst-detection/train/train/B0531+21_2020-05-31-11_36_46_0003071_labels.csv\n",
      "/kaggle/input/signal-fast-radio-burst-detection/train/train/B0531+21_2020-05-31-11_36_46_0018431.npy\n",
      "/kaggle/input/signal-fast-radio-burst-detection/train/train/B0531+21_2020-05-31-11_36_46_0019455.npy\n",
      "/kaggle/input/signal-fast-radio-burst-detection/train/train/B0531+21_58713_43190_reduced_fc_0007167_labels.csv\n"
     ]
    }
   ],
   "source": [
    "# Input data files are available in the read-only \"../input/\" directory\n",
    "# For example, running this (by clicking run or pressing Shift+Enter) will list all files under the input directory\n",
    "\n",
    "import os\n",
    "for dirname, _, filenames in os.walk('/kaggle/input'):\n",
    "    for filename in filenames:\n",
    "        print(os.path.join(dirname, filename))\n",
    "\n",
    "# You can write up to 20GB to the current directory (/kaggle/working/) that gets preserved as output when you create a version using \"Save & Run All\" \n",
    "# You can also write temporary files to /kaggle/temp/, but they won't be saved outside of the current session"
   ]
  },
  {
   "cell_type": "code",
   "execution_count": 3,
   "id": "fe7b0141",
   "metadata": {
    "execution": {
     "iopub.execute_input": "2025-02-08T17:25:00.110935Z",
     "iopub.status.busy": "2025-02-08T17:25:00.110650Z",
     "iopub.status.idle": "2025-02-08T17:25:00.119939Z",
     "shell.execute_reply": "2025-02-08T17:25:00.119148Z"
    },
    "papermill": {
     "duration": 0.021082,
     "end_time": "2025-02-08T17:25:00.121296",
     "exception": false,
     "start_time": "2025-02-08T17:25:00.100214",
     "status": "completed"
    },
    "tags": []
   },
   "outputs": [
    {
     "data": {
      "text/plain": [
       "<torch._C.Generator at 0x7e7683b82f50>"
      ]
     },
     "execution_count": 3,
     "metadata": {},
     "output_type": "execute_result"
    }
   ],
   "source": [
    "RANDOM_SEED = 42\n",
    "# torch.backends.cudnn.enabled = False\n",
    "torch.manual_seed(RANDOM_SEED)"
   ]
  },
  {
   "cell_type": "code",
   "execution_count": 4,
   "id": "ce0d9fc9",
   "metadata": {
    "execution": {
     "iopub.execute_input": "2025-02-08T17:25:00.142128Z",
     "iopub.status.busy": "2025-02-08T17:25:00.141866Z",
     "iopub.status.idle": "2025-02-08T17:25:00.192600Z",
     "shell.execute_reply": "2025-02-08T17:25:00.191667Z"
    },
    "papermill": {
     "duration": 0.062773,
     "end_time": "2025-02-08T17:25:00.194113",
     "exception": false,
     "start_time": "2025-02-08T17:25:00.131340",
     "status": "completed"
    },
    "tags": []
   },
   "outputs": [],
   "source": [
    "device = torch.device(\"cuda\" if torch.cuda.is_available() else \"cpu\")"
   ]
  },
  {
   "cell_type": "code",
   "execution_count": 5,
   "id": "2f02e62d",
   "metadata": {
    "execution": {
     "iopub.execute_input": "2025-02-08T17:25:00.214692Z",
     "iopub.status.busy": "2025-02-08T17:25:00.214411Z",
     "iopub.status.idle": "2025-02-08T17:25:00.218031Z",
     "shell.execute_reply": "2025-02-08T17:25:00.217260Z"
    },
    "papermill": {
     "duration": 0.015263,
     "end_time": "2025-02-08T17:25:00.219482",
     "exception": false,
     "start_time": "2025-02-08T17:25:00.204219",
     "status": "completed"
    },
    "tags": []
   },
   "outputs": [],
   "source": [
    "plt.rcParams[\"font.family\"] = \"serif\"\n",
    "plt.rcParams[\"font.serif\"] = [\"Times New Roman\"] + plt.rcParams[\"font.serif\"]\n",
    "plt.rcParams[\"font.size\"] = 16"
   ]
  },
  {
   "cell_type": "code",
   "execution_count": 6,
   "id": "43292dd6",
   "metadata": {
    "execution": {
     "iopub.execute_input": "2025-02-08T17:25:00.239876Z",
     "iopub.status.busy": "2025-02-08T17:25:00.239618Z",
     "iopub.status.idle": "2025-02-08T17:25:00.242986Z",
     "shell.execute_reply": "2025-02-08T17:25:00.242227Z"
    },
    "papermill": {
     "duration": 0.015256,
     "end_time": "2025-02-08T17:25:00.244315",
     "exception": false,
     "start_time": "2025-02-08T17:25:00.229059",
     "status": "completed"
    },
    "tags": []
   },
   "outputs": [],
   "source": [
    "FULL_SET_FEATURE_PATH = \"/kaggle/input/signal-fast-radio-burst-detection/train/train/\"\n",
    "FULL_SET_LABEL_PATH = \"/kaggle/input/signal-fast-radio-burst-detection/train-labels-corrected/train/\"\n",
    "TEST_SET_FEATURE_PATH = \"/kaggle/input/signal-fast-radio-burst-detection/test/test/\"\n",
    "ANSWER_SHEET_PATH = \"/kaggle/input/signal-fast-radio-burst-detection/sample_submission.csv\""
   ]
  },
  {
   "cell_type": "markdown",
   "id": "7c45c4dc",
   "metadata": {
    "papermill": {
     "duration": 0.009229,
     "end_time": "2025-02-08T17:25:00.263184",
     "exception": false,
     "start_time": "2025-02-08T17:25:00.253955",
     "status": "completed"
    },
    "tags": []
   },
   "source": [
    "## Explore the Data"
   ]
  },
  {
   "cell_type": "code",
   "execution_count": 7,
   "id": "a9a11fba",
   "metadata": {
    "execution": {
     "iopub.execute_input": "2025-02-08T17:25:00.283179Z",
     "iopub.status.busy": "2025-02-08T17:25:00.282890Z",
     "iopub.status.idle": "2025-02-08T17:25:00.292410Z",
     "shell.execute_reply": "2025-02-08T17:25:00.291517Z"
    },
    "papermill": {
     "duration": 0.021112,
     "end_time": "2025-02-08T17:25:00.293667",
     "exception": false,
     "start_time": "2025-02-08T17:25:00.272555",
     "status": "completed"
    },
    "tags": []
   },
   "outputs": [
    {
     "name": "stdout",
     "output_type": "stream",
     "text": [
      "training set feature files:  ['/kaggle/input/signal-fast-radio-burst-detection/train/train/B0531+21_2020-05-31-11_36_46_0001023.npy', '/kaggle/input/signal-fast-radio-burst-detection/train/train/B0531+21_2020-05-31-11_36_46_0002047.npy', '/kaggle/input/signal-fast-radio-burst-detection/train/train/B0531+21_2020-05-31-11_36_46_0003071.npy', '/kaggle/input/signal-fast-radio-burst-detection/train/train/B0531+21_2020-05-31-11_36_46_0004095.npy', '/kaggle/input/signal-fast-radio-burst-detection/train/train/B0531+21_2020-05-31-11_36_46_0005119.npy']\n",
      "number of training set feature files:  100\n",
      "training set label files:  ['/kaggle/input/signal-fast-radio-burst-detection/train-labels-corrected/train/B0531+21_2020-05-31-11_36_46_0001023_labels.csv', '/kaggle/input/signal-fast-radio-burst-detection/train-labels-corrected/train/B0531+21_2020-05-31-11_36_46_0002047_labels.csv', '/kaggle/input/signal-fast-radio-burst-detection/train-labels-corrected/train/B0531+21_2020-05-31-11_36_46_0003071_labels.csv', '/kaggle/input/signal-fast-radio-burst-detection/train-labels-corrected/train/B0531+21_2020-05-31-11_36_46_0004095_labels.csv', '/kaggle/input/signal-fast-radio-burst-detection/train-labels-corrected/train/B0531+21_2020-05-31-11_36_46_0005119_labels.csv']\n",
      "number of training set label files:  100\n",
      "test set feature files:  ['/kaggle/input/signal-fast-radio-burst-detection/test/test/0.npy', '/kaggle/input/signal-fast-radio-burst-detection/test/test/1.npy', '/kaggle/input/signal-fast-radio-burst-detection/test/test/10.npy', '/kaggle/input/signal-fast-radio-burst-detection/test/test/11.npy', '/kaggle/input/signal-fast-radio-burst-detection/test/test/12.npy']\n",
      "number of test set feature files:  33\n"
     ]
    }
   ],
   "source": [
    "full_feature_file_paths = sorted(glob.glob(FULL_SET_FEATURE_PATH+ '/' + \"*.npy\"))\n",
    "print(\"training set feature files: \", full_feature_file_paths[:5])\n",
    "print(\"number of training set feature files: \", len(full_feature_file_paths))\n",
    "full_label_file_paths = sorted(glob.glob(FULL_SET_LABEL_PATH+ '/' + \"*.csv\"))\n",
    "print(\"training set label files: \", full_label_file_paths[:5])\n",
    "print(\"number of training set label files: \", len(full_label_file_paths))\n",
    "\n",
    "test_feature_file_paths = sorted(glob.glob(TEST_SET_FEATURE_PATH+ '/' + \"*.npy\"))\n",
    "print(\"test set feature files: \", test_feature_file_paths[:5])\n",
    "print(\"number of test set feature files: \", len(test_feature_file_paths))"
   ]
  },
  {
   "cell_type": "code",
   "execution_count": 8,
   "id": "61510641",
   "metadata": {
    "execution": {
     "iopub.execute_input": "2025-02-08T17:25:00.313878Z",
     "iopub.status.busy": "2025-02-08T17:25:00.313639Z",
     "iopub.status.idle": "2025-02-08T17:25:03.655220Z",
     "shell.execute_reply": "2025-02-08T17:25:03.654155Z"
    },
    "papermill": {
     "duration": 3.353202,
     "end_time": "2025-02-08T17:25:03.656697",
     "exception": false,
     "start_time": "2025-02-08T17:25:00.303495",
     "status": "completed"
    },
    "tags": []
   },
   "outputs": [
    {
     "name": "stdout",
     "output_type": "stream",
     "text": [
      "(262144, 256)\n",
      "[[182.20207 175.16605 191.80408 ... 237.36859 239.19215 308.23114]\n",
      " [193.30156 186.56226 159.6628  ... 295.21173 247.04266 319.43466]\n",
      " [213.11223 184.44229 189.07645 ... 246.4867  231.5767  288.76303]\n",
      " ...\n",
      " [159.88312 174.55893 172.22739 ... 303.33044 285.6743  402.75882]\n",
      " [198.9685  184.34851 211.50859 ... 246.7513  253.63019 293.59723]\n",
      " [187.20697 187.51857 177.88315 ... 281.9099  314.80948 347.81857]]\n"
     ]
    }
   ],
   "source": [
    "sample_feature_file_path = full_feature_file_paths[0]\n",
    "sample_feature = np.load(sample_feature_file_path)\n",
    "print(sample_feature.shape)\n",
    "print(sample_feature)"
   ]
  },
  {
   "cell_type": "code",
   "execution_count": 9,
   "id": "f6099fbe",
   "metadata": {
    "execution": {
     "iopub.execute_input": "2025-02-08T17:25:03.677564Z",
     "iopub.status.busy": "2025-02-08T17:25:03.677301Z",
     "iopub.status.idle": "2025-02-08T17:25:03.712171Z",
     "shell.execute_reply": "2025-02-08T17:25:03.711405Z"
    },
    "papermill": {
     "duration": 0.046479,
     "end_time": "2025-02-08T17:25:03.713446",
     "exception": false,
     "start_time": "2025-02-08T17:25:03.666967",
     "status": "completed"
    },
    "tags": []
   },
   "outputs": [
    {
     "data": {
      "text/html": [
       "<div>\n",
       "<style scoped>\n",
       "    .dataframe tbody tr th:only-of-type {\n",
       "        vertical-align: middle;\n",
       "    }\n",
       "\n",
       "    .dataframe tbody tr th {\n",
       "        vertical-align: top;\n",
       "    }\n",
       "\n",
       "    .dataframe thead th {\n",
       "        text-align: right;\n",
       "    }\n",
       "</style>\n",
       "<table border=\"1\" class=\"dataframe\">\n",
       "  <thead>\n",
       "    <tr style=\"text-align: right;\">\n",
       "      <th></th>\n",
       "      <th>Unnamed: 0</th>\n",
       "      <th>index</th>\n",
       "      <th>labels</th>\n",
       "    </tr>\n",
       "  </thead>\n",
       "  <tbody>\n",
       "    <tr>\n",
       "      <th>0</th>\n",
       "      <td>0</td>\n",
       "      <td>0</td>\n",
       "      <td>NaN</td>\n",
       "    </tr>\n",
       "    <tr>\n",
       "      <th>1</th>\n",
       "      <td>1</td>\n",
       "      <td>1</td>\n",
       "      <td>NaN</td>\n",
       "    </tr>\n",
       "    <tr>\n",
       "      <th>2</th>\n",
       "      <td>2</td>\n",
       "      <td>2</td>\n",
       "      <td>NaN</td>\n",
       "    </tr>\n",
       "    <tr>\n",
       "      <th>3</th>\n",
       "      <td>3</td>\n",
       "      <td>3</td>\n",
       "      <td>NaN</td>\n",
       "    </tr>\n",
       "    <tr>\n",
       "      <th>4</th>\n",
       "      <td>4</td>\n",
       "      <td>4</td>\n",
       "      <td>NaN</td>\n",
       "    </tr>\n",
       "    <tr>\n",
       "      <th>...</th>\n",
       "      <td>...</td>\n",
       "      <td>...</td>\n",
       "      <td>...</td>\n",
       "    </tr>\n",
       "    <tr>\n",
       "      <th>1019</th>\n",
       "      <td>1019</td>\n",
       "      <td>1019</td>\n",
       "      <td>NaN</td>\n",
       "    </tr>\n",
       "    <tr>\n",
       "      <th>1020</th>\n",
       "      <td>1020</td>\n",
       "      <td>1020</td>\n",
       "      <td>NaN</td>\n",
       "    </tr>\n",
       "    <tr>\n",
       "      <th>1021</th>\n",
       "      <td>1021</td>\n",
       "      <td>1021</td>\n",
       "      <td>NaN</td>\n",
       "    </tr>\n",
       "    <tr>\n",
       "      <th>1022</th>\n",
       "      <td>1022</td>\n",
       "      <td>1022</td>\n",
       "      <td>NaN</td>\n",
       "    </tr>\n",
       "    <tr>\n",
       "      <th>1023</th>\n",
       "      <td>1023</td>\n",
       "      <td>1023</td>\n",
       "      <td>NaN</td>\n",
       "    </tr>\n",
       "  </tbody>\n",
       "</table>\n",
       "<p>1024 rows × 3 columns</p>\n",
       "</div>"
      ],
      "text/plain": [
       "      Unnamed: 0  index labels\n",
       "0              0      0    NaN\n",
       "1              1      1    NaN\n",
       "2              2      2    NaN\n",
       "3              3      3    NaN\n",
       "4              4      4    NaN\n",
       "...          ...    ...    ...\n",
       "1019        1019   1019    NaN\n",
       "1020        1020   1020    NaN\n",
       "1021        1021   1021    NaN\n",
       "1022        1022   1022    NaN\n",
       "1023        1023   1023    NaN\n",
       "\n",
       "[1024 rows x 3 columns]"
      ]
     },
     "execution_count": 9,
     "metadata": {},
     "output_type": "execute_result"
    }
   ],
   "source": [
    "sample_label_file_path = full_label_file_paths[0]\n",
    "sample_labels = pd.read_csv(sample_label_file_path)\n",
    "sample_labels"
   ]
  },
  {
   "cell_type": "markdown",
   "id": "f3e71d25",
   "metadata": {
    "papermill": {
     "duration": 0.009864,
     "end_time": "2025-02-08T17:25:03.733549",
     "exception": false,
     "start_time": "2025-02-08T17:25:03.723685",
     "status": "completed"
    },
    "tags": []
   },
   "source": [
    "Fill in the missing value with the **string** \"None\". This will save us from headache later down the line especially when we have to deal with DataFrame indices."
   ]
  },
  {
   "cell_type": "code",
   "execution_count": 10,
   "id": "27ecc7c7",
   "metadata": {
    "execution": {
     "iopub.execute_input": "2025-02-08T17:25:03.754615Z",
     "iopub.status.busy": "2025-02-08T17:25:03.754348Z",
     "iopub.status.idle": "2025-02-08T17:25:03.762941Z",
     "shell.execute_reply": "2025-02-08T17:25:03.762264Z"
    },
    "papermill": {
     "duration": 0.020524,
     "end_time": "2025-02-08T17:25:03.764027",
     "exception": false,
     "start_time": "2025-02-08T17:25:03.743503",
     "status": "completed"
    },
    "tags": []
   },
   "outputs": [
    {
     "data": {
      "text/html": [
       "<div>\n",
       "<style scoped>\n",
       "    .dataframe tbody tr th:only-of-type {\n",
       "        vertical-align: middle;\n",
       "    }\n",
       "\n",
       "    .dataframe tbody tr th {\n",
       "        vertical-align: top;\n",
       "    }\n",
       "\n",
       "    .dataframe thead th {\n",
       "        text-align: right;\n",
       "    }\n",
       "</style>\n",
       "<table border=\"1\" class=\"dataframe\">\n",
       "  <thead>\n",
       "    <tr style=\"text-align: right;\">\n",
       "      <th></th>\n",
       "      <th>Unnamed: 0</th>\n",
       "      <th>index</th>\n",
       "      <th>labels</th>\n",
       "    </tr>\n",
       "  </thead>\n",
       "  <tbody>\n",
       "    <tr>\n",
       "      <th>0</th>\n",
       "      <td>0</td>\n",
       "      <td>0</td>\n",
       "      <td>None</td>\n",
       "    </tr>\n",
       "    <tr>\n",
       "      <th>1</th>\n",
       "      <td>1</td>\n",
       "      <td>1</td>\n",
       "      <td>None</td>\n",
       "    </tr>\n",
       "    <tr>\n",
       "      <th>2</th>\n",
       "      <td>2</td>\n",
       "      <td>2</td>\n",
       "      <td>None</td>\n",
       "    </tr>\n",
       "    <tr>\n",
       "      <th>3</th>\n",
       "      <td>3</td>\n",
       "      <td>3</td>\n",
       "      <td>None</td>\n",
       "    </tr>\n",
       "    <tr>\n",
       "      <th>4</th>\n",
       "      <td>4</td>\n",
       "      <td>4</td>\n",
       "      <td>None</td>\n",
       "    </tr>\n",
       "    <tr>\n",
       "      <th>...</th>\n",
       "      <td>...</td>\n",
       "      <td>...</td>\n",
       "      <td>...</td>\n",
       "    </tr>\n",
       "    <tr>\n",
       "      <th>1019</th>\n",
       "      <td>1019</td>\n",
       "      <td>1019</td>\n",
       "      <td>None</td>\n",
       "    </tr>\n",
       "    <tr>\n",
       "      <th>1020</th>\n",
       "      <td>1020</td>\n",
       "      <td>1020</td>\n",
       "      <td>None</td>\n",
       "    </tr>\n",
       "    <tr>\n",
       "      <th>1021</th>\n",
       "      <td>1021</td>\n",
       "      <td>1021</td>\n",
       "      <td>None</td>\n",
       "    </tr>\n",
       "    <tr>\n",
       "      <th>1022</th>\n",
       "      <td>1022</td>\n",
       "      <td>1022</td>\n",
       "      <td>None</td>\n",
       "    </tr>\n",
       "    <tr>\n",
       "      <th>1023</th>\n",
       "      <td>1023</td>\n",
       "      <td>1023</td>\n",
       "      <td>None</td>\n",
       "    </tr>\n",
       "  </tbody>\n",
       "</table>\n",
       "<p>1024 rows × 3 columns</p>\n",
       "</div>"
      ],
      "text/plain": [
       "      Unnamed: 0  index labels\n",
       "0              0      0   None\n",
       "1              1      1   None\n",
       "2              2      2   None\n",
       "3              3      3   None\n",
       "4              4      4   None\n",
       "...          ...    ...    ...\n",
       "1019        1019   1019   None\n",
       "1020        1020   1020   None\n",
       "1021        1021   1021   None\n",
       "1022        1022   1022   None\n",
       "1023        1023   1023   None\n",
       "\n",
       "[1024 rows x 3 columns]"
      ]
     },
     "execution_count": 10,
     "metadata": {},
     "output_type": "execute_result"
    }
   ],
   "source": [
    "sample_labels.fillna(\"None\")"
   ]
  },
  {
   "cell_type": "code",
   "execution_count": 11,
   "id": "f72f14db",
   "metadata": {
    "execution": {
     "iopub.execute_input": "2025-02-08T17:25:03.785655Z",
     "iopub.status.busy": "2025-02-08T17:25:03.785401Z",
     "iopub.status.idle": "2025-02-08T17:25:04.321306Z",
     "shell.execute_reply": "2025-02-08T17:25:04.320499Z"
    },
    "papermill": {
     "duration": 0.547863,
     "end_time": "2025-02-08T17:25:04.322581",
     "exception": false,
     "start_time": "2025-02-08T17:25:03.774718",
     "status": "completed"
    },
    "tags": []
   },
   "outputs": [
    {
     "data": {
      "text/plain": [
       "labels\n",
       "Broad             3201\n",
       "Broad+Pulse          9\n",
       "Narrow            8582\n",
       "Narrow+Broad       138\n",
       "Narrow+Pulse        60\n",
       "None             62988\n",
       "Pulse             3847\n",
       "Uncertain         5721\n",
       "Unknown+Pulse       37\n",
       "Unlabeled        11842\n",
       "Name: count, dtype: int64"
      ]
     },
     "execution_count": 11,
     "metadata": {},
     "output_type": "execute_result"
    }
   ],
   "source": [
    "full_label_counts = []\n",
    "for filename in full_label_file_paths:\n",
    "    labels = pd.read_csv(filename, usecols=[\"labels\"]).fillna(\"None\")\n",
    "    full_label_counts.append(labels.value_counts(dropna=False))\n",
    "full_label_counts = pd.concat(full_label_counts).groupby([\"labels\"], dropna=False).sum()\n",
    "full_label_counts"
   ]
  },
  {
   "cell_type": "code",
   "execution_count": 12,
   "id": "fe550be0",
   "metadata": {
    "execution": {
     "iopub.execute_input": "2025-02-08T17:25:04.344339Z",
     "iopub.status.busy": "2025-02-08T17:25:04.344060Z",
     "iopub.status.idle": "2025-02-08T17:25:04.348654Z",
     "shell.execute_reply": "2025-02-08T17:25:04.347865Z"
    },
    "papermill": {
     "duration": 0.016786,
     "end_time": "2025-02-08T17:25:04.349969",
     "exception": false,
     "start_time": "2025-02-08T17:25:04.333183",
     "status": "completed"
    },
    "tags": []
   },
   "outputs": [
    {
     "data": {
      "text/plain": [
       "96425"
      ]
     },
     "execution_count": 12,
     "metadata": {},
     "output_type": "execute_result"
    }
   ],
   "source": [
    "full_label_counts.sum()"
   ]
  },
  {
   "cell_type": "code",
   "execution_count": 13,
   "id": "c9f2adc2",
   "metadata": {
    "execution": {
     "iopub.execute_input": "2025-02-08T17:25:04.371758Z",
     "iopub.status.busy": "2025-02-08T17:25:04.371494Z",
     "iopub.status.idle": "2025-02-08T17:25:04.552205Z",
     "shell.execute_reply": "2025-02-08T17:25:04.551400Z"
    },
    "papermill": {
     "duration": 0.193022,
     "end_time": "2025-02-08T17:25:04.553607",
     "exception": false,
     "start_time": "2025-02-08T17:25:04.360585",
     "status": "completed"
    },
    "tags": []
   },
   "outputs": [
    {
     "data": {
      "text/plain": [
       "96425"
      ]
     },
     "execution_count": 13,
     "metadata": {},
     "output_type": "execute_result"
    }
   ],
   "source": [
    "num_labels = 0\n",
    "for label_file_path in full_label_file_paths:\n",
    "    labels = pd.read_csv(label_file_path, usecols=[\"labels\"]).fillna(\"None\")\n",
    "    num_labels += len(labels)\n",
    "num_labels"
   ]
  },
  {
   "cell_type": "markdown",
   "id": "681ff2ad",
   "metadata": {
    "papermill": {
     "duration": 0.01038,
     "end_time": "2025-02-08T17:25:04.574880",
     "exception": false,
     "start_time": "2025-02-08T17:25:04.564500",
     "status": "completed"
    },
    "tags": []
   },
   "source": [
    "## Loading and Preprocessing the Data"
   ]
  },
  {
   "cell_type": "markdown",
   "id": "d0b765cb",
   "metadata": {
    "papermill": {
     "duration": 0.01039,
     "end_time": "2025-02-08T17:25:04.595674",
     "exception": false,
     "start_time": "2025-02-08T17:25:04.585284",
     "status": "completed"
    },
    "tags": []
   },
   "source": [
    "### Normalizing the data and create a Dataset object for the full set"
   ]
  },
  {
   "cell_type": "code",
   "execution_count": 14,
   "id": "1231809d",
   "metadata": {
    "execution": {
     "iopub.execute_input": "2025-02-08T17:25:04.617487Z",
     "iopub.status.busy": "2025-02-08T17:25:04.617187Z",
     "iopub.status.idle": "2025-02-08T17:25:04.621148Z",
     "shell.execute_reply": "2025-02-08T17:25:04.620321Z"
    },
    "papermill": {
     "duration": 0.016483,
     "end_time": "2025-02-08T17:25:04.622497",
     "exception": false,
     "start_time": "2025-02-08T17:25:04.606014",
     "status": "completed"
    },
    "tags": []
   },
   "outputs": [],
   "source": [
    "def normalize_snr(spectogram):\n",
    "    med = np.median(spectogram, axis=0)\n",
    "    std = np.std(spectogram, axis=0)\n",
    "    normalized_spectogram = (spectogram - med) / std\n",
    "    # normalized_spectogram[normalized_spectogram < 0] = 0\n",
    "    return normalized_spectogram"
   ]
  },
  {
   "cell_type": "code",
   "execution_count": 15,
   "id": "5be31c70",
   "metadata": {
    "execution": {
     "iopub.execute_input": "2025-02-08T17:25:04.644059Z",
     "iopub.status.busy": "2025-02-08T17:25:04.643818Z",
     "iopub.status.idle": "2025-02-08T17:25:04.646894Z",
     "shell.execute_reply": "2025-02-08T17:25:04.646265Z"
    },
    "papermill": {
     "duration": 0.015145,
     "end_time": "2025-02-08T17:25:04.648168",
     "exception": false,
     "start_time": "2025-02-08T17:25:04.633023",
     "status": "completed"
    },
    "tags": []
   },
   "outputs": [],
   "source": [
    "NUM_CHANNELS = 256"
   ]
  },
  {
   "cell_type": "code",
   "execution_count": 16,
   "id": "8cc8f7a8",
   "metadata": {
    "execution": {
     "iopub.execute_input": "2025-02-08T17:25:04.669712Z",
     "iopub.status.busy": "2025-02-08T17:25:04.669450Z",
     "iopub.status.idle": "2025-02-08T17:25:04.679426Z",
     "shell.execute_reply": "2025-02-08T17:25:04.678702Z"
    },
    "papermill": {
     "duration": 0.022232,
     "end_time": "2025-02-08T17:25:04.680692",
     "exception": false,
     "start_time": "2025-02-08T17:25:04.658460",
     "status": "completed"
    },
    "tags": []
   },
   "outputs": [],
   "source": [
    "from torch.utils.data import Dataset\n",
    "\n",
    "class SpectogramDataset(Dataset):\n",
    "\n",
    "    def __init__(self, feature_directory_path, label_directory_path, lazy=False):\n",
    "        self.feature_directory_path = feature_directory_path\n",
    "        self.label_directory_path = label_directory_path\n",
    "        self.index_to_block = {}\n",
    "\n",
    "        feature_file_paths = sorted(glob.glob(self.feature_directory_path + '/' + \"*.npy\"))\n",
    "\n",
    "        idx = 0\n",
    "        for feature_file_path in feature_file_paths:\n",
    "            sequence_name = os.path.splitext(os.path.basename(feature_file_path))[0]\n",
    "            feature = np.load(feature_file_path)\n",
    "            num_bins = feature.shape[0]\n",
    "            if num_bins % NUM_CHANNELS == 0:\n",
    "                num_blocks = num_bins // NUM_CHANNELS\n",
    "            else:\n",
    "                num_blocks = num_bins // NUM_CHANNELS + 1\n",
    "            \n",
    "            label_file_path = os.path.join(self.label_directory_path, sequence_name + \"_labels.csv\")\n",
    "\n",
    "            labels = None\n",
    "            labeled = True\n",
    "            try:\n",
    "                labels = pd.read_csv(label_file_path, usecols=[\"labels\"]).fillna(\"None\")\n",
    "            except FileNotFoundError:\n",
    "                labeled = False\n",
    "\n",
    "            for i in range(num_blocks):\n",
    "                if labeled and labels is not None:\n",
    "                    label = labels.iloc[i].loc[\"labels\"]\n",
    "                    label_vec = torch.tensor([0, 0, 0, 0])\n",
    "                    if isinstance(label, str):\n",
    "                        if \"Pulse\" in label:\n",
    "                            label_vec[0] = 1\n",
    "                        if \"Broad\" in label:\n",
    "                            label_vec[1] = 1\n",
    "                        if \"Narrow\" in label:\n",
    "                            label_vec[2] = 1\n",
    "                        if label == \"Uncertain\" or  label == \"Unlabeled\":\n",
    "                            label_vec = torch.tensor([0, 0, 0, 1])\n",
    "                    else:\n",
    "                        label_vec = torch.tensor([0, 0, 0, 1])\n",
    "                else:\n",
    "                    label_vec = None\n",
    "\n",
    "                if lazy:\n",
    "                    self.index_to_block[idx] = (sequence_name, i, None, label_vec)\n",
    "                else:\n",
    "                    block = feature[i * NUM_CHANNELS: (i + 1) * NUM_CHANNELS, :]\n",
    "                    spectogram = block.T\n",
    "                    spectogram.resize((NUM_CHANNELS, NUM_CHANNELS), refcheck = False)\n",
    "                    spectogram = normalize_snr(spectogram)\n",
    "                    spectogram = torch.from_numpy(spectogram)\n",
    "                    self.index_to_block[idx] = (sequence_name, i, spectogram, label_vec)\n",
    "                idx += 1\n",
    "\n",
    "    def __len__(self):\n",
    "        return len(self.index_to_block)\n",
    "\n",
    "    def __getitem__(self, idx):\n",
    "        if torch.is_tensor(idx):\n",
    "            idx = idx.tolist()\n",
    "\n",
    "        sequence_name, block_num, spectogram, label_vec = self.index_to_block[idx]\n",
    "        if spectogram is None:\n",
    "            feature_file_path = os.path.join(self.feature_directory_path, sequence_name + \".npy\")\n",
    "            features = np.load(feature_file_path)\n",
    "            block = features[block_num * NUM_CHANNELS: (block_num + 1) * NUM_CHANNELS, :]\n",
    "            spectogram = block.T\n",
    "            spectogram.resize((NUM_CHANNELS, NUM_CHANNELS), refcheck = False)\n",
    "            spectogram = normalize_snr(spectogram)\n",
    "            spectogram = torch.from_numpy(spectogram)\n",
    "\n",
    "        return spectogram.unsqueeze(0), label_vec.unsqueeze(0)"
   ]
  },
  {
   "cell_type": "code",
   "execution_count": null,
   "id": "e81c7fd5",
   "metadata": {
    "execution": {
     "iopub.execute_input": "2025-02-08T14:43:18.845054Z",
     "iopub.status.busy": "2025-02-08T14:43:18.844780Z",
     "iopub.status.idle": "2025-02-08T14:48:38.091309Z",
     "shell.execute_reply": "2025-02-08T14:48:38.090448Z",
     "shell.execute_reply.started": "2025-02-08T14:43:18.845032Z"
    },
    "papermill": {
     "duration": null,
     "end_time": null,
     "exception": false,
     "start_time": "2025-02-08T17:25:04.690942",
     "status": "running"
    },
    "tags": []
   },
   "outputs": [],
   "source": [
    "full_set = SpectogramDataset(FULL_SET_FEATURE_PATH, FULL_SET_LABEL_PATH)\n",
    "full_set"
   ]
  },
  {
   "cell_type": "markdown",
   "id": "0b61987a",
   "metadata": {
    "papermill": {
     "duration": null,
     "end_time": null,
     "exception": null,
     "start_time": null,
     "status": "pending"
    },
    "tags": []
   },
   "source": [
    "Let's verify that the length of the full set matches the number of labels."
   ]
  },
  {
   "cell_type": "code",
   "execution_count": null,
   "id": "91ea1745",
   "metadata": {
    "execution": {
     "iopub.execute_input": "2025-02-08T14:48:38.092577Z",
     "iopub.status.busy": "2025-02-08T14:48:38.092247Z",
     "iopub.status.idle": "2025-02-08T14:48:38.098240Z",
     "shell.execute_reply": "2025-02-08T14:48:38.097275Z",
     "shell.execute_reply.started": "2025-02-08T14:48:38.092535Z"
    },
    "papermill": {
     "duration": null,
     "end_time": null,
     "exception": null,
     "start_time": null,
     "status": "pending"
    },
    "tags": []
   },
   "outputs": [],
   "source": [
    "print(len(full_set))"
   ]
  },
  {
   "cell_type": "markdown",
   "id": "da09896b",
   "metadata": {
    "papermill": {
     "duration": null,
     "end_time": null,
     "exception": null,
     "start_time": null,
     "status": "pending"
    },
    "tags": []
   },
   "source": [
    "Also, check if the full set just created has correct random access behaviour (e.g. has correct outputs shape)"
   ]
  },
  {
   "cell_type": "code",
   "execution_count": null,
   "id": "d62403bb",
   "metadata": {
    "execution": {
     "iopub.execute_input": "2025-02-08T14:48:38.099475Z",
     "iopub.status.busy": "2025-02-08T14:48:38.099224Z",
     "iopub.status.idle": "2025-02-08T14:48:38.185995Z",
     "shell.execute_reply": "2025-02-08T14:48:38.185123Z",
     "shell.execute_reply.started": "2025-02-08T14:48:38.099456Z"
    },
    "papermill": {
     "duration": null,
     "end_time": null,
     "exception": null,
     "start_time": null,
     "status": "pending"
    },
    "tags": []
   },
   "outputs": [],
   "source": [
    "print(full_set[0])\n",
    "print(full_set[0][0].shape)\n",
    "print(full_set[0][1].shape)"
   ]
  },
  {
   "cell_type": "markdown",
   "id": "b919044f",
   "metadata": {
    "papermill": {
     "duration": null,
     "end_time": null,
     "exception": null,
     "start_time": null,
     "status": "pending"
    },
    "tags": []
   },
   "source": [
    "Let's also redefine the spectogram plotting function so that it can accept `torch.tensor` object as its input."
   ]
  },
  {
   "cell_type": "code",
   "execution_count": null,
   "id": "830d1bf1",
   "metadata": {
    "execution": {
     "iopub.execute_input": "2025-02-08T14:48:38.187242Z",
     "iopub.status.busy": "2025-02-08T14:48:38.186927Z",
     "iopub.status.idle": "2025-02-08T14:48:38.195249Z",
     "shell.execute_reply": "2025-02-08T14:48:38.194467Z",
     "shell.execute_reply.started": "2025-02-08T14:48:38.187211Z"
    },
    "papermill": {
     "duration": null,
     "end_time": null,
     "exception": null,
     "start_time": null,
     "status": "pending"
    },
    "tags": []
   },
   "outputs": [],
   "source": [
    "def plot_spectogram(spectogram, title_string=None, vmin=None, vmax=None):\n",
    "    if isinstance(spectogram, torch.Tensor):\n",
    "        spectogram = spectogram.squeeze().detach().cpu().numpy()\n",
    "\n",
    "    fig = plt.figure(figsize=(10,10))\n",
    "    gs = fig.add_gridspec(\n",
    "        2, 2, width_ratios=(4, 1), height_ratios=(1, 4),\n",
    "        left=0.1, right=0.9, bottom=0.1, top=0.93,\n",
    "        wspace=0, hspace=0\n",
    "    )\n",
    "\n",
    "    num_channels = spectogram.shape[0]\n",
    "    num_bins = spectogram.shape[1]\n",
    "    # dynamic_spectrum = np.transpose(X_demo)\n",
    "    ax1 = fig.add_subplot(gs[1, 0])\n",
    "    heatmap = ax1.imshow(\n",
    "        spectogram,\n",
    "        aspect=\"auto\",\n",
    "        origin=\"upper\",\n",
    "        interpolation=\"none\",\n",
    "        cmap=\"gray\",\n",
    "        vmin=vmin,\n",
    "        vmax=vmax\n",
    "    )\n",
    "    ax1.set_xlabel(\"Time (ms)\")\n",
    "    ax1.set_ylabel(\"Channel\")\n",
    "    ax1.set_ylim(num_channels - 1, 0)\n",
    "    ax1.set_xlim(0, num_bins - 1)\n",
    "\n",
    "    lightcurve = np.sum(spectogram, axis=0)\n",
    "    powerspectrum = np.sum(spectogram, axis=1)\n",
    "    ax2 = fig.add_subplot(gs[1, 1])\n",
    "    freq_bin = np.linspace(0, len(powerspectrum), len(powerspectrum))\n",
    "    plt.plot(powerspectrum, freq_bin)\n",
    "    ax2.set_yticklabels([])\n",
    "    ax2.set_xticklabels([])\n",
    "    ax2.set_xlim(0, 1.2 * np.max(powerspectrum))\n",
    "    ax2.set_ylim(ax1.get_ylim())\n",
    "    ax2.set_xlabel(\"SED\")\n",
    "\n",
    "    ax3 = fig.add_subplot(gs[0, 0])\n",
    "    ax3.plot(lightcurve)\n",
    "    ax3.set_xlim(ax1.get_xlim())\n",
    "    ax3.set_xticklabels([])\n",
    "    ax3.set_yticklabels([])\n",
    "    # ax3.set_ylim(0, 1.2 * np.max(lightcurve))\n",
    "    ax3.set_ylabel(r\"Intensity\")\n",
    "    if title_string is not None:\n",
    "        ax3.set_title(title_string)\n",
    "\n",
    "    fig.colorbar(heatmap, ax=ax2, orientation=\"vertical\", fraction = .5)\n",
    "    plt.show()"
   ]
  },
  {
   "cell_type": "markdown",
   "id": "6e2a605f",
   "metadata": {
    "papermill": {
     "duration": null,
     "end_time": null,
     "exception": null,
     "start_time": null,
     "status": "pending"
    },
    "tags": []
   },
   "source": [
    "By manually inspecting the label, I know that there is a pulse during block 535 of the sequence \n",
    "B0531+21_2020-05-31-11_36_46_0001023, so let's see"
   ]
  },
  {
   "cell_type": "code",
   "execution_count": null,
   "id": "fb2b007f",
   "metadata": {
    "execution": {
     "iopub.execute_input": "2025-02-08T14:48:38.196333Z",
     "iopub.status.busy": "2025-02-08T14:48:38.196038Z",
     "iopub.status.idle": "2025-02-08T14:48:38.775536Z",
     "shell.execute_reply": "2025-02-08T14:48:38.775247Z",
     "shell.execute_reply.started": "2025-02-08T14:48:38.196305Z"
    },
    "papermill": {
     "duration": null,
     "end_time": null,
     "exception": null,
     "start_time": null,
     "status": "pending"
    },
    "tags": []
   },
   "outputs": [],
   "source": [
    "plot_spectogram(full_set[535][0], title_string=\"Spectogram\")\n",
    "print(full_set[535][1])"
   ]
  },
  {
   "cell_type": "markdown",
   "id": "2ab51276",
   "metadata": {
    "papermill": {
     "duration": null,
     "end_time": null,
     "exception": null,
     "start_time": null,
     "status": "pending"
    },
    "tags": []
   },
   "source": [
    "### Create a sampler"
   ]
  },
  {
   "cell_type": "markdown",
   "id": "964f2d69",
   "metadata": {
    "papermill": {
     "duration": null,
     "end_time": null,
     "exception": null,
     "start_time": null,
     "status": "pending"
    },
    "tags": []
   },
   "source": [
    "#### Split the full set into training and validation set"
   ]
  },
  {
   "cell_type": "code",
   "execution_count": null,
   "id": "9df31425",
   "metadata": {
    "execution": {
     "iopub.execute_input": "2025-02-08T14:48:38.776493Z",
     "iopub.status.busy": "2025-02-08T14:48:38.776220Z",
     "iopub.status.idle": "2025-02-08T14:48:38.799516Z",
     "shell.execute_reply": "2025-02-08T14:48:38.777989Z",
     "shell.execute_reply.started": "2025-02-08T14:48:38.776465Z"
    },
    "papermill": {
     "duration": null,
     "end_time": null,
     "exception": null,
     "start_time": null,
     "status": "pending"
    },
    "tags": []
   },
   "outputs": [],
   "source": [
    "TRAIN_PROPORTION = 0.8\n",
    "VAL_PROPORTION = 0.2"
   ]
  },
  {
   "cell_type": "code",
   "execution_count": null,
   "id": "b52e87ca",
   "metadata": {
    "execution": {
     "iopub.execute_input": "2025-02-08T14:48:38.800692Z",
     "iopub.status.busy": "2025-02-08T14:48:38.800408Z",
     "iopub.status.idle": "2025-02-08T14:48:38.816764Z",
     "shell.execute_reply": "2025-02-08T14:48:38.815935Z",
     "shell.execute_reply.started": "2025-02-08T14:48:38.800667Z"
    },
    "papermill": {
     "duration": null,
     "end_time": null,
     "exception": null,
     "start_time": null,
     "status": "pending"
    },
    "tags": []
   },
   "outputs": [],
   "source": [
    "from torch.utils.data import random_split\n",
    "\n",
    "rng = torch.Generator().manual_seed(42)\n",
    "train_set, val_set = random_split(\n",
    "    full_set, \n",
    "     [TRAIN_PROPORTION, VAL_PROPORTION], \n",
    "    generator=rng\n",
    ")\n",
    "print(train_set, len(train_set))\n",
    "print(val_set, len(val_set))"
   ]
  },
  {
   "cell_type": "markdown",
   "id": "7937ebc4",
   "metadata": {
    "papermill": {
     "duration": null,
     "end_time": null,
     "exception": null,
     "start_time": null,
     "status": "pending"
    },
    "tags": []
   },
   "source": [
    "#### Get the sampling weight for our training and validation set"
   ]
  },
  {
   "cell_type": "markdown",
   "id": "09338549",
   "metadata": {
    "papermill": {
     "duration": null,
     "end_time": null,
     "exception": null,
     "start_time": null,
     "status": "pending"
    },
    "tags": []
   },
   "source": [
    "First let's inspect the count of each class in the full set again."
   ]
  },
  {
   "cell_type": "code",
   "execution_count": null,
   "id": "06c5600f",
   "metadata": {
    "execution": {
     "iopub.execute_input": "2025-02-08T14:48:38.817940Z",
     "iopub.status.busy": "2025-02-08T14:48:38.817670Z",
     "iopub.status.idle": "2025-02-08T14:48:38.830655Z",
     "shell.execute_reply": "2025-02-08T14:48:38.829996Z",
     "shell.execute_reply.started": "2025-02-08T14:48:38.817920Z"
    },
    "papermill": {
     "duration": null,
     "end_time": null,
     "exception": null,
     "start_time": null,
     "status": "pending"
    },
    "tags": []
   },
   "outputs": [],
   "source": [
    "full_label_counts"
   ]
  },
  {
   "cell_type": "markdown",
   "id": "daff5c70",
   "metadata": {
    "papermill": {
     "duration": null,
     "end_time": null,
     "exception": null,
     "start_time": null,
     "status": "pending"
    },
    "tags": []
   },
   "source": [
    "We are going to obtain a similar label counts from both the training and validation set we just created, except this time each class will be represented as `torch.tensor`."
   ]
  },
  {
   "cell_type": "code",
   "execution_count": null,
   "id": "e8e533fd",
   "metadata": {
    "execution": {
     "iopub.execute_input": "2025-02-08T14:48:38.831664Z",
     "iopub.status.busy": "2025-02-08T14:48:38.831372Z",
     "iopub.status.idle": "2025-02-08T14:48:39.468197Z",
     "shell.execute_reply": "2025-02-08T14:48:39.467236Z",
     "shell.execute_reply.started": "2025-02-08T14:48:38.831636Z"
    },
    "papermill": {
     "duration": null,
     "end_time": null,
     "exception": null,
     "start_time": null,
     "status": "pending"
    },
    "tags": []
   },
   "outputs": [],
   "source": [
    "train_label_counts = {}\n",
    "\n",
    "for i in range(len(train_set)):\n",
    "    # Convert the tensor to a tuple directly, ensuring it's hashable\n",
    "    key = tuple(train_set[i][1].squeeze().tolist())  \n",
    "    try:\n",
    "        train_label_counts[key] += 1\n",
    "    except KeyError:\n",
    "        train_label_counts[key] = 1  # Initialize with 1 for the first occurrence\n",
    "\n",
    "# train_label_counts\n",
    "train_label_counts = pd.Series(train_label_counts)\n",
    "train_label_counts.index.name = \"labels\"\n",
    "train_label_counts.name = \"count\"\n",
    "train_label_counts"
   ]
  },
  {
   "cell_type": "code",
   "execution_count": null,
   "id": "f36e1eae",
   "metadata": {
    "execution": {
     "iopub.execute_input": "2025-02-08T14:48:39.469004Z",
     "iopub.status.busy": "2025-02-08T14:48:39.468810Z",
     "iopub.status.idle": "2025-02-08T14:48:39.631262Z",
     "shell.execute_reply": "2025-02-08T14:48:39.630422Z",
     "shell.execute_reply.started": "2025-02-08T14:48:39.468988Z"
    },
    "papermill": {
     "duration": null,
     "end_time": null,
     "exception": null,
     "start_time": null,
     "status": "pending"
    },
    "tags": []
   },
   "outputs": [],
   "source": [
    "val_label_counts = {}\n",
    "\n",
    "for i in range(len(val_set)):\n",
    "    # Convert the tensor to a tuple directly, ensuring it's hashable\n",
    "    key = tuple(val_set[i][1].squeeze().tolist())  \n",
    "    try:\n",
    "        val_label_counts[key] += 1\n",
    "    except KeyError:\n",
    "        val_label_counts[key] = 1  # Initialize with 1 for the first occurrence\n",
    "\n",
    "# val_label_counts\n",
    "val_label_counts = pd.Series(val_label_counts)\n",
    "val_label_counts.index.name = \"labels\"\n",
    "val_label_counts.name = \"count\"\n",
    "val_label_counts"
   ]
  },
  {
   "cell_type": "markdown",
   "id": "0f5385dc",
   "metadata": {
    "papermill": {
     "duration": null,
     "end_time": null,
     "exception": null,
     "start_time": null,
     "status": "pending"
    },
    "tags": []
   },
   "source": [
    "Now, let's calculate the sampling weight for each class. The goal is to oversample the underrepresented classes and undersample the overrepresented classes. \n",
    "\n",
    "For \"Uncertain\" and \"Unlabeled\" we can set the sampling weight to 0 because we are not going to use them in training."
   ]
  },
  {
   "cell_type": "code",
   "execution_count": null,
   "id": "d7215090",
   "metadata": {
    "execution": {
     "iopub.execute_input": "2025-02-08T14:48:39.632474Z",
     "iopub.status.busy": "2025-02-08T14:48:39.632167Z",
     "iopub.status.idle": "2025-02-08T14:48:41.900758Z",
     "shell.execute_reply": "2025-02-08T14:48:41.899797Z",
     "shell.execute_reply.started": "2025-02-08T14:48:39.632444Z"
    },
    "papermill": {
     "duration": null,
     "end_time": null,
     "exception": null,
     "start_time": null,
     "status": "pending"
    },
    "tags": []
   },
   "outputs": [],
   "source": [
    "train_sampling_weights = []\n",
    "for i in range(len(train_set)):\n",
    "    label = train_set[i][1]\n",
    "    key = tuple(train_set[i][1].squeeze().tolist())\n",
    "    if key == (0, 0, 0, 1):\n",
    "        train_sampling_weights.append(0)\n",
    "    else:\n",
    "        train_sampling_weights.append(1/train_label_counts[key])\n",
    "print(train_sampling_weights[:5], len(train_sampling_weights))"
   ]
  },
  {
   "cell_type": "code",
   "execution_count": null,
   "id": "58cd517e",
   "metadata": {
    "execution": {
     "iopub.execute_input": "2025-02-08T14:48:41.901982Z",
     "iopub.status.busy": "2025-02-08T14:48:41.901670Z",
     "iopub.status.idle": "2025-02-08T14:48:42.484026Z",
     "shell.execute_reply": "2025-02-08T14:48:42.483159Z",
     "shell.execute_reply.started": "2025-02-08T14:48:41.901952Z"
    },
    "papermill": {
     "duration": null,
     "end_time": null,
     "exception": null,
     "start_time": null,
     "status": "pending"
    },
    "tags": []
   },
   "outputs": [],
   "source": [
    "val_sampling_weights = []\n",
    "for i in range(len(val_set)):\n",
    "    label = val_set[i][1]\n",
    "    key = tuple(val_set[i][1].squeeze().tolist())\n",
    "    if key == (0, 0, 0, 1):\n",
    "        val_sampling_weights.append(0)\n",
    "    else:\n",
    "        val_sampling_weights.append(1/val_label_counts[key])\n",
    "print(val_sampling_weights[:5], len(val_sampling_weights))"
   ]
  },
  {
   "cell_type": "markdown",
   "id": "cfa77123",
   "metadata": {
    "papermill": {
     "duration": null,
     "end_time": null,
     "exception": null,
     "start_time": null,
     "status": "pending"
    },
    "tags": []
   },
   "source": [
    "Lastly, create a WeightedRandomSampler object for the training and validation set."
   ]
  },
  {
   "cell_type": "code",
   "execution_count": null,
   "id": "4334c048",
   "metadata": {
    "execution": {
     "iopub.execute_input": "2025-02-08T14:48:42.485180Z",
     "iopub.status.busy": "2025-02-08T14:48:42.484906Z",
     "iopub.status.idle": "2025-02-08T14:48:42.497376Z",
     "shell.execute_reply": "2025-02-08T14:48:42.496366Z",
     "shell.execute_reply.started": "2025-02-08T14:48:42.485149Z"
    },
    "papermill": {
     "duration": null,
     "end_time": null,
     "exception": null,
     "start_time": null,
     "status": "pending"
    },
    "tags": []
   },
   "outputs": [],
   "source": [
    "from torch.utils.data.sampler import WeightedRandomSampler\n",
    "\n",
    "train_sampler = WeightedRandomSampler(train_sampling_weights, len(train_sampling_weights))\n",
    "val_sampler = WeightedRandomSampler(val_sampling_weights, len(val_sampling_weights))"
   ]
  },
  {
   "cell_type": "markdown",
   "id": "8d2e79a2",
   "metadata": {
    "papermill": {
     "duration": null,
     "end_time": null,
     "exception": null,
     "start_time": null,
     "status": "pending"
    },
    "tags": []
   },
   "source": [
    "## Preparing a Model for Training"
   ]
  },
  {
   "cell_type": "code",
   "execution_count": null,
   "id": "7f183082",
   "metadata": {
    "execution": {
     "iopub.execute_input": "2025-02-08T14:48:42.498499Z",
     "iopub.status.busy": "2025-02-08T14:48:42.498187Z",
     "iopub.status.idle": "2025-02-08T14:48:42.515281Z",
     "shell.execute_reply": "2025-02-08T14:48:42.514458Z",
     "shell.execute_reply.started": "2025-02-08T14:48:42.498478Z"
    },
    "papermill": {
     "duration": null,
     "end_time": null,
     "exception": null,
     "start_time": null,
     "status": "pending"
    },
    "tags": []
   },
   "outputs": [],
   "source": [
    "class SpectrogramClassifierVGG16(nn.Module):\n",
    "    def __init__(self, num_classes):\n",
    "        super(SpectrogramClassifierVGG16, self).__init__()\n",
    "        \n",
    "        # Load pre-trained VGG16 model\n",
    "        self.vgg = models.vgg16(pretrained=True)\n",
    "        \n",
    "        # Modify first conv layer to accept grayscale (1 channel instead of 3)\n",
    "        # self.vgg.features[0] = nn.Conv2d(1, 64, kernel_size=3, stride=1, padding=1)\n",
    "        \n",
    "        # Modify classifier for multilabel classification\n",
    "        self.vgg.classifier[-1] = nn.Linear(4096, 2048)\n",
    "\n",
    "        # Define multi-linear layers with ReLU\n",
    "        self.classifier = nn.Sequential(\n",
    "            nn.ReLU(),\n",
    "            nn.Linear(2048, 1024),  # First linear layer\n",
    "            nn.ReLU(),                            # ReLU activation\n",
    "            nn.Linear(1024, 512),                 # Second linear layer\n",
    "            nn.ReLU(),                            # ReLU activation\n",
    "            nn.Linear(512, num_classes)           # Output layer\n",
    "        )\n",
    "\n",
    "        for param in self.vgg.features[:7].parameters():\n",
    "            param.requires_grad = False\n",
    "\n",
    "    def forward(self, x):\n",
    "        return self.classifier(self.vgg(x))  # No sigmoid (handled by BCEWithLogitsLoss)"
   ]
  },
  {
   "cell_type": "code",
   "execution_count": null,
   "id": "d375d22e",
   "metadata": {
    "execution": {
     "iopub.execute_input": "2025-02-08T14:48:42.516265Z",
     "iopub.status.busy": "2025-02-08T14:48:42.515987Z",
     "iopub.status.idle": "2025-02-08T14:48:42.529432Z",
     "shell.execute_reply": "2025-02-08T14:48:42.528788Z",
     "shell.execute_reply.started": "2025-02-08T14:48:42.516245Z"
    },
    "papermill": {
     "duration": null,
     "end_time": null,
     "exception": null,
     "start_time": null,
     "status": "pending"
    },
    "tags": []
   },
   "outputs": [],
   "source": [
    "NUM_CLASSES = 3\n",
    "LEARNING_RATE = 1e-4"
   ]
  },
  {
   "cell_type": "code",
   "execution_count": null,
   "id": "165797e2",
   "metadata": {
    "execution": {
     "iopub.execute_input": "2025-02-08T14:48:42.530336Z",
     "iopub.status.busy": "2025-02-08T14:48:42.530142Z",
     "iopub.status.idle": "2025-02-08T14:48:47.223216Z",
     "shell.execute_reply": "2025-02-08T14:48:47.222266Z",
     "shell.execute_reply.started": "2025-02-08T14:48:42.530319Z"
    },
    "papermill": {
     "duration": null,
     "end_time": null,
     "exception": null,
     "start_time": null,
     "status": "pending"
    },
    "tags": []
   },
   "outputs": [],
   "source": [
    "model = SpectrogramClassifierVGG16(NUM_CLASSES).to(device)\n",
    "criterion = nn.BCEWithLogitsLoss()  # Replaces BCELoss\n",
    "optimizer = optim.Adam(model.parameters(), lr=LEARNING_RATE, weight_decay=1e-4)"
   ]
  },
  {
   "cell_type": "code",
   "execution_count": null,
   "id": "89ab0024",
   "metadata": {
    "execution": {
     "iopub.execute_input": "2025-02-08T14:48:47.224622Z",
     "iopub.status.busy": "2025-02-08T14:48:47.224295Z",
     "iopub.status.idle": "2025-02-08T14:48:51.740491Z",
     "shell.execute_reply": "2025-02-08T14:48:51.739536Z",
     "shell.execute_reply.started": "2025-02-08T14:48:47.224592Z"
    },
    "papermill": {
     "duration": null,
     "end_time": null,
     "exception": null,
     "start_time": null,
     "status": "pending"
    },
    "tags": []
   },
   "outputs": [],
   "source": [
    "from torchmetrics.classification import MultilabelF1Score\n",
    "\n",
    "# Torchmetrics F1 Score (Multilabel)\n",
    "f1_metric = MultilabelF1Score(num_labels=NUM_CLASSES, average=\"macro\").to(device)"
   ]
  },
  {
   "cell_type": "markdown",
   "id": "e0149145",
   "metadata": {
    "papermill": {
     "duration": null,
     "end_time": null,
     "exception": null,
     "start_time": null,
     "status": "pending"
    },
    "tags": []
   },
   "source": [
    "### Create a DataLoader object"
   ]
  },
  {
   "cell_type": "code",
   "execution_count": null,
   "id": "d809daa4",
   "metadata": {
    "execution": {
     "iopub.execute_input": "2025-02-08T14:48:51.741677Z",
     "iopub.status.busy": "2025-02-08T14:48:51.741290Z",
     "iopub.status.idle": "2025-02-08T14:48:51.745511Z",
     "shell.execute_reply": "2025-02-08T14:48:51.744314Z",
     "shell.execute_reply.started": "2025-02-08T14:48:51.741656Z"
    },
    "papermill": {
     "duration": null,
     "end_time": null,
     "exception": null,
     "start_time": null,
     "status": "pending"
    },
    "tags": []
   },
   "outputs": [],
   "source": [
    "MINI_BATCH_SIZE = 64"
   ]
  },
  {
   "cell_type": "code",
   "execution_count": null,
   "id": "93032483",
   "metadata": {
    "execution": {
     "iopub.execute_input": "2025-02-08T14:48:51.747011Z",
     "iopub.status.busy": "2025-02-08T14:48:51.746669Z",
     "iopub.status.idle": "2025-02-08T14:48:51.778307Z",
     "shell.execute_reply": "2025-02-08T14:48:51.777628Z",
     "shell.execute_reply.started": "2025-02-08T14:48:51.746989Z"
    },
    "papermill": {
     "duration": null,
     "end_time": null,
     "exception": null,
     "start_time": null,
     "status": "pending"
    },
    "tags": []
   },
   "outputs": [],
   "source": [
    "train_data_loader = torch.utils.data.DataLoader(\n",
    "    train_set,\n",
    "    batch_size=MINI_BATCH_SIZE,\n",
    "    sampler = train_sampler,\n",
    ")\n",
    "train_data_loader"
   ]
  },
  {
   "cell_type": "markdown",
   "id": "48be267d",
   "metadata": {
    "papermill": {
     "duration": null,
     "end_time": null,
     "exception": null,
     "start_time": null,
     "status": "pending"
    },
    "tags": []
   },
   "source": [
    "Let's also verify that the DataLoader just created has correct data collation (batching) behaviour."
   ]
  },
  {
   "cell_type": "code",
   "execution_count": null,
   "id": "7b73ac2f",
   "metadata": {
    "execution": {
     "iopub.execute_input": "2025-02-08T14:48:51.779442Z",
     "iopub.status.busy": "2025-02-08T14:48:51.779187Z",
     "iopub.status.idle": "2025-02-08T14:48:51.821129Z",
     "shell.execute_reply": "2025-02-08T14:48:51.820337Z",
     "shell.execute_reply.started": "2025-02-08T14:48:51.779423Z"
    },
    "papermill": {
     "duration": null,
     "end_time": null,
     "exception": null,
     "start_time": null,
     "status": "pending"
    },
    "tags": []
   },
   "outputs": [],
   "source": [
    "for sample in train_data_loader:\n",
    "    feature = sample[0]\n",
    "    label = sample[1]\n",
    "    print(feature.shape)\n",
    "    print(label.shape)\n",
    "    break"
   ]
  },
  {
   "cell_type": "code",
   "execution_count": null,
   "id": "2e010318",
   "metadata": {
    "execution": {
     "iopub.execute_input": "2025-02-08T14:48:51.822135Z",
     "iopub.status.busy": "2025-02-08T14:48:51.821905Z",
     "iopub.status.idle": "2025-02-08T14:48:51.827711Z",
     "shell.execute_reply": "2025-02-08T14:48:51.826965Z",
     "shell.execute_reply.started": "2025-02-08T14:48:51.822117Z"
    },
    "papermill": {
     "duration": null,
     "end_time": null,
     "exception": null,
     "start_time": null,
     "status": "pending"
    },
    "tags": []
   },
   "outputs": [],
   "source": [
    "label.squeeze(1)[:, :3].shape"
   ]
  },
  {
   "cell_type": "markdown",
   "id": "f7901b05",
   "metadata": {
    "papermill": {
     "duration": null,
     "end_time": null,
     "exception": null,
     "start_time": null,
     "status": "pending"
    },
    "tags": []
   },
   "source": [
    "Do the same thing with validation set."
   ]
  },
  {
   "cell_type": "code",
   "execution_count": null,
   "id": "4caa0969",
   "metadata": {
    "execution": {
     "iopub.execute_input": "2025-02-08T14:48:51.828621Z",
     "iopub.status.busy": "2025-02-08T14:48:51.828445Z",
     "iopub.status.idle": "2025-02-08T14:48:51.842576Z",
     "shell.execute_reply": "2025-02-08T14:48:51.841816Z",
     "shell.execute_reply.started": "2025-02-08T14:48:51.828605Z"
    },
    "papermill": {
     "duration": null,
     "end_time": null,
     "exception": null,
     "start_time": null,
     "status": "pending"
    },
    "tags": []
   },
   "outputs": [],
   "source": [
    "val_data_loader = torch.utils.data.DataLoader(\n",
    "    val_set,\n",
    "    batch_size=MINI_BATCH_SIZE,\n",
    "    sampler = val_sampler,\n",
    ")\n",
    "val_data_loader"
   ]
  },
  {
   "cell_type": "markdown",
   "id": "07ebc9ee",
   "metadata": {
    "papermill": {
     "duration": null,
     "end_time": null,
     "exception": null,
     "start_time": null,
     "status": "pending"
    },
    "tags": []
   },
   "source": [
    "## Training"
   ]
  },
  {
   "cell_type": "code",
   "execution_count": null,
   "id": "0eb368d1",
   "metadata": {
    "execution": {
     "iopub.execute_input": "2025-02-08T14:48:51.846969Z",
     "iopub.status.busy": "2025-02-08T14:48:51.846781Z",
     "iopub.status.idle": "2025-02-08T14:48:51.856529Z",
     "shell.execute_reply": "2025-02-08T14:48:51.855826Z",
     "shell.execute_reply.started": "2025-02-08T14:48:51.846953Z"
    },
    "papermill": {
     "duration": null,
     "end_time": null,
     "exception": null,
     "start_time": null,
     "status": "pending"
    },
    "tags": []
   },
   "outputs": [],
   "source": [
    "NUM_EPOCHS = 10"
   ]
  },
  {
   "cell_type": "code",
   "execution_count": null,
   "id": "19fba245",
   "metadata": {
    "execution": {
     "iopub.execute_input": "2025-02-08T14:48:51.857718Z",
     "iopub.status.busy": "2025-02-08T14:48:51.857462Z",
     "iopub.status.idle": "2025-02-08T14:48:52.621393Z",
     "shell.execute_reply": "2025-02-08T14:48:52.620159Z",
     "shell.execute_reply.started": "2025-02-08T14:48:51.857697Z"
    },
    "papermill": {
     "duration": null,
     "end_time": null,
     "exception": null,
     "start_time": null,
     "status": "pending"
    },
    "tags": []
   },
   "outputs": [],
   "source": [
    "!mkdir -p \"/kaggle/working/results\""
   ]
  },
  {
   "cell_type": "markdown",
   "id": "604fb032",
   "metadata": {
    "papermill": {
     "duration": null,
     "end_time": null,
     "exception": null,
     "start_time": null,
     "status": "pending"
    },
    "tags": []
   },
   "source": [
    "### Train the Model"
   ]
  },
  {
   "cell_type": "code",
   "execution_count": null,
   "id": "bbefc135",
   "metadata": {
    "execution": {
     "iopub.execute_input": "2025-02-08T14:48:52.623035Z",
     "iopub.status.busy": "2025-02-08T14:48:52.622758Z",
     "iopub.status.idle": "2025-02-08T14:58:50.901364Z",
     "shell.execute_reply": "2025-02-08T14:58:50.900565Z",
     "shell.execute_reply.started": "2025-02-08T14:48:52.623008Z"
    },
    "papermill": {
     "duration": null,
     "end_time": null,
     "exception": null,
     "start_time": null,
     "status": "pending"
    },
    "tags": []
   },
   "outputs": [],
   "source": [
    "best_f1 = 0\n",
    "best_epoch = -1\n",
    "\n",
    "for epoch in range(NUM_EPOCHS):\n",
    "    model.train()\n",
    "    train_loss = 0.0\n",
    "    f1_metric.reset()\n",
    "\n",
    "    for feature_tensor, label_tensor in train_data_loader:\n",
    "        mini_batch_size = feature_tensor.size(0)\n",
    "        feature_tensor, label_tensor = feature_tensor.to(device), label_tensor.to(device)\n",
    "\n",
    "        optimizer.zero_grad()\n",
    "        # To use pretrained weight of popular CNN architecture such as VGG or ResNet, the input \n",
    "        # tensor is required to have 3 channels (RGB), so we stack the input tensor three times along \n",
    "        # the first dimension\n",
    "        feature_tensor_3_channels = torch.cat(\n",
    "            [feature_tensor, feature_tensor, feature_tensor], \n",
    "            dim=1\n",
    "        )\n",
    "        outputs = model(feature_tensor_3_channels)  # Raw logits (no sigmoid)\n",
    "        loss = criterion(outputs, label_tensor.squeeze(1)[:, :3].float())  # BCEWithLogitsLoss applies sigmoid internally\n",
    "\n",
    "        loss.backward()\n",
    "        optimizer.step()\n",
    "\n",
    "        train_loss += loss.item() * mini_batch_size\n",
    "\n",
    "         # Compute F1 Score (need to apply sigmoid before thresholding)\n",
    "        preds = torch.sigmoid(outputs) > 0.5  # Convert to binary labels\n",
    "        f1_metric.update(preds, label_tensor.squeeze(1)[:, :3].int())  # labels should be int\n",
    "\n",
    "    # Compute epoch-level loss and F1-score\n",
    "    train_loss_epoch_end = train_loss / len(train_data_loader.dataset)\n",
    "    train_f1_epoch_end = f1_metric.compute().item()\n",
    "    # train_f1_micro = f1_micro.compute().item()\n",
    "    # train_f1_macro = f1_macro.compute().item()\n",
    "    # epoch_loss = running_loss / len(train_data_loader)\n",
    "    # epoch_f1 = f1_metric.compute().item()  # Compute final F1 score for epoch\n",
    "\n",
    "    # print(f\"Epoch [{epoch+1}/{NUM_EPOCHS}] - Loss: {train_loss_epoch_end:.4f} - F1 Score: {train_f1_epoch_end:.4f}\")\n",
    "\n",
    "    model.eval()\n",
    "    val_loss = 0.0\n",
    "    f1_metric.reset()\n",
    "\n",
    "    with torch.no_grad():\n",
    "        for feature_tensor, label_tensor in val_data_loader:\n",
    "            mini_batch_size = feature_tensor.size(0)\n",
    "            feature_tensor, label_tensor = feature_tensor.to(device), label_tensor.to(device)\n",
    "\n",
    "            # To use pretrained weight of popular CNN architecture such as VGG or ResNet, the input \n",
    "            # tensor is required to have 3 channels (RGB), so we stack the input tensor three times along \n",
    "            # the first dimension\n",
    "            feature_tensor_3_channels = torch.cat(\n",
    "                [feature_tensor, feature_tensor, feature_tensor], \n",
    "                dim=1\n",
    "            )\n",
    "            outputs = model(feature_tensor_3_channels)  # Raw logits (no sigmoid)\n",
    "            loss = criterion(outputs, label_tensor.squeeze(1)[:, :3].float())  # BCEWithLogitsLoss applies sigmoid internally\n",
    "\n",
    "            val_loss += loss.item() * mini_batch_size\n",
    "\n",
    "            preds = torch.sigmoid(outputs) > 0.5\n",
    "            f1_metric.update(preds, label_tensor.squeeze(1)[:, :3].int())  # labels should be int\n",
    "        \n",
    "        val_loss_epoch_end = val_loss / len(val_data_loader.dataset)\n",
    "        val_f1_epoch_end = f1_metric.compute().item()\n",
    "\n",
    "    # Print epoch results\n",
    "    print(f\"\\nEpoch {epoch+1}/{NUM_EPOCHS}:\")\n",
    "    print(f\"       Train Loss: {train_loss:.4f} | Train F1 (Macro): {train_f1_epoch_end:.4f}\")\n",
    "    print(f\"Validation Loss: {val_loss:.4f} | Validation F1 (Macro): {val_f1_epoch_end:.4f}\\n\")\n",
    "    # torch.save(model.state_dict(), f\"/kaggle/working/results/model_epoch_{epoch+1}.pth\")\n",
    "    # torch.save(optimizer.state_dict(), f\"/kaggle/working/results/optim_epoch_{epoch+1}.pth\")\n",
    "\n",
    "    if val_f1_epoch_end > best_f1:\n",
    "        best_f1 = val_f1_epoch_end\n",
    "        best_epoch = epoch + 1\n",
    "        torch.save(model.state_dict(), \"/kaggle/working/results/model.pth\")\n",
    "        torch.save(optimizer.state_dict(), \"/kaggle/working/results/optimizer.pth\")"
   ]
  },
  {
   "cell_type": "markdown",
   "id": "682f4f92",
   "metadata": {
    "papermill": {
     "duration": null,
     "end_time": null,
     "exception": null,
     "start_time": null,
     "status": "pending"
    },
    "tags": []
   },
   "source": [
    "## Inference"
   ]
  },
  {
   "cell_type": "markdown",
   "id": "bcbd8c9e",
   "metadata": {
    "papermill": {
     "duration": null,
     "end_time": null,
     "exception": null,
     "start_time": null,
     "status": "pending"
    },
    "tags": []
   },
   "source": [
    "### Load the trained model"
   ]
  },
  {
   "cell_type": "code",
   "execution_count": null,
   "id": "e8021767",
   "metadata": {
    "execution": {
     "iopub.execute_input": "2025-02-08T15:01:16.563449Z",
     "iopub.status.busy": "2025-02-08T15:01:16.563123Z",
     "iopub.status.idle": "2025-02-08T15:01:20.870744Z",
     "shell.execute_reply": "2025-02-08T15:01:20.869864Z",
     "shell.execute_reply.started": "2025-02-08T15:01:16.563424Z"
    },
    "papermill": {
     "duration": null,
     "end_time": null,
     "exception": null,
     "start_time": null,
     "status": "pending"
    },
    "tags": []
   },
   "outputs": [],
   "source": [
    "model = SpectrogramClassifierVGG16(NUM_CLASSES).to(device)\n",
    "model.load_state_dict(torch.load(\"/kaggle/working/results/model.pth\"))\n",
    "model.eval()"
   ]
  },
  {
   "cell_type": "markdown",
   "id": "1e16acef",
   "metadata": {
    "papermill": {
     "duration": null,
     "end_time": null,
     "exception": null,
     "start_time": null,
     "status": "pending"
    },
    "tags": []
   },
   "source": [
    "### Loading the answer sheet"
   ]
  },
  {
   "cell_type": "code",
   "execution_count": null,
   "id": "cb29a02e",
   "metadata": {
    "execution": {
     "iopub.execute_input": "2025-02-08T15:01:23.529446Z",
     "iopub.status.busy": "2025-02-08T15:01:23.529143Z",
     "iopub.status.idle": "2025-02-08T15:01:23.564996Z",
     "shell.execute_reply": "2025-02-08T15:01:23.564163Z",
     "shell.execute_reply.started": "2025-02-08T15:01:23.529422Z"
    },
    "papermill": {
     "duration": null,
     "end_time": null,
     "exception": null,
     "start_time": null,
     "status": "pending"
    },
    "tags": []
   },
   "outputs": [],
   "source": [
    "answer_sheet = pd.read_csv(ANSWER_SHEET_PATH, index_col=\"id\")\n",
    "answer_sheet"
   ]
  },
  {
   "cell_type": "code",
   "execution_count": null,
   "id": "af27cf50",
   "metadata": {
    "execution": {
     "iopub.execute_input": "2025-02-08T15:04:02.462488Z",
     "iopub.status.busy": "2025-02-08T15:04:02.462117Z",
     "iopub.status.idle": "2025-02-08T15:08:33.781833Z",
     "shell.execute_reply": "2025-02-08T15:08:33.780975Z",
     "shell.execute_reply.started": "2025-02-08T15:04:02.462459Z"
    },
    "papermill": {
     "duration": null,
     "end_time": null,
     "exception": null,
     "start_time": null,
     "status": "pending"
    },
    "tags": []
   },
   "outputs": [],
   "source": [
    "with torch.no_grad():\n",
    "    for test_feature_file_path in test_feature_file_paths:\n",
    "        sequence_name = os.path.splitext(os.path.basename(test_feature_file_path))[0]\n",
    "        feature = np.load(test_feature_file_path)\n",
    "        num_bins = feature.shape[0]\n",
    "        # if num_bins % NUM_CHANNELS == 0:\n",
    "        #     num_blocks = num_bins // NUM_CHANNELS\n",
    "        # else:\n",
    "        #     num_blocks = num_bins // NUM_CHANNELS + 1\n",
    "        # for block_num in range(0, num_blocks):\n",
    "        for block_start_index in range(0, num_bins, NUM_CHANNELS):\n",
    "            block_num = block_start_index // NUM_CHANNELS\n",
    "            block = feature[block_start_index:block_start_index + NUM_CHANNELS, :]\n",
    "            spectogram = block.T\n",
    "            spectogram.resize((NUM_CHANNELS, NUM_CHANNELS), refcheck = False)\n",
    "            spectogram = normalize_snr(spectogram)\n",
    "            spectogram = torch.from_numpy(spectogram)\n",
    "            feature_tensor = spectogram.unsqueeze(0).unsqueeze(0)\n",
    "            feature_tensor = feature_tensor.to(device)\n",
    "            feature_tensor_3_channels = torch.cat(\n",
    "                [feature_tensor, feature_tensor, feature_tensor], \n",
    "                dim=1\n",
    "            )\n",
    "            outputs = model(feature_tensor_3_channels)  # Raw logits (no sigmoid)\n",
    "            preds = torch.sigmoid(outputs) > 0.5\n",
    "            preds = preds.int()\n",
    "\n",
    "            answer = preds.cpu().detach().numpy().flatten()\n",
    "            answer_sheet.loc[f\"{sequence_name}_{block_num}\", [\"pulse\", \"broad\", \"narrow\"]] = answer\n",
    "            # print(f\"{sequence_name}_{block_num}\", answer)\n",
    "\n",
    "answer_sheet"
   ]
  },
  {
   "cell_type": "code",
   "execution_count": null,
   "id": "44eee0ca",
   "metadata": {
    "execution": {
     "iopub.execute_input": "2025-02-08T15:08:33.783338Z",
     "iopub.status.busy": "2025-02-08T15:08:33.783022Z",
     "iopub.status.idle": "2025-02-08T15:08:33.794876Z",
     "shell.execute_reply": "2025-02-08T15:08:33.793952Z",
     "shell.execute_reply.started": "2025-02-08T15:08:33.783314Z"
    },
    "papermill": {
     "duration": null,
     "end_time": null,
     "exception": null,
     "start_time": null,
     "status": "pending"
    },
    "tags": []
   },
   "outputs": [],
   "source": [
    "answer_sheet = answer_sheet.fillna(0)\n",
    "answer_sheet = answer_sheet.astype({\"pulse\": int, \"broad\": int, \"narrow\": int})\n",
    "try:\n",
    "    answer_sheet = answer_sheet.drop(\"Usage\", axis = 1)\n",
    "except KeyError:\n",
    "    pass\n",
    "answer_sheet"
   ]
  },
  {
   "cell_type": "code",
   "execution_count": null,
   "id": "3fb2c3bd",
   "metadata": {
    "execution": {
     "iopub.execute_input": "2025-02-08T15:08:33.796646Z",
     "iopub.status.busy": "2025-02-08T15:08:33.796328Z",
     "iopub.status.idle": "2025-02-08T15:08:34.537163Z",
     "shell.execute_reply": "2025-02-08T15:08:34.535962Z",
     "shell.execute_reply.started": "2025-02-08T15:08:33.796616Z"
    },
    "papermill": {
     "duration": null,
     "end_time": null,
     "exception": null,
     "start_time": null,
     "status": "pending"
    },
    "tags": []
   },
   "outputs": [],
   "source": [
    "!mkdir -p \"/kaggle/working/answers\"\n",
    "answer_sheet.to_csv(\"/kaggle/working/answers/answer_sheet.csv\")"
   ]
  }
 ],
 "metadata": {
  "kaggle": {
   "accelerator": "gpu",
   "dataSources": [
    {
     "databundleVersionId": 11038850,
     "sourceId": 91438,
     "sourceType": "competition"
    }
   ],
   "dockerImageVersionId": 30887,
   "isGpuEnabled": true,
   "isInternetEnabled": true,
   "language": "python",
   "sourceType": "notebook"
  },
  "kernelspec": {
   "display_name": "Python 3",
   "language": "python",
   "name": "python3"
  },
  "language_info": {
   "codemirror_mode": {
    "name": "ipython",
    "version": 3
   },
   "file_extension": ".py",
   "mimetype": "text/x-python",
   "name": "python",
   "nbconvert_exporter": "python",
   "pygments_lexer": "ipython3",
   "version": "3.10.12"
  },
  "papermill": {
   "default_parameters": {},
   "duration": null,
   "end_time": null,
   "environment_variables": {},
   "exception": null,
   "input_path": "__notebook__.ipynb",
   "output_path": "__notebook__.ipynb",
   "parameters": {},
   "start_time": "2025-02-08T17:24:49.273092",
   "version": "2.6.0"
  }
 },
 "nbformat": 4,
 "nbformat_minor": 5
}