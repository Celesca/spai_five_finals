{
 "cells": [
  {
   "cell_type": "code",
   "execution_count": null,
   "metadata": {
    "colab": {
     "base_uri": "https://localhost:8080/"
    },
    "id": "ykoVmWZHniDn",
    "outputId": "2d5c8df6-6bb2-487e-b739-21806c67afcd"
   },
   "outputs": [],
   "source": [
    "# !pip install autogluon"
   ]
  },
  {
   "cell_type": "code",
   "execution_count": 56,
   "metadata": {
    "id": "EnHMqoj3l73t"
   },
   "outputs": [],
   "source": [
    "import pandas as pd\n",
    "\n",
    "train_df = pd.read_csv(\"IOT_Train.csv\")"
   ]
  },
  {
   "cell_type": "markdown",
   "metadata": {
    "id": "Ws1X1YYtmv3g"
   },
   "source": [
    "## EDA"
   ]
  },
  {
   "cell_type": "code",
   "execution_count": 57,
   "metadata": {
    "colab": {
     "base_uri": "https://localhost:8080/",
     "height": 313
    },
    "id": "uVpJyqGHnJ1n",
    "outputId": "ab09f6ba-cff2-45f5-d946-1be0eaace334"
   },
   "outputs": [
    {
     "data": {
      "text/html": [
       "<div>\n",
       "<style scoped>\n",
       "    .dataframe tbody tr th:only-of-type {\n",
       "        vertical-align: middle;\n",
       "    }\n",
       "\n",
       "    .dataframe tbody tr th {\n",
       "        vertical-align: top;\n",
       "    }\n",
       "\n",
       "    .dataframe thead th {\n",
       "        text-align: right;\n",
       "    }\n",
       "</style>\n",
       "<table border=\"1\" class=\"dataframe\">\n",
       "  <thead>\n",
       "    <tr style=\"text-align: right;\">\n",
       "      <th></th>\n",
       "      <th>mac</th>\n",
       "      <th>station_name</th>\n",
       "      <th>tambon_code</th>\n",
       "      <th>tambon_namt</th>\n",
       "      <th>amphur_code</th>\n",
       "      <th>amphur_namt</th>\n",
       "      <th>province_code</th>\n",
       "      <th>province_namt</th>\n",
       "      <th>latitude</th>\n",
       "      <th>longitude</th>\n",
       "      <th>time</th>\n",
       "      <th>humid</th>\n",
       "      <th>light</th>\n",
       "      <th>pm10</th>\n",
       "      <th>pm2.5</th>\n",
       "      <th>rainfall</th>\n",
       "      <th>wind_direct</th>\n",
       "      <th>wind_speed</th>\n",
       "      <th>temp</th>\n",
       "    </tr>\n",
       "  </thead>\n",
       "  <tbody>\n",
       "    <tr>\n",
       "      <th>0</th>\n",
       "      <td>3C71BF18EA64</td>\n",
       "      <td>บ้านนา_2</td>\n",
       "      <td>300903</td>\n",
       "      <td>กำปัง</td>\n",
       "      <td>3009</td>\n",
       "      <td>โนนไทย</td>\n",
       "      <td>30</td>\n",
       "      <td>นครราชสีมา</td>\n",
       "      <td>15.112831</td>\n",
       "      <td>102.052114</td>\n",
       "      <td>2022-07-20 15:00:00+07:00</td>\n",
       "      <td>70.6</td>\n",
       "      <td>59.0</td>\n",
       "      <td>NaN</td>\n",
       "      <td>NaN</td>\n",
       "      <td>0.0</td>\n",
       "      <td>45.0</td>\n",
       "      <td>4.3</td>\n",
       "      <td>32.6</td>\n",
       "    </tr>\n",
       "    <tr>\n",
       "      <th>1</th>\n",
       "      <td>3C71BF18EA64</td>\n",
       "      <td>บ้านนา_2</td>\n",
       "      <td>300903</td>\n",
       "      <td>กำปัง</td>\n",
       "      <td>3009</td>\n",
       "      <td>โนนไทย</td>\n",
       "      <td>30</td>\n",
       "      <td>นครราชสีมา</td>\n",
       "      <td>15.112831</td>\n",
       "      <td>102.052114</td>\n",
       "      <td>2022-05-16 09:00:00+07:00</td>\n",
       "      <td>62.3</td>\n",
       "      <td>76.0</td>\n",
       "      <td>NaN</td>\n",
       "      <td>NaN</td>\n",
       "      <td>0.0</td>\n",
       "      <td>45.0</td>\n",
       "      <td>1.9</td>\n",
       "      <td>37.9</td>\n",
       "    </tr>\n",
       "    <tr>\n",
       "      <th>2</th>\n",
       "      <td>3C71BF18EA64</td>\n",
       "      <td>บ้านนา_2</td>\n",
       "      <td>300903</td>\n",
       "      <td>กำปัง</td>\n",
       "      <td>3009</td>\n",
       "      <td>โนนไทย</td>\n",
       "      <td>30</td>\n",
       "      <td>นครราชสีมา</td>\n",
       "      <td>15.112831</td>\n",
       "      <td>102.052114</td>\n",
       "      <td>2022-06-26 19:00:00+07:00</td>\n",
       "      <td>90.3</td>\n",
       "      <td>0.0</td>\n",
       "      <td>NaN</td>\n",
       "      <td>NaN</td>\n",
       "      <td>0.0</td>\n",
       "      <td>135.0</td>\n",
       "      <td>3.2</td>\n",
       "      <td>26.4</td>\n",
       "    </tr>\n",
       "    <tr>\n",
       "      <th>3</th>\n",
       "      <td>3C71BF18EA64</td>\n",
       "      <td>บ้านนา_2</td>\n",
       "      <td>300903</td>\n",
       "      <td>กำปัง</td>\n",
       "      <td>3009</td>\n",
       "      <td>โนนไทย</td>\n",
       "      <td>30</td>\n",
       "      <td>นครราชสีมา</td>\n",
       "      <td>15.112831</td>\n",
       "      <td>102.052114</td>\n",
       "      <td>2022-07-16 04:00:00+07:00</td>\n",
       "      <td>91.7</td>\n",
       "      <td>0.0</td>\n",
       "      <td>NaN</td>\n",
       "      <td>NaN</td>\n",
       "      <td>0.0</td>\n",
       "      <td>157.5</td>\n",
       "      <td>0.0</td>\n",
       "      <td>25.6</td>\n",
       "    </tr>\n",
       "    <tr>\n",
       "      <th>4</th>\n",
       "      <td>3C71BF18EA64</td>\n",
       "      <td>บ้านนา_2</td>\n",
       "      <td>300903</td>\n",
       "      <td>กำปัง</td>\n",
       "      <td>3009</td>\n",
       "      <td>โนนไทย</td>\n",
       "      <td>30</td>\n",
       "      <td>นครราชสีมา</td>\n",
       "      <td>15.112831</td>\n",
       "      <td>102.052114</td>\n",
       "      <td>2022-05-30 08:00:00+07:00</td>\n",
       "      <td>59.1</td>\n",
       "      <td>71.0</td>\n",
       "      <td>NaN</td>\n",
       "      <td>NaN</td>\n",
       "      <td>0.0</td>\n",
       "      <td>180.0</td>\n",
       "      <td>2.3</td>\n",
       "      <td>36.2</td>\n",
       "    </tr>\n",
       "  </tbody>\n",
       "</table>\n",
       "</div>"
      ],
      "text/plain": [
       "            mac station_name  tambon_code tambon_namt  amphur_code  \\\n",
       "0  3C71BF18EA64     บ้านนา_2       300903       กำปัง         3009   \n",
       "1  3C71BF18EA64     บ้านนา_2       300903       กำปัง         3009   \n",
       "2  3C71BF18EA64     บ้านนา_2       300903       กำปัง         3009   \n",
       "3  3C71BF18EA64     บ้านนา_2       300903       กำปัง         3009   \n",
       "4  3C71BF18EA64     บ้านนา_2       300903       กำปัง         3009   \n",
       "\n",
       "  amphur_namt  province_code province_namt   latitude   longitude  \\\n",
       "0      โนนไทย             30    นครราชสีมา  15.112831  102.052114   \n",
       "1      โนนไทย             30    นครราชสีมา  15.112831  102.052114   \n",
       "2      โนนไทย             30    นครราชสีมา  15.112831  102.052114   \n",
       "3      โนนไทย             30    นครราชสีมา  15.112831  102.052114   \n",
       "4      โนนไทย             30    นครราชสีมา  15.112831  102.052114   \n",
       "\n",
       "                        time  humid  light  pm10  pm2.5  rainfall  \\\n",
       "0  2022-07-20 15:00:00+07:00   70.6   59.0   NaN    NaN       0.0   \n",
       "1  2022-05-16 09:00:00+07:00   62.3   76.0   NaN    NaN       0.0   \n",
       "2  2022-06-26 19:00:00+07:00   90.3    0.0   NaN    NaN       0.0   \n",
       "3  2022-07-16 04:00:00+07:00   91.7    0.0   NaN    NaN       0.0   \n",
       "4  2022-05-30 08:00:00+07:00   59.1   71.0   NaN    NaN       0.0   \n",
       "\n",
       "   wind_direct  wind_speed  temp  \n",
       "0         45.0         4.3  32.6  \n",
       "1         45.0         1.9  37.9  \n",
       "2        135.0         3.2  26.4  \n",
       "3        157.5         0.0  25.6  \n",
       "4        180.0         2.3  36.2  "
      ]
     },
     "execution_count": 57,
     "metadata": {},
     "output_type": "execute_result"
    }
   ],
   "source": [
    "train_df.head()"
   ]
  },
  {
   "cell_type": "code",
   "execution_count": 58,
   "metadata": {
    "colab": {
     "base_uri": "https://localhost:8080/",
     "height": 320
    },
    "id": "o62UxGr5mUML",
    "outputId": "0d07fa3e-4067-4b0a-e9e4-ef26543e723a"
   },
   "outputs": [
    {
     "data": {
      "text/html": [
       "<div>\n",
       "<style scoped>\n",
       "    .dataframe tbody tr th:only-of-type {\n",
       "        vertical-align: middle;\n",
       "    }\n",
       "\n",
       "    .dataframe tbody tr th {\n",
       "        vertical-align: top;\n",
       "    }\n",
       "\n",
       "    .dataframe thead th {\n",
       "        text-align: right;\n",
       "    }\n",
       "</style>\n",
       "<table border=\"1\" class=\"dataframe\">\n",
       "  <thead>\n",
       "    <tr style=\"text-align: right;\">\n",
       "      <th></th>\n",
       "      <th>tambon_code</th>\n",
       "      <th>amphur_code</th>\n",
       "      <th>province_code</th>\n",
       "      <th>latitude</th>\n",
       "      <th>longitude</th>\n",
       "      <th>humid</th>\n",
       "      <th>light</th>\n",
       "      <th>pm10</th>\n",
       "      <th>pm2.5</th>\n",
       "      <th>rainfall</th>\n",
       "      <th>wind_direct</th>\n",
       "      <th>wind_speed</th>\n",
       "      <th>temp</th>\n",
       "    </tr>\n",
       "  </thead>\n",
       "  <tbody>\n",
       "    <tr>\n",
       "      <th>count</th>\n",
       "      <td>13635.000000</td>\n",
       "      <td>13635.000000</td>\n",
       "      <td>13635.000000</td>\n",
       "      <td>13635.000000</td>\n",
       "      <td>13635.000000</td>\n",
       "      <td>13635.000000</td>\n",
       "      <td>13635.000000</td>\n",
       "      <td>6841.000000</td>\n",
       "      <td>6841.000000</td>\n",
       "      <td>13635.000000</td>\n",
       "      <td>13635.000000</td>\n",
       "      <td>13635.000000</td>\n",
       "      <td>13634.000000</td>\n",
       "    </tr>\n",
       "    <tr>\n",
       "      <th>mean</th>\n",
       "      <td>452665.897543</td>\n",
       "      <td>4526.625376</td>\n",
       "      <td>45.179391</td>\n",
       "      <td>15.498114</td>\n",
       "      <td>101.728711</td>\n",
       "      <td>80.428258</td>\n",
       "      <td>33.196553</td>\n",
       "      <td>7.657652</td>\n",
       "      <td>6.449203</td>\n",
       "      <td>0.135827</td>\n",
       "      <td>161.854785</td>\n",
       "      <td>4.533869</td>\n",
       "      <td>29.083827</td>\n",
       "    </tr>\n",
       "    <tr>\n",
       "      <th>std</th>\n",
       "      <td>213925.103701</td>\n",
       "      <td>2139.240731</td>\n",
       "      <td>21.448269</td>\n",
       "      <td>2.345306</td>\n",
       "      <td>2.180078</td>\n",
       "      <td>12.442925</td>\n",
       "      <td>34.509041</td>\n",
       "      <td>8.449023</td>\n",
       "      <td>8.415738</td>\n",
       "      <td>1.112371</td>\n",
       "      <td>100.338928</td>\n",
       "      <td>181.668659</td>\n",
       "      <td>4.344476</td>\n",
       "    </tr>\n",
       "    <tr>\n",
       "      <th>min</th>\n",
       "      <td>102601.000000</td>\n",
       "      <td>1026.000000</td>\n",
       "      <td>10.000000</td>\n",
       "      <td>10.579849</td>\n",
       "      <td>98.573417</td>\n",
       "      <td>40.900000</td>\n",
       "      <td>0.000000</td>\n",
       "      <td>1.000000</td>\n",
       "      <td>0.000000</td>\n",
       "      <td>0.000000</td>\n",
       "      <td>0.000000</td>\n",
       "      <td>0.000000</td>\n",
       "      <td>17.200000</td>\n",
       "    </tr>\n",
       "    <tr>\n",
       "      <th>25%</th>\n",
       "      <td>300903.000000</td>\n",
       "      <td>3009.000000</td>\n",
       "      <td>30.000000</td>\n",
       "      <td>14.533026</td>\n",
       "      <td>100.569662</td>\n",
       "      <td>71.000000</td>\n",
       "      <td>0.000000</td>\n",
       "      <td>3.000000</td>\n",
       "      <td>2.000000</td>\n",
       "      <td>0.000000</td>\n",
       "      <td>45.000000</td>\n",
       "      <td>0.000000</td>\n",
       "      <td>25.800000</td>\n",
       "    </tr>\n",
       "    <tr>\n",
       "      <th>50%</th>\n",
       "      <td>380704.000000</td>\n",
       "      <td>3807.000000</td>\n",
       "      <td>38.000000</td>\n",
       "      <td>16.494229</td>\n",
       "      <td>102.052114</td>\n",
       "      <td>82.400000</td>\n",
       "      <td>16.000000</td>\n",
       "      <td>6.000000</td>\n",
       "      <td>4.000000</td>\n",
       "      <td>0.000000</td>\n",
       "      <td>180.000000</td>\n",
       "      <td>1.400000</td>\n",
       "      <td>28.100000</td>\n",
       "    </tr>\n",
       "    <tr>\n",
       "      <th>75%</th>\n",
       "      <td>550404.000000</td>\n",
       "      <td>5504.000000</td>\n",
       "      <td>55.000000</td>\n",
       "      <td>18.142499</td>\n",
       "      <td>104.350891</td>\n",
       "      <td>90.600000</td>\n",
       "      <td>68.000000</td>\n",
       "      <td>10.000000</td>\n",
       "      <td>9.000000</td>\n",
       "      <td>0.000000</td>\n",
       "      <td>225.000000</td>\n",
       "      <td>3.400000</td>\n",
       "      <td>31.700000</td>\n",
       "    </tr>\n",
       "    <tr>\n",
       "      <th>max</th>\n",
       "      <td>860206.000000</td>\n",
       "      <td>8602.000000</td>\n",
       "      <td>86.000000</td>\n",
       "      <td>18.241106</td>\n",
       "      <td>104.495172</td>\n",
       "      <td>100.000000</td>\n",
       "      <td>96.000000</td>\n",
       "      <td>368.000000</td>\n",
       "      <td>368.000000</td>\n",
       "      <td>34.100000</td>\n",
       "      <td>337.500000</td>\n",
       "      <td>15094.300000</td>\n",
       "      <td>51.100000</td>\n",
       "    </tr>\n",
       "  </tbody>\n",
       "</table>\n",
       "</div>"
      ],
      "text/plain": [
       "         tambon_code   amphur_code  province_code      latitude     longitude  \\\n",
       "count   13635.000000  13635.000000   13635.000000  13635.000000  13635.000000   \n",
       "mean   452665.897543   4526.625376      45.179391     15.498114    101.728711   \n",
       "std    213925.103701   2139.240731      21.448269      2.345306      2.180078   \n",
       "min    102601.000000   1026.000000      10.000000     10.579849     98.573417   \n",
       "25%    300903.000000   3009.000000      30.000000     14.533026    100.569662   \n",
       "50%    380704.000000   3807.000000      38.000000     16.494229    102.052114   \n",
       "75%    550404.000000   5504.000000      55.000000     18.142499    104.350891   \n",
       "max    860206.000000   8602.000000      86.000000     18.241106    104.495172   \n",
       "\n",
       "              humid         light         pm10        pm2.5      rainfall  \\\n",
       "count  13635.000000  13635.000000  6841.000000  6841.000000  13635.000000   \n",
       "mean      80.428258     33.196553     7.657652     6.449203      0.135827   \n",
       "std       12.442925     34.509041     8.449023     8.415738      1.112371   \n",
       "min       40.900000      0.000000     1.000000     0.000000      0.000000   \n",
       "25%       71.000000      0.000000     3.000000     2.000000      0.000000   \n",
       "50%       82.400000     16.000000     6.000000     4.000000      0.000000   \n",
       "75%       90.600000     68.000000    10.000000     9.000000      0.000000   \n",
       "max      100.000000     96.000000   368.000000   368.000000     34.100000   \n",
       "\n",
       "        wind_direct    wind_speed          temp  \n",
       "count  13635.000000  13635.000000  13634.000000  \n",
       "mean     161.854785      4.533869     29.083827  \n",
       "std      100.338928    181.668659      4.344476  \n",
       "min        0.000000      0.000000     17.200000  \n",
       "25%       45.000000      0.000000     25.800000  \n",
       "50%      180.000000      1.400000     28.100000  \n",
       "75%      225.000000      3.400000     31.700000  \n",
       "max      337.500000  15094.300000     51.100000  "
      ]
     },
     "execution_count": 58,
     "metadata": {},
     "output_type": "execute_result"
    }
   ],
   "source": [
    "train_df.describe()"
   ]
  },
  {
   "cell_type": "code",
   "execution_count": 59,
   "metadata": {
    "colab": {
     "base_uri": "https://localhost:8080/"
    },
    "id": "4VDWp543mbCk",
    "outputId": "565f6550-1856-4c2e-e141-df1e9c649b07"
   },
   "outputs": [
    {
     "data": {
      "text/plain": [
       "13635"
      ]
     },
     "execution_count": 59,
     "metadata": {},
     "output_type": "execute_result"
    }
   ],
   "source": [
    "len(train_df)"
   ]
  },
  {
   "cell_type": "code",
   "execution_count": 60,
   "metadata": {
    "colab": {
     "base_uri": "https://localhost:8080/",
     "height": 679
    },
    "id": "Y_D3rydHmUtO",
    "outputId": "120b9ec2-3f3d-4df6-a7f5-0ec5275f60bc"
   },
   "outputs": [
    {
     "data": {
      "text/plain": [
       "mac                 0\n",
       "station_name        0\n",
       "tambon_code         0\n",
       "tambon_namt         0\n",
       "amphur_code         0\n",
       "amphur_namt         0\n",
       "province_code       0\n",
       "province_namt       0\n",
       "latitude            0\n",
       "longitude           0\n",
       "time                0\n",
       "humid               0\n",
       "light               0\n",
       "pm10             6794\n",
       "pm2.5            6794\n",
       "rainfall            0\n",
       "wind_direct         0\n",
       "wind_speed          0\n",
       "temp                1\n",
       "dtype: int64"
      ]
     },
     "execution_count": 60,
     "metadata": {},
     "output_type": "execute_result"
    }
   ],
   "source": [
    "train_df.isnull().sum()"
   ]
  },
  {
   "cell_type": "code",
   "execution_count": 61,
   "metadata": {
    "id": "-JB-QJgXmZj-"
   },
   "outputs": [],
   "source": [
    "test_df = pd.read_csv(\"IOT_Test.csv\")"
   ]
  },
  {
   "cell_type": "code",
   "execution_count": 62,
   "metadata": {
    "colab": {
     "base_uri": "https://localhost:8080/",
     "height": 679
    },
    "id": "uKF7wbeDmgKL",
    "outputId": "0634ce1f-26e9-4ffd-9fff-ee8c43f62e29"
   },
   "outputs": [
    {
     "data": {
      "text/plain": [
       "id                  0\n",
       "mac                 0\n",
       "station_name        0\n",
       "tambon_code         0\n",
       "tambon_namt         0\n",
       "amphur_code         0\n",
       "amphur_namt         0\n",
       "province_code       0\n",
       "province_namt       0\n",
       "latitude            0\n",
       "longitude           0\n",
       "time                0\n",
       "humid               0\n",
       "light               0\n",
       "pm10             1726\n",
       "pm2.5            1726\n",
       "rainfall            0\n",
       "wind_direct         0\n",
       "wind_speed          0\n",
       "dtype: int64"
      ]
     },
     "execution_count": 62,
     "metadata": {},
     "output_type": "execute_result"
    }
   ],
   "source": [
    "test_df.isnull().sum()"
   ]
  },
  {
   "cell_type": "code",
   "execution_count": 63,
   "metadata": {
    "colab": {
     "base_uri": "https://localhost:8080/",
     "height": 447
    },
    "id": "LibE32Z5mxVw",
    "outputId": "906f6934-11c9-421c-b7c0-efe58705b2a4"
   },
   "outputs": [
    {
     "data": {
      "text/plain": [
       "<Axes: >"
      ]
     },
     "execution_count": 63,
     "metadata": {},
     "output_type": "execute_result"
    },
    {
     "data": {
      "image/png": "[encoded data removed]",
      "text/plain": [
       "<Figure size 640x480 with 1 Axes>"
      ]
     },
     "metadata": {},
     "output_type": "display_data"
    }
   ],
   "source": [
    "train_df['temp'].plot()"
   ]
  },
  {
   "cell_type": "markdown",
   "metadata": {
    "id": "8sFTIrZtm8pd"
   },
   "source": [
    "## Preprocessing and fill the nan Numbers"
   ]
  },
  {
   "cell_type": "code",
   "execution_count": 64,
   "metadata": {
    "id": "Cjt8RYHdm_QO"
   },
   "outputs": [],
   "source": [
    "numerics = ['int16', 'int32', 'int64', 'float16', 'float32', 'float64']\n",
    "\n",
    "num_cols = list(train_df.select_dtypes(include=numerics).columns)\n",
    "cat_cols = list(train_df.select_dtypes(include=\"object\").columns)\n",
    "cat_cols.remove(\"time\")"
   ]
  },
  {
   "cell_type": "code",
   "execution_count": 65,
   "metadata": {
    "id": "qm8eR83izdOt"
   },
   "outputs": [],
   "source": [
    "test_cat_cols = list(test_df.select_dtypes(include=\"object\").columns)\n",
    "test_num_cols = list(test_df.select_dtypes(include=numerics).columns)\n",
    "test_cat_cols.remove(\"time\")"
   ]
  },
  {
   "cell_type": "code",
   "execution_count": 66,
   "metadata": {
    "id": "ModCgEt6peMj"
   },
   "outputs": [],
   "source": [
    "# Categorical - LabelEncoder\n",
    "\n",
    "from sklearn.preprocessing import LabelEncoder\n",
    "from sklearn import preprocessing\n",
    "\n",
    "train_df[cat_cols] = train_df[cat_cols].apply(LabelEncoder().fit_transform)\n",
    "test_df[cat_cols] = test_df[test_cat_cols].apply(LabelEncoder().fit_transform)\n",
    "\n",
    "test_df.drop(columns=\"id\", inplace=True)"
   ]
  },
  {
   "cell_type": "code",
   "execution_count": 67,
   "metadata": {
    "id": "d6ZRMfx51tn4"
   },
   "outputs": [],
   "source": [
    "train_df[\"time\"] = pd.to_datetime(train_df[\"time\"])\n",
    "test_df[\"time\"] = pd.to_datetime(test_df[\"time\"])"
   ]
  },
  {
   "cell_type": "code",
   "execution_count": 68,
   "metadata": {
    "id": "kthv_80S2OL2"
   },
   "outputs": [],
   "source": [
    "# Year, Month, Day: df['timestamp_col'].dt.year, df['timestamp_col'].dt.month, df['timestamp_col'].dt.day\n",
    "# Hour, Minute, Second: df['timestamp_col'].dt.hour, df['timestamp_col'].dt.minute, df['timestamp_col'].dt.second\n",
    "# Day of Week, Day of Year, Week of Year: df['timestamp_col'].dt.dayofweek, df['timestamp_col'].dt.dayofyear, df['timestamp_col'].dt.isocalendar().week\n",
    "\n",
    "# Representing cyclical patterns like time of day or day of week using sine and cosine transformations can help models understand periodicity without implying a linear relationship.\n",
    "# For example, for hour: df['hour_sin'] = np.sin(2 * np.pi * df['hour'] / 24) and df['hour_cos'] = np.cos(2 * np.pi * df['hour'] / 24)."
   ]
  },
  {
   "cell_type": "code",
   "execution_count": 69,
   "metadata": {
    "id": "vXNnF8ak143W"
   },
   "outputs": [],
   "source": [
    "import numpy as np\n",
    "\n",
    "# Timestamp - Feature Engineering\n",
    "def create_feature(df):\n",
    "  df['year'] = df['time'].dt.year\n",
    "  df['month'] = df['time'].dt.month\n",
    "  df['day'] = df['time'].dt.day\n",
    "  df[\"hour\"] = df[\"time\"].dt.hour\n",
    "  df['day_of_month'] = df['time'].dt.day\n",
    "  df['day_of_week'] = df['time'].dt.dayofweek # Monday=0, Sunday=6\n",
    "  df['is_weekend'] = df['time'].dt.dayofweek.isin([5, 6]).astype(int) # 1 if weekend, 0 otherwise\n",
    "  df['hour_sin'] = np.sin(2 * np.pi * df['hour'] / 24)\n",
    "  df['hour_cos'] = np.cos(2 * np.pi * df['hour'] / 24)\n",
    "  df.drop(columns=[\"time\"], inplace=True)\n",
    "  return df"
   ]
  },
  {
   "cell_type": "code",
   "execution_count": 70,
   "metadata": {
    "id": "JsfmoVNp2l_7"
   },
   "outputs": [],
   "source": [
    "train_df = create_feature(train_df)\n",
    "test_df = create_feature(test_df)"
   ]
  },
  {
   "cell_type": "code",
   "execution_count": 71,
   "metadata": {
    "id": "E5ZnAkx_0-A6"
   },
   "outputs": [],
   "source": [
    "# Fill the NaN numbers\n",
    "\n",
    "from sklearn.impute import KNNImputer\n",
    "\n",
    "imputer = KNNImputer(n_neighbors=2)\n",
    "\n",
    "columns_to_impute = [\"pm10\", \"pm2.5\"]\n",
    "\n",
    "# Impute mean values\n",
    "for col in columns_to_impute:\n",
    "    train_df[col] = train_df[col].fillna(train_df[col].mean())\n",
    "    test_df[col] = test_df[col].fillna(test_df[col].mean())"
   ]
  },
  {
   "cell_type": "code",
   "execution_count": 72,
   "metadata": {
    "id": "6F3VfVxo3mvw"
   },
   "outputs": [],
   "source": [
    "train_df = train_df.dropna()"
   ]
  },
  {
   "cell_type": "code",
   "execution_count": 73,
   "metadata": {},
   "outputs": [
    {
     "data": {
      "text/plain": [
       "Index(['mac', 'station_name', 'tambon_code', 'tambon_namt', 'amphur_code',\n",
       "       'amphur_namt', 'province_code', 'province_namt', 'latitude',\n",
       "       'longitude', 'humid', 'light', 'pm10', 'pm2.5', 'rainfall',\n",
       "       'wind_direct', 'wind_speed', 'temp', 'year', 'month', 'day', 'hour',\n",
       "       'day_of_month', 'day_of_week', 'is_weekend', 'hour_sin', 'hour_cos'],\n",
       "      dtype='object')"
      ]
     },
     "execution_count": 73,
     "metadata": {},
     "output_type": "execute_result"
    }
   ],
   "source": [
    "train_df.columns"
   ]
  },
  {
   "cell_type": "code",
   "execution_count": 74,
   "metadata": {},
   "outputs": [
    {
     "data": {
      "text/html": [
       "<div>\n",
       "<style scoped>\n",
       "    .dataframe tbody tr th:only-of-type {\n",
       "        vertical-align: middle;\n",
       "    }\n",
       "\n",
       "    .dataframe tbody tr th {\n",
       "        vertical-align: top;\n",
       "    }\n",
       "\n",
       "    .dataframe thead th {\n",
       "        text-align: right;\n",
       "    }\n",
       "</style>\n",
       "<table border=\"1\" class=\"dataframe\">\n",
       "  <thead>\n",
       "    <tr style=\"text-align: right;\">\n",
       "      <th></th>\n",
       "      <th>pm10</th>\n",
       "      <th>pm2.5</th>\n",
       "      <th>rainfall</th>\n",
       "      <th>wind_direct</th>\n",
       "      <th>wind_speed</th>\n",
       "    </tr>\n",
       "  </thead>\n",
       "  <tbody>\n",
       "    <tr>\n",
       "      <th>count</th>\n",
       "      <td>13634.000000</td>\n",
       "      <td>13634.000000</td>\n",
       "      <td>13634.000000</td>\n",
       "      <td>13634.000000</td>\n",
       "      <td>13634.000000</td>\n",
       "    </tr>\n",
       "    <tr>\n",
       "      <th>mean</th>\n",
       "      <td>7.657652</td>\n",
       "      <td>6.449203</td>\n",
       "      <td>0.135837</td>\n",
       "      <td>161.853455</td>\n",
       "      <td>4.533739</td>\n",
       "    </tr>\n",
       "    <tr>\n",
       "      <th>std</th>\n",
       "      <td>5.984651</td>\n",
       "      <td>5.961074</td>\n",
       "      <td>1.112411</td>\n",
       "      <td>100.342488</td>\n",
       "      <td>181.675321</td>\n",
       "    </tr>\n",
       "    <tr>\n",
       "      <th>min</th>\n",
       "      <td>1.000000</td>\n",
       "      <td>0.000000</td>\n",
       "      <td>0.000000</td>\n",
       "      <td>0.000000</td>\n",
       "      <td>0.000000</td>\n",
       "    </tr>\n",
       "    <tr>\n",
       "      <th>25%</th>\n",
       "      <td>6.000000</td>\n",
       "      <td>4.000000</td>\n",
       "      <td>0.000000</td>\n",
       "      <td>45.000000</td>\n",
       "      <td>0.000000</td>\n",
       "    </tr>\n",
       "    <tr>\n",
       "      <th>50%</th>\n",
       "      <td>7.657652</td>\n",
       "      <td>6.449203</td>\n",
       "      <td>0.000000</td>\n",
       "      <td>180.000000</td>\n",
       "      <td>1.400000</td>\n",
       "    </tr>\n",
       "    <tr>\n",
       "      <th>75%</th>\n",
       "      <td>7.657652</td>\n",
       "      <td>6.449203</td>\n",
       "      <td>0.000000</td>\n",
       "      <td>225.000000</td>\n",
       "      <td>3.400000</td>\n",
       "    </tr>\n",
       "    <tr>\n",
       "      <th>max</th>\n",
       "      <td>368.000000</td>\n",
       "      <td>368.000000</td>\n",
       "      <td>34.100000</td>\n",
       "      <td>337.500000</td>\n",
       "      <td>15094.300000</td>\n",
       "    </tr>\n",
       "  </tbody>\n",
       "</table>\n",
       "</div>"
      ],
      "text/plain": [
       "               pm10         pm2.5      rainfall   wind_direct    wind_speed\n",
       "count  13634.000000  13634.000000  13634.000000  13634.000000  13634.000000\n",
       "mean       7.657652      6.449203      0.135837    161.853455      4.533739\n",
       "std        5.984651      5.961074      1.112411    100.342488    181.675321\n",
       "min        1.000000      0.000000      0.000000      0.000000      0.000000\n",
       "25%        6.000000      4.000000      0.000000     45.000000      0.000000\n",
       "50%        7.657652      6.449203      0.000000    180.000000      1.400000\n",
       "75%        7.657652      6.449203      0.000000    225.000000      3.400000\n",
       "max      368.000000    368.000000     34.100000    337.500000  15094.300000"
      ]
     },
     "execution_count": 74,
     "metadata": {},
     "output_type": "execute_result"
    }
   ],
   "source": [
    "train_df[[\"pm10\", \"pm2.5\", \"rainfall\", \"wind_direct\", \"wind_speed\"]].describe()"
   ]
  },
  {
   "cell_type": "code",
   "execution_count": 75,
   "metadata": {},
   "outputs": [],
   "source": [
    "remove_cols = [\"tambon_code\", \"amphur_code\", \"year\"]\n",
    "selected_features = [\"station_name\", \"tambon_namt\", \"light\", \"humid\", \"pm10\", \"pm2.5\", \"rainfall\", \"wind_direct\", \"wind_speed\"]"
   ]
  },
  {
   "cell_type": "code",
   "execution_count": 76,
   "metadata": {},
   "outputs": [
    {
     "data": {
      "text/html": [
       "<div>\n",
       "<style scoped>\n",
       "    .dataframe tbody tr th:only-of-type {\n",
       "        vertical-align: middle;\n",
       "    }\n",
       "\n",
       "    .dataframe tbody tr th {\n",
       "        vertical-align: top;\n",
       "    }\n",
       "\n",
       "    .dataframe thead th {\n",
       "        text-align: right;\n",
       "    }\n",
       "</style>\n",
       "<table border=\"1\" class=\"dataframe\">\n",
       "  <thead>\n",
       "    <tr style=\"text-align: right;\">\n",
       "      <th></th>\n",
       "      <th>mac</th>\n",
       "      <th>station_name</th>\n",
       "      <th>tambon_code</th>\n",
       "      <th>tambon_namt</th>\n",
       "      <th>amphur_code</th>\n",
       "      <th>amphur_namt</th>\n",
       "      <th>province_code</th>\n",
       "      <th>province_namt</th>\n",
       "      <th>latitude</th>\n",
       "      <th>longitude</th>\n",
       "      <th>...</th>\n",
       "      <th>temp</th>\n",
       "      <th>year</th>\n",
       "      <th>month</th>\n",
       "      <th>day</th>\n",
       "      <th>hour</th>\n",
       "      <th>day_of_month</th>\n",
       "      <th>day_of_week</th>\n",
       "      <th>is_weekend</th>\n",
       "      <th>hour_sin</th>\n",
       "      <th>hour_cos</th>\n",
       "    </tr>\n",
       "  </thead>\n",
       "  <tbody>\n",
       "    <tr>\n",
       "      <th>count</th>\n",
       "      <td>13634.000000</td>\n",
       "      <td>13634.000000</td>\n",
       "      <td>13634.000000</td>\n",
       "      <td>13634.000000</td>\n",
       "      <td>13634.000000</td>\n",
       "      <td>13634.000000</td>\n",
       "      <td>13634.000000</td>\n",
       "      <td>13634.000000</td>\n",
       "      <td>13634.000000</td>\n",
       "      <td>13634.000000</td>\n",
       "      <td>...</td>\n",
       "      <td>13634.000000</td>\n",
       "      <td>13634.0</td>\n",
       "      <td>13634.00000</td>\n",
       "      <td>13634.000000</td>\n",
       "      <td>13634.000000</td>\n",
       "      <td>13634.000000</td>\n",
       "      <td>13634.000000</td>\n",
       "      <td>13634.000000</td>\n",
       "      <td>13634.000000</td>\n",
       "      <td>1.363400e+04</td>\n",
       "    </tr>\n",
       "    <tr>\n",
       "      <th>mean</th>\n",
       "      <td>3.513716</td>\n",
       "      <td>3.519803</td>\n",
       "      <td>452677.028752</td>\n",
       "      <td>3.521490</td>\n",
       "      <td>4526.736688</td>\n",
       "      <td>3.513349</td>\n",
       "      <td>45.180505</td>\n",
       "      <td>3.520757</td>\n",
       "      <td>15.498142</td>\n",
       "      <td>101.728687</td>\n",
       "      <td>...</td>\n",
       "      <td>29.083827</td>\n",
       "      <td>2022.0</td>\n",
       "      <td>5.99956</td>\n",
       "      <td>15.996699</td>\n",
       "      <td>11.493619</td>\n",
       "      <td>15.996699</td>\n",
       "      <td>3.009755</td>\n",
       "      <td>0.287076</td>\n",
       "      <td>-0.001609</td>\n",
       "      <td>-2.328897e-04</td>\n",
       "    </tr>\n",
       "    <tr>\n",
       "      <th>std</th>\n",
       "      <td>2.296128</td>\n",
       "      <td>2.301476</td>\n",
       "      <td>213929.000587</td>\n",
       "      <td>2.295301</td>\n",
       "      <td>2139.279699</td>\n",
       "      <td>2.289315</td>\n",
       "      <td>21.448662</td>\n",
       "      <td>2.288844</td>\n",
       "      <td>2.345390</td>\n",
       "      <td>2.180156</td>\n",
       "      <td>...</td>\n",
       "      <td>4.344476</td>\n",
       "      <td>0.0</td>\n",
       "      <td>0.81853</td>\n",
       "      <td>8.733194</td>\n",
       "      <td>6.922769</td>\n",
       "      <td>8.733194</td>\n",
       "      <td>1.999261</td>\n",
       "      <td>0.452414</td>\n",
       "      <td>0.706300</td>\n",
       "      <td>7.079625e-01</td>\n",
       "    </tr>\n",
       "    <tr>\n",
       "      <th>min</th>\n",
       "      <td>0.000000</td>\n",
       "      <td>0.000000</td>\n",
       "      <td>102601.000000</td>\n",
       "      <td>0.000000</td>\n",
       "      <td>1026.000000</td>\n",
       "      <td>0.000000</td>\n",
       "      <td>10.000000</td>\n",
       "      <td>0.000000</td>\n",
       "      <td>10.579849</td>\n",
       "      <td>98.573417</td>\n",
       "      <td>...</td>\n",
       "      <td>17.200000</td>\n",
       "      <td>2022.0</td>\n",
       "      <td>5.00000</td>\n",
       "      <td>1.000000</td>\n",
       "      <td>0.000000</td>\n",
       "      <td>1.000000</td>\n",
       "      <td>0.000000</td>\n",
       "      <td>0.000000</td>\n",
       "      <td>-1.000000</td>\n",
       "      <td>-1.000000e+00</td>\n",
       "    </tr>\n",
       "    <tr>\n",
       "      <th>25%</th>\n",
       "      <td>1.000000</td>\n",
       "      <td>1.000000</td>\n",
       "      <td>300903.000000</td>\n",
       "      <td>1.000000</td>\n",
       "      <td>3009.000000</td>\n",
       "      <td>1.000000</td>\n",
       "      <td>30.000000</td>\n",
       "      <td>2.000000</td>\n",
       "      <td>14.533026</td>\n",
       "      <td>100.569662</td>\n",
       "      <td>...</td>\n",
       "      <td>25.800000</td>\n",
       "      <td>2022.0</td>\n",
       "      <td>5.00000</td>\n",
       "      <td>9.000000</td>\n",
       "      <td>5.000000</td>\n",
       "      <td>9.000000</td>\n",
       "      <td>1.000000</td>\n",
       "      <td>0.000000</td>\n",
       "      <td>-0.707107</td>\n",
       "      <td>-7.071068e-01</td>\n",
       "    </tr>\n",
       "    <tr>\n",
       "      <th>50%</th>\n",
       "      <td>4.000000</td>\n",
       "      <td>4.000000</td>\n",
       "      <td>380704.000000</td>\n",
       "      <td>4.000000</td>\n",
       "      <td>3807.000000</td>\n",
       "      <td>4.000000</td>\n",
       "      <td>38.000000</td>\n",
       "      <td>4.000000</td>\n",
       "      <td>16.494229</td>\n",
       "      <td>102.052114</td>\n",
       "      <td>...</td>\n",
       "      <td>28.100000</td>\n",
       "      <td>2022.0</td>\n",
       "      <td>6.00000</td>\n",
       "      <td>16.000000</td>\n",
       "      <td>12.000000</td>\n",
       "      <td>16.000000</td>\n",
       "      <td>3.000000</td>\n",
       "      <td>0.000000</td>\n",
       "      <td>0.000000</td>\n",
       "      <td>-1.836970e-16</td>\n",
       "    </tr>\n",
       "    <tr>\n",
       "      <th>75%</th>\n",
       "      <td>6.000000</td>\n",
       "      <td>6.000000</td>\n",
       "      <td>550404.000000</td>\n",
       "      <td>6.000000</td>\n",
       "      <td>5504.000000</td>\n",
       "      <td>6.000000</td>\n",
       "      <td>55.000000</td>\n",
       "      <td>6.000000</td>\n",
       "      <td>18.142499</td>\n",
       "      <td>104.350891</td>\n",
       "      <td>...</td>\n",
       "      <td>31.700000</td>\n",
       "      <td>2022.0</td>\n",
       "      <td>7.00000</td>\n",
       "      <td>24.000000</td>\n",
       "      <td>17.000000</td>\n",
       "      <td>24.000000</td>\n",
       "      <td>5.000000</td>\n",
       "      <td>1.000000</td>\n",
       "      <td>0.707107</td>\n",
       "      <td>7.071068e-01</td>\n",
       "    </tr>\n",
       "    <tr>\n",
       "      <th>max</th>\n",
       "      <td>7.000000</td>\n",
       "      <td>7.000000</td>\n",
       "      <td>860206.000000</td>\n",
       "      <td>7.000000</td>\n",
       "      <td>8602.000000</td>\n",
       "      <td>7.000000</td>\n",
       "      <td>86.000000</td>\n",
       "      <td>7.000000</td>\n",
       "      <td>18.241106</td>\n",
       "      <td>104.495172</td>\n",
       "      <td>...</td>\n",
       "      <td>51.100000</td>\n",
       "      <td>2022.0</td>\n",
       "      <td>7.00000</td>\n",
       "      <td>31.000000</td>\n",
       "      <td>23.000000</td>\n",
       "      <td>31.000000</td>\n",
       "      <td>6.000000</td>\n",
       "      <td>1.000000</td>\n",
       "      <td>1.000000</td>\n",
       "      <td>1.000000e+00</td>\n",
       "    </tr>\n",
       "  </tbody>\n",
       "</table>\n",
       "<p>8 rows × 27 columns</p>\n",
       "</div>"
      ],
      "text/plain": [
       "                mac  station_name    tambon_code   tambon_namt   amphur_code  \\\n",
       "count  13634.000000  13634.000000   13634.000000  13634.000000  13634.000000   \n",
       "mean       3.513716      3.519803  452677.028752      3.521490   4526.736688   \n",
       "std        2.296128      2.301476  213929.000587      2.295301   2139.279699   \n",
       "min        0.000000      0.000000  102601.000000      0.000000   1026.000000   \n",
       "25%        1.000000      1.000000  300903.000000      1.000000   3009.000000   \n",
       "50%        4.000000      4.000000  380704.000000      4.000000   3807.000000   \n",
       "75%        6.000000      6.000000  550404.000000      6.000000   5504.000000   \n",
       "max        7.000000      7.000000  860206.000000      7.000000   8602.000000   \n",
       "\n",
       "        amphur_namt  province_code  province_namt      latitude     longitude  \\\n",
       "count  13634.000000   13634.000000   13634.000000  13634.000000  13634.000000   \n",
       "mean       3.513349      45.180505       3.520757     15.498142    101.728687   \n",
       "std        2.289315      21.448662       2.288844      2.345390      2.180156   \n",
       "min        0.000000      10.000000       0.000000     10.579849     98.573417   \n",
       "25%        1.000000      30.000000       2.000000     14.533026    100.569662   \n",
       "50%        4.000000      38.000000       4.000000     16.494229    102.052114   \n",
       "75%        6.000000      55.000000       6.000000     18.142499    104.350891   \n",
       "max        7.000000      86.000000       7.000000     18.241106    104.495172   \n",
       "\n",
       "       ...          temp     year        month           day          hour  \\\n",
       "count  ...  13634.000000  13634.0  13634.00000  13634.000000  13634.000000   \n",
       "mean   ...     29.083827   2022.0      5.99956     15.996699     11.493619   \n",
       "std    ...      4.344476      0.0      0.81853      8.733194      6.922769   \n",
       "min    ...     17.200000   2022.0      5.00000      1.000000      0.000000   \n",
       "25%    ...     25.800000   2022.0      5.00000      9.000000      5.000000   \n",
       "50%    ...     28.100000   2022.0      6.00000     16.000000     12.000000   \n",
       "75%    ...     31.700000   2022.0      7.00000     24.000000     17.000000   \n",
       "max    ...     51.100000   2022.0      7.00000     31.000000     23.000000   \n",
       "\n",
       "       day_of_month   day_of_week    is_weekend      hour_sin      hour_cos  \n",
       "count  13634.000000  13634.000000  13634.000000  13634.000000  1.363400e+04  \n",
       "mean      15.996699      3.009755      0.287076     -0.001609 -2.328897e-04  \n",
       "std        8.733194      1.999261      0.452414      0.706300  7.079625e-01  \n",
       "min        1.000000      0.000000      0.000000     -1.000000 -1.000000e+00  \n",
       "25%        9.000000      1.000000      0.000000     -0.707107 -7.071068e-01  \n",
       "50%       16.000000      3.000000      0.000000      0.000000 -1.836970e-16  \n",
       "75%       24.000000      5.000000      1.000000      0.707107  7.071068e-01  \n",
       "max       31.000000      6.000000      1.000000      1.000000  1.000000e+00  \n",
       "\n",
       "[8 rows x 27 columns]"
      ]
     },
     "execution_count": 76,
     "metadata": {},
     "output_type": "execute_result"
    }
   ],
   "source": [
    "train_df.describe()"
   ]
  },
  {
   "cell_type": "code",
   "execution_count": 77,
   "metadata": {},
   "outputs": [],
   "source": [
    "from sklearn.preprocessing import StandardScaler\n",
    "\n",
    "scaler = StandardScaler()\n",
    "\n",
    "train_df = train_df.drop(columns=remove_cols)\n",
    "test_df = test_df.drop(columns=remove_cols)\n",
    "train_df[selected_features] = scaler.fit_transform(train_df[selected_features])\n",
    "test_df[selected_features] = scaler.fit_transform(test_df[selected_features])"
   ]
  },
  {
   "cell_type": "code",
   "execution_count": 78,
   "metadata": {
    "colab": {
     "base_uri": "https://localhost:8080/"
    },
    "id": "LKEME0BR3KTv",
    "outputId": "792c2821-c331-485b-c368-571e670d74db"
   },
   "outputs": [
    {
     "name": "stderr",
     "output_type": "stream",
     "text": [
      "No path specified. Models will be saved in: \"AutogluonModels/ag-20250705_152415\"\n",
      "Preset alias specified: 'best' maps to 'best_quality'.\n",
      "Verbosity: 2 (Standard Logging)\n",
      "=================== System Info ===================\n",
      "AutoGluon Version:  1.3.1\n",
      "Python Version:     3.10.13\n",
      "Operating System:   Linux\n",
      "Platform Machine:   x86_64\n",
      "Platform Version:   #1 SMP Mon Jan 13 18:15:17 UTC 2025 (7f98b6b)\n",
      "CPU Count:          64\n",
      "Memory Avail:       489.22 GB / 502.44 GB (97.4%)\n",
      "Disk Space Avail:   943.91 GB / 1024.00 GB (92.2%)\n",
      "===================================================\n",
      "Presets specified: ['best']\n",
      "Setting dynamic_stacking from 'auto' to True. Reason: Enable dynamic_stacking when use_bag_holdout is disabled. (use_bag_holdout=False)\n",
      "Stack configuration (auto_stack=True): num_stack_levels=1, num_bag_folds=8, num_bag_sets=1\n",
      "DyStack is enabled (dynamic_stacking=True). AutoGluon will try to determine whether the input data is affected by stacked overfitting and enable or disable stacking as a consequence.\n",
      "\tThis is used to identify the optimal `num_stack_levels` value. Copies of AutoGluon will be fit on subsets of the data. Then holdout validation data is used to detect stacked overfitting.\n",
      "\tRunning DyStack for up to 225s of the 900s of remaining time (25%).\n",
      "\t\tContext path: \"/lustrefs/disk/project/ai901648-ai1048/Hack 2 - Temperature/AutogluonModels/ag-20250705_152415/ds_sub_fit/sub_fit_ho\"\n",
      "Leaderboard on holdout data (DyStack):\n",
      "                    model  score_holdout  score_val          eval_metric  pred_time_test  pred_time_val    fit_time  pred_time_test_marginal  pred_time_val_marginal  fit_time_marginal  stack_level  can_infer  fit_order\n",
      "0          XGBoost_BAG_L2      -0.425267  -0.458498  mean_absolute_error        1.305035       5.931372  165.498654                 0.296750                0.105833          17.801047            2       True          9\n",
      "1     WeightedEnsemble_L3      -0.427131  -0.451809  mean_absolute_error        1.504703       6.510901  188.840576                 0.002500                0.000612           0.071239            3       True         10\n",
      "2         LightGBM_BAG_L2      -0.430221  -0.457974  mean_absolute_error        1.027832       5.898675  170.404875                 0.019547                0.073136          22.707268            2       True          6\n",
      "3    ExtraTreesMSE_BAG_L2      -0.432123  -0.461084  mean_absolute_error        1.185906       6.331321  148.261022                 0.177621                0.505781           0.563416            2       True          8\n",
      "4     WeightedEnsemble_L2      -0.433965  -0.455787  mean_absolute_error        0.815624       5.742933  147.720326                 0.002272                0.000582           0.029619            2       True          4\n",
      "5       LightGBMXT_BAG_L1      -0.434254  -0.458135  mean_absolute_error        0.566623       5.650836  147.683416                 0.566623                5.650836         147.683416            1       True          3\n",
      "6  RandomForestMSE_BAG_L2      -0.439290  -0.468020  mean_absolute_error        1.320287       6.313567  148.684208                 0.312002                0.488028           0.986602            2       True          7\n",
      "7       LightGBMXT_BAG_L2      -0.446268  -0.482217  mean_absolute_error        1.060831       6.223035  176.556719                 0.052546                0.397495          28.859113            2       True          5\n",
      "8   KNeighborsDist_BAG_L1      -0.783812  -0.797586  mean_absolute_error        0.246729       0.091514    0.007291                 0.246729                0.091514           0.007291            1       True          2\n",
      "9   KNeighborsUnif_BAG_L1      -0.837954  -0.846974  mean_absolute_error        0.194933       0.083189    0.006899                 0.194933                0.083189           0.006899            1       True          1\n",
      "\t1\t = Optimal   num_stack_levels (Stacked Overfitting Occurred: False)\n",
      "\t238s\t = DyStack   runtime |\t662s\t = Remaining runtime\n",
      "Starting main fit with num_stack_levels=1.\n",
      "\tFor future fit calls on this dataset, you can skip DyStack to save time: `predictor.fit(..., dynamic_stacking=False, num_stack_levels=1)`\n",
      "Beginning AutoGluon training ... Time limit = 662s\n",
      "AutoGluon will save models to \"/lustrefs/disk/project/ai901648-ai1048/Hack 2 - Temperature/AutogluonModels/ag-20250705_152415\"\n",
      "Train Data Rows:    13634\n",
      "Train Data Columns: 23\n",
      "Label Column:       temp\n",
      "Problem Type:       regression\n",
      "Preprocessing data ...\n",
      "Using Feature Generators to preprocess the data ...\n",
      "Fitting AutoMLPipelineFeatureGenerator...\n",
      "\tAvailable Memory:                    499215.51 MB\n",
      "\tTrain Data (Original)  Memory Usage: 2.39 MB (0.0% of available memory)\n",
      "\tInferring data type of each feature based on column values. Set feature_metadata_in to manually specify special dtypes of the features.\n",
      "\tStage 1 Generators:\n",
      "\t\tFitting AsTypeFeatureGenerator...\n",
      "\t\t\tNote: Converting 1 features to boolean dtype as they only contain 2 unique values.\n",
      "\tStage 2 Generators:\n",
      "\t\tFitting FillNaFeatureGenerator...\n",
      "\tStage 3 Generators:\n",
      "\t\tFitting IdentityFeatureGenerator...\n",
      "\tStage 4 Generators:\n",
      "\t\tFitting DropUniqueFeatureGenerator...\n",
      "\tStage 5 Generators:\n",
      "\t\tFitting DropDuplicatesFeatureGenerator...\n",
      "\tUnused Original Features (Count: 1): ['day_of_month']\n",
      "\t\tThese features were not used to generate any of the output features. Add a feature generator compatible with these features to utilize them.\n",
      "\t\tFeatures can also be unused if they carry very little information, such as being categorical but having almost entirely unique values or being duplicates of other features.\n",
      "\t\tThese features do not need to be present at inference time.\n",
      "\t\t('float', []) : 1 | ['day_of_month']\n",
      "\tTypes of features in original data (raw dtype, special dtypes):\n",
      "\t\t('float', []) : 19 | ['mac', 'station_name', 'tambon_namt', 'province_namt', 'latitude', ...]\n",
      "\t\t('int', [])   :  3 | ['amphur_namt', 'province_code', 'is_weekend']\n",
      "\tTypes of features in processed data (raw dtype, special dtypes):\n",
      "\t\t('float', [])     : 19 | ['mac', 'station_name', 'tambon_namt', 'province_namt', 'latitude', ...]\n",
      "\t\t('int', [])       :  2 | ['amphur_namt', 'province_code']\n",
      "\t\t('int', ['bool']) :  1 | ['is_weekend']\n",
      "\t0.2s = Fit runtime\n",
      "\t22 features in original data used to generate 22 features in processed data.\n",
      "\tTrain Data (Processed) Memory Usage: 2.20 MB (0.0% of available memory)\n",
      "Data preprocessing and feature engineering runtime = 0.23s ...\n",
      "AutoGluon will gauge predictive performance using evaluation metric: 'mean_absolute_error'\n",
      "\tThis metric's sign has been flipped to adhere to being higher_is_better. The metric score can be multiplied by -1 to get the metric value.\n",
      "\tTo change this, specify the eval_metric parameter of Predictor()\n",
      "Large model count detected (112 configs) ... Only displaying the first 3 models of each family. To see all, set `verbosity=3`.\n",
      "User-specified model hyperparameters to be fit:\n",
      "{\n",
      "\t'NN_TORCH': [{}, {'activation': 'elu', 'dropout_prob': 0.10077639529843717, 'hidden_size': 108, 'learning_rate': 0.002735937344002146, 'num_layers': 4, 'use_batchnorm': True, 'weight_decay': 1.356433327634438e-12, 'ag_args': {'name_suffix': '_r79', 'priority': -2}}, {'activation': 'elu', 'dropout_prob': 0.11897478034205347, 'hidden_size': 213, 'learning_rate': 0.0010474382260641949, 'num_layers': 4, 'use_batchnorm': False, 'weight_decay': 5.594471067786272e-10, 'ag_args': {'name_suffix': '_r22', 'priority': -7}}],\n",
      "\t'GBM': [{'extra_trees': True, 'ag_args': {'name_suffix': 'XT'}}, {}, {'learning_rate': 0.03, 'num_leaves': 128, 'feature_fraction': 0.9, 'min_data_in_leaf': 3, 'ag_args': {'name_suffix': 'Large', 'priority': 0, 'hyperparameter_tune_kwargs': None}}],\n",
      "\t'CAT': [{}, {'depth': 6, 'grow_policy': 'SymmetricTree', 'l2_leaf_reg': 2.1542798306067823, 'learning_rate': 0.06864209415792857, 'max_ctr_complexity': 4, 'one_hot_max_size': 10, 'ag_args': {'name_suffix': '_r177', 'priority': -1}}, {'depth': 8, 'grow_policy': 'Depthwise', 'l2_leaf_reg': 2.7997999596449104, 'learning_rate': 0.031375015734637225, 'max_ctr_complexity': 2, 'one_hot_max_size': 3, 'ag_args': {'name_suffix': '_r9', 'priority': -5}}],\n",
      "\t'XGB': [{}, {'colsample_bytree': 0.6917311125174739, 'enable_categorical': False, 'learning_rate': 0.018063876087523967, 'max_depth': 10, 'min_child_weight': 0.6028633586934382, 'ag_args': {'name_suffix': '_r33', 'priority': -8}}, {'colsample_bytree': 0.6628423832084077, 'enable_categorical': False, 'learning_rate': 0.08775715546881824, 'max_depth': 5, 'min_child_weight': 0.6294123374222513, 'ag_args': {'name_suffix': '_r89', 'priority': -16}}],\n",
      "\t'FASTAI': [{}, {'bs': 256, 'emb_drop': 0.5411770367537934, 'epochs': 43, 'layers': [800, 400], 'lr': 0.01519848858318159, 'ps': 0.23782946566604385, 'ag_args': {'name_suffix': '_r191', 'priority': -4}}, {'bs': 2048, 'emb_drop': 0.05070411322605811, 'epochs': 29, 'layers': [200, 100], 'lr': 0.08974235041576624, 'ps': 0.10393466140748028, 'ag_args': {'name_suffix': '_r102', 'priority': -11}}],\n",
      "\t'RF': [{'criterion': 'gini', 'ag_args': {'name_suffix': 'Gini', 'problem_types': ['binary', 'multiclass']}}, {'criterion': 'entropy', 'ag_args': {'name_suffix': 'Entr', 'problem_types': ['binary', 'multiclass']}}, {'criterion': 'squared_error', 'ag_args': {'name_suffix': 'MSE', 'problem_types': ['regression', 'quantile']}}],\n",
      "\t'XT': [{'criterion': 'gini', 'ag_args': {'name_suffix': 'Gini', 'problem_types': ['binary', 'multiclass']}}, {'criterion': 'entropy', 'ag_args': {'name_suffix': 'Entr', 'problem_types': ['binary', 'multiclass']}}, {'criterion': 'squared_error', 'ag_args': {'name_suffix': 'MSE', 'problem_types': ['regression', 'quantile']}}],\n",
      "\t'KNN': [{'weights': 'uniform', 'ag_args': {'name_suffix': 'Unif'}}, {'weights': 'distance', 'ag_args': {'name_suffix': 'Dist'}}],\n",
      "}\n",
      "AutoGluon will fit 2 stack levels (L1 to L2) ...\n",
      "Fitting 108 L1 models, fit_strategy=\"sequential\" ...\n",
      "Fitting model: KNeighborsUnif_BAG_L1 ... Training model for up to 440.83s of the 661.41s of remaining time.\n",
      "\t-0.8145\t = Validation score   (-mean_absolute_error)\n",
      "\t0.01s\t = Training   runtime\n",
      "\t0.32s\t = Validation runtime\n",
      "Fitting model: KNeighborsDist_BAG_L1 ... Training model for up to 440.36s of the 660.94s of remaining time.\n",
      "\t-0.7656\t = Validation score   (-mean_absolute_error)\n",
      "\t0.01s\t = Training   runtime\n",
      "\t0.11s\t = Validation runtime\n",
      "Fitting model: LightGBMXT_BAG_L1 ... Training model for up to 440.20s of the 660.78s of remaining time.\n",
      "\tFitting 8 child models (S1F1 - S1F8) | Fitting with ParallelLocalFoldFittingStrategy (1.0 workers, per: cpus=1, gpus=4, memory=0.00%)\n",
      "\t-0.4464\t = Validation score   (-mean_absolute_error)\n",
      "\t176.35s\t = Training   runtime\n",
      "\t7.72s\t = Validation runtime\n",
      "Fitting model: LightGBM_BAG_L1 ... Training model for up to 260.67s of the 481.24s of remaining time.\n",
      "\tFitting 8 child models (S1F1 - S1F8) | Fitting with ParallelLocalFoldFittingStrategy (1.0 workers, per: cpus=1, gpus=4, memory=0.00%)\n",
      "\t-0.4518\t = Validation score   (-mean_absolute_error)\n",
      "\t166.53s\t = Training   runtime\n",
      "\t6.91s\t = Validation runtime\n",
      "Fitting model: RandomForestMSE_BAG_L1 ... Training model for up to 91.21s of the 311.78s of remaining time.\n",
      "/home/ai5049/.local/lib/python3.10/site-packages/sklearn/base.py:474: FutureWarning: `BaseEstimator._validate_data` is deprecated in 1.6 and will be removed in 1.7. Use `sklearn.utils.validation.validate_data` instead. This function becomes public and is part of the scikit-learn developer API.\n",
      "  warnings.warn(\n",
      "\t-0.5929\t = Validation score   (-mean_absolute_error)\n",
      "\t0.75s\t = Training   runtime\n",
      "\t0.53s\t = Validation runtime\n",
      "Fitting model: CatBoost_BAG_L1 ... Training model for up to 89.45s of the 310.02s of remaining time.\n",
      "\tFitting 8 child models (S1F1 - S1F8) | Fitting with ParallelLocalFoldFittingStrategy (1.0 workers, per: cpus=1, gpus=4, memory=0.08%)\n",
      "\t-0.636\t = Validation score   (-mean_absolute_error)\n",
      "\t43.69s\t = Training   runtime\n",
      "\t0.05s\t = Validation runtime\n",
      "Fitting model: ExtraTreesMSE_BAG_L1 ... Training model for up to 44.25s of the 264.82s of remaining time.\n",
      "/home/ai5049/.local/lib/python3.10/site-packages/sklearn/base.py:474: FutureWarning: `BaseEstimator._validate_data` is deprecated in 1.6 and will be removed in 1.7. Use `sklearn.utils.validation.validate_data` instead. This function becomes public and is part of the scikit-learn developer API.\n",
      "  warnings.warn(\n",
      "\t-0.5913\t = Validation score   (-mean_absolute_error)\n",
      "\t0.54s\t = Training   runtime\n",
      "\t0.55s\t = Validation runtime\n",
      "Fitting model: NeuralNetFastAI_BAG_L1 ... Training model for up to 42.66s of the 263.23s of remaining time.\n",
      "\tFitting 8 child models (S1F1 - S1F8) | Fitting with ParallelLocalFoldFittingStrategy (1.0 workers, per: cpus=1, gpus=4, memory=0.01%)\n",
      "\tWarning: Exception caused NeuralNetFastAI_BAG_L1 to fail during training (ImportError)... Skipping this model.\n",
      "\t\t\u001b[36mray::_ray_fit()\u001b[39m (pid=744924, ip=10.168.4.3)\n",
      "  File \"/home/ai5049/.local/lib/python3.10/site-packages/autogluon/tabular/models/fastainn/imports_helper.py\", line 1, in <module>\n",
      "    from fastai.tabular.all import *\n",
      "  File \"/home/ai5049/.local/lib/python3.10/site-packages/fastai/tabular/all.py\", line 1, in <module>\n",
      "    from ..basics import *\n",
      "  File \"/home/ai5049/.local/lib/python3.10/site-packages/fastai/basics.py\", line 1, in <module>\n",
      "    from .data.all import *\n",
      "  File \"/home/ai5049/.local/lib/python3.10/site-packages/fastai/data/all.py\", line 1, in <module>\n",
      "    from ..torch_basics import *\n",
      "  File \"/home/ai5049/.local/lib/python3.10/site-packages/fastai/torch_basics.py\", line 1, in <module>\n",
      "    from torch import multiprocessing\n",
      "ModuleNotFoundError: No module named 'torch'\n",
      "\n",
      "During handling of the above exception, another exception occurred:\n",
      "\n",
      "\u001b[36mray::_ray_fit()\u001b[39m (pid=744924, ip=10.168.4.3)\n",
      "  File \"/home/ai5049/.local/lib/python3.10/site-packages/autogluon/core/models/ensemble/fold_fitting_strategy.py\", line 413, in _ray_fit\n",
      "    fold_model.fit(X=X_fold, y=y_fold, X_val=X_val_fold, y_val=y_val_fold, time_limit=time_limit_fold, **resources, **kwargs_fold)\n",
      "  File \"/home/ai5049/.local/lib/python3.10/site-packages/autogluon/core/models/abstract/abstract_model.py\", line 1051, in fit\n",
      "    out = self._fit(**kwargs)\n",
      "  File \"/home/ai5049/.local/lib/python3.10/site-packages/autogluon/tabular/models/fastainn/tabular_nn_fastai.py\", line 230, in _fit\n",
      "    try_import_fastai()\n",
      "  File \"/home/ai5049/.local/lib/python3.10/site-packages/autogluon/common/utils/try_import.py\", line 141, in try_import_fastai\n",
      "    raise ImportError(\n",
      "ImportError: Import fastai failed. A quick tip is to install via `pip install autogluon.tabular[fastai]==1.3.1`.\n",
      "Fitting model: XGBoost_BAG_L1 ... Training model for up to 41.05s of the 261.62s of remaining time.\n",
      "\tFitting 8 child models (S1F1 - S1F8) | Fitting with ParallelLocalFoldFittingStrategy (1.0 workers, per: cpus=1, gpus=4, memory=0.01%)\n",
      "\t-0.4833\t = Validation score   (-mean_absolute_error)\n",
      "\t42.43s\t = Training   runtime\n",
      "\t0.25s\t = Validation runtime\n",
      "Fitting model: WeightedEnsemble_L2 ... Training model for up to 360.00s of the 217.95s of remaining time.\n",
      "\tEnsemble Weights: {'LightGBMXT_BAG_L1': 0.474, 'LightGBM_BAG_L1': 0.421, 'KNeighborsDist_BAG_L1': 0.053, 'XGBoost_BAG_L1': 0.053}\n",
      "\t-0.4272\t = Validation score   (-mean_absolute_error)\n",
      "\t0.07s\t = Training   runtime\n",
      "\t0.0s\t = Validation runtime\n",
      "Fitting 106 L2 models, fit_strategy=\"sequential\" ...\n",
      "Fitting model: LightGBMXT_BAG_L2 ... Training model for up to 217.84s of the 217.82s of remaining time.\n",
      "\tFitting 8 child models (S1F1 - S1F8) | Fitting with ParallelLocalFoldFittingStrategy (1.0 workers, per: cpus=1, gpus=4, memory=0.01%)\n",
      "\t-0.4442\t = Validation score   (-mean_absolute_error)\n",
      "\t28.23s\t = Training   runtime\n",
      "\t0.38s\t = Validation runtime\n",
      "Fitting model: LightGBM_BAG_L2 ... Training model for up to 188.13s of the 188.11s of remaining time.\n",
      "\tFitting 8 child models (S1F1 - S1F8) | Fitting with ParallelLocalFoldFittingStrategy (1.0 workers, per: cpus=1, gpus=4, memory=0.01%)\n",
      "\t-0.4308\t = Validation score   (-mean_absolute_error)\n",
      "\t21.86s\t = Training   runtime\n",
      "\t0.07s\t = Validation runtime\n",
      "Fitting model: RandomForestMSE_BAG_L2 ... Training model for up to 164.84s of the 164.81s of remaining time.\n",
      "/home/ai5049/.local/lib/python3.10/site-packages/sklearn/base.py:474: FutureWarning: `BaseEstimator._validate_data` is deprecated in 1.6 and will be removed in 1.7. Use `sklearn.utils.validation.validate_data` instead. This function becomes public and is part of the scikit-learn developer API.\n",
      "  warnings.warn(\n",
      "\t-0.4317\t = Validation score   (-mean_absolute_error)\n",
      "\t1.45s\t = Training   runtime\n",
      "\t0.53s\t = Validation runtime\n",
      "Fitting model: CatBoost_BAG_L2 ... Training model for up to 162.43s of the 162.40s of remaining time.\n",
      "\tFitting 8 child models (S1F1 - S1F8) | Fitting with ParallelLocalFoldFittingStrategy (1.0 workers, per: cpus=1, gpus=4, memory=0.09%)\n",
      "\t-0.4399\t = Validation score   (-mean_absolute_error)\n",
      "\t51.4s\t = Training   runtime\n",
      "\t0.05s\t = Validation runtime\n",
      "Fitting model: ExtraTreesMSE_BAG_L2 ... Training model for up to 109.63s of the 109.60s of remaining time.\n",
      "/home/ai5049/.local/lib/python3.10/site-packages/sklearn/base.py:474: FutureWarning: `BaseEstimator._validate_data` is deprecated in 1.6 and will be removed in 1.7. Use `sklearn.utils.validation.validate_data` instead. This function becomes public and is part of the scikit-learn developer API.\n",
      "  warnings.warn(\n",
      "\t-0.4262\t = Validation score   (-mean_absolute_error)\n",
      "\t0.65s\t = Training   runtime\n",
      "\t0.57s\t = Validation runtime\n",
      "Fitting model: NeuralNetFastAI_BAG_L2 ... Training model for up to 107.94s of the 107.91s of remaining time.\n",
      "\tFitting 8 child models (S1F1 - S1F8) | Fitting with ParallelLocalFoldFittingStrategy (1.0 workers, per: cpus=1, gpus=4, memory=0.01%)\n",
      "\tWarning: Exception caused NeuralNetFastAI_BAG_L2 to fail during training (ImportError)... Skipping this model.\n",
      "\t\t\u001b[36mray::_ray_fit()\u001b[39m (pid=769098, ip=10.168.4.3)\n",
      "  File \"/home/ai5049/.local/lib/python3.10/site-packages/autogluon/tabular/models/fastainn/imports_helper.py\", line 1, in <module>\n",
      "    from fastai.tabular.all import *\n",
      "  File \"/home/ai5049/.local/lib/python3.10/site-packages/fastai/tabular/all.py\", line 1, in <module>\n",
      "    from ..basics import *\n",
      "  File \"/home/ai5049/.local/lib/python3.10/site-packages/fastai/basics.py\", line 1, in <module>\n",
      "    from .data.all import *\n",
      "  File \"/home/ai5049/.local/lib/python3.10/site-packages/fastai/data/all.py\", line 1, in <module>\n",
      "    from ..torch_basics import *\n",
      "  File \"/home/ai5049/.local/lib/python3.10/site-packages/fastai/torch_basics.py\", line 1, in <module>\n",
      "    from torch import multiprocessing\n",
      "ModuleNotFoundError: No module named 'torch'\n",
      "\n",
      "During handling of the above exception, another exception occurred:\n",
      "\n",
      "\u001b[36mray::_ray_fit()\u001b[39m (pid=769098, ip=10.168.4.3)\n",
      "  File \"/home/ai5049/.local/lib/python3.10/site-packages/autogluon/core/models/ensemble/fold_fitting_strategy.py\", line 413, in _ray_fit\n",
      "    fold_model.fit(X=X_fold, y=y_fold, X_val=X_val_fold, y_val=y_val_fold, time_limit=time_limit_fold, **resources, **kwargs_fold)\n",
      "  File \"/home/ai5049/.local/lib/python3.10/site-packages/autogluon/core/models/abstract/abstract_model.py\", line 1051, in fit\n",
      "    out = self._fit(**kwargs)\n",
      "  File \"/home/ai5049/.local/lib/python3.10/site-packages/autogluon/tabular/models/fastainn/tabular_nn_fastai.py\", line 230, in _fit\n",
      "    try_import_fastai()\n",
      "  File \"/home/ai5049/.local/lib/python3.10/site-packages/autogluon/common/utils/try_import.py\", line 141, in try_import_fastai\n",
      "    raise ImportError(\n",
      "ImportError: Import fastai failed. A quick tip is to install via `pip install autogluon.tabular[fastai]==1.3.1`.\n",
      "Fitting model: XGBoost_BAG_L2 ... Training model for up to 106.30s of the 106.27s of remaining time.\n",
      "\tFitting 8 child models (S1F1 - S1F8) | Fitting with ParallelLocalFoldFittingStrategy (1.0 workers, per: cpus=1, gpus=4, memory=0.01%)\n",
      "\t-0.4318\t = Validation score   (-mean_absolute_error)\n",
      "\t18.67s\t = Training   runtime\n",
      "\t0.12s\t = Validation runtime\n",
      "Fitting model: NeuralNetTorch_BAG_L2 ... Training model for up to 86.57s of the 86.54s of remaining time.\n",
      "\tFitting 8 child models (S1F1 - S1F8) | Fitting with ParallelLocalFoldFittingStrategy (1.0 workers, per: cpus=1, gpus=4, memory=0.00%)\n",
      "\tWarning: Exception caused NeuralNetTorch_BAG_L2 to fail during training (ImportError)... Skipping this model.\n",
      "\t\t\u001b[36mray::_ray_fit()\u001b[39m (pid=772045, ip=10.168.4.3)\n",
      "ModuleNotFoundError: No module named 'torch'\n",
      "\n",
      "During handling of the above exception, another exception occurred:\n",
      "\n",
      "\u001b[36mray::_ray_fit()\u001b[39m (pid=772045, ip=10.168.4.3)\n",
      "  File \"/home/ai5049/.local/lib/python3.10/site-packages/autogluon/core/models/ensemble/fold_fitting_strategy.py\", line 413, in _ray_fit\n",
      "    fold_model.fit(X=X_fold, y=y_fold, X_val=X_val_fold, y_val=y_val_fold, time_limit=time_limit_fold, **resources, **kwargs_fold)\n",
      "  File \"/home/ai5049/.local/lib/python3.10/site-packages/autogluon/core/models/abstract/abstract_model.py\", line 1051, in fit\n",
      "    out = self._fit(**kwargs)\n",
      "  File \"/home/ai5049/.local/lib/python3.10/site-packages/autogluon/tabular/models/tabular_nn/torch/tabular_nn_torch.py\", line 178, in _fit\n",
      "    try_import_torch()\n",
      "  File \"/home/ai5049/.local/lib/python3.10/site-packages/autogluon/common/utils/try_import.py\", line 150, in try_import_torch\n",
      "    raise ImportError(\n",
      "ImportError: Unable to import dependency torch\n",
      "A quick tip is to install via `pip install torch`.\n",
      "The minimum torch version is currently 2.2.\n",
      "Fitting model: LightGBMLarge_BAG_L2 ... Training model for up to 85.01s of the 84.98s of remaining time.\n",
      "\tFitting 8 child models (S1F1 - S1F8) | Fitting with ParallelLocalFoldFittingStrategy (1.0 workers, per: cpus=1, gpus=4, memory=0.01%)\n",
      "\t-0.4335\t = Validation score   (-mean_absolute_error)\n",
      "\t46.75s\t = Training   runtime\n",
      "\t0.19s\t = Validation runtime\n",
      "Fitting model: CatBoost_r177_BAG_L2 ... Training model for up to 37.09s of the 37.06s of remaining time.\n",
      "\tFitting 8 child models (S1F1 - S1F8) | Fitting with ParallelLocalFoldFittingStrategy (1.0 workers, per: cpus=1, gpus=4, memory=0.09%)\n",
      "\t-0.4647\t = Validation score   (-mean_absolute_error)\n",
      "\t37.43s\t = Training   runtime\n",
      "\t0.05s\t = Validation runtime\n",
      "Fitting model: WeightedEnsemble_L3 ... Training model for up to 360.00s of the -1.97s of remaining time.\n",
      "\tEnsemble Weights: {'ExtraTreesMSE_BAG_L2': 0.526, 'LightGBMXT_BAG_L1': 0.158, 'LightGBM_BAG_L2': 0.158, 'XGBoost_BAG_L2': 0.105, 'RandomForestMSE_BAG_L2': 0.053}\n",
      "\t-0.4234\t = Validation score   (-mean_absolute_error)\n",
      "\t0.13s\t = Training   runtime\n",
      "\t0.0s\t = Validation runtime\n",
      "AutoGluon training complete, total runtime = 663.79s ... Best model: WeightedEnsemble_L3 | Estimated inference throughput: 110.4 rows/s (1705 batch size)\n",
      "TabularPredictor saved. To load, use: predictor = TabularPredictor.load(\"/lustrefs/disk/project/ai901648-ai1048/Hack 2 - Temperature/AutogluonModels/ag-20250705_152415\")\n"
     ]
    }
   ],
   "source": [
    "from autogluon.tabular import TabularPredictor\n",
    "import pandas as pd\n",
    "\n",
    "# Specify the column to predict (target variable)\n",
    "label_column = \"temp\"\n",
    "\n",
    "# Initialize the AutoGluon TabularPredictor\n",
    "predictor = TabularPredictor(label=label_column, eval_metric=\"mae\").fit(train_df, time_limit=900, presets=\"best\", ag_args_fit={'num_gpus': 4})"
   ]
  },
  {
   "cell_type": "code",
   "execution_count": 79,
   "metadata": {
    "id": "QDtmwhLf6h-Z"
   },
   "outputs": [],
   "source": [
    "predictions = predictor.predict(test_df)"
   ]
  },
  {
   "cell_type": "code",
   "execution_count": 80,
   "metadata": {
    "colab": {
     "base_uri": "https://localhost:8080/"
    },
    "id": "7AK1kwmB6x0J",
    "outputId": "540a59de-e788-4402-b143-65ca52a429a0"
   },
   "outputs": [
    {
     "data": {
      "text/plain": [
       "3413"
      ]
     },
     "execution_count": 80,
     "metadata": {},
     "output_type": "execute_result"
    }
   ],
   "source": [
    "len(predictions)"
   ]
  },
  {
   "cell_type": "code",
   "execution_count": 81,
   "metadata": {
    "id": "FHrAoYDSmhu4"
   },
   "outputs": [],
   "source": [
    "sub_df = pd.read_csv(\"IOT_Submit.csv\")"
   ]
  },
  {
   "cell_type": "code",
   "execution_count": 82,
   "metadata": {
    "colab": {
     "base_uri": "https://localhost:8080/"
    },
    "id": "E2MO3XcvmqHR",
    "outputId": "95bb7f03-2e36-4866-ac58-f21dba6640b2"
   },
   "outputs": [
    {
     "data": {
      "text/plain": [
       "3413"
      ]
     },
     "execution_count": 82,
     "metadata": {},
     "output_type": "execute_result"
    }
   ],
   "source": [
    "len(sub_df)"
   ]
  },
  {
   "cell_type": "code",
   "execution_count": 83,
   "metadata": {
    "id": "L96XEDQy7DCe"
   },
   "outputs": [],
   "source": [
    "sub_df['temp'] = predictions"
   ]
  },
  {
   "cell_type": "markdown",
   "metadata": {
    "id": "b-BV5csA7Tf7"
   },
   "source": [
    "0\t1\t25.6\n",
    "1\t2\t30.1\n",
    "2\t3\t24.7"
   ]
  },
  {
   "cell_type": "code",
   "execution_count": 84,
   "metadata": {
    "id": "ToEGhAJQ7sDh"
   },
   "outputs": [],
   "source": [
    "sub_df['temp'] = sub_df['temp'].round(2)"
   ]
  },
  {
   "cell_type": "code",
   "execution_count": 85,
   "metadata": {
    "colab": {
     "base_uri": "https://localhost:8080/",
     "height": 423
    },
    "id": "eCrRCbkw7zsh",
    "outputId": "42f782e9-5958-422f-f805-d24bdc69342a"
   },
   "outputs": [
    {
     "data": {
      "text/html": [
       "<div>\n",
       "<style scoped>\n",
       "    .dataframe tbody tr th:only-of-type {\n",
       "        vertical-align: middle;\n",
       "    }\n",
       "\n",
       "    .dataframe tbody tr th {\n",
       "        vertical-align: top;\n",
       "    }\n",
       "\n",
       "    .dataframe thead th {\n",
       "        text-align: right;\n",
       "    }\n",
       "</style>\n",
       "<table border=\"1\" class=\"dataframe\">\n",
       "  <thead>\n",
       "    <tr style=\"text-align: right;\">\n",
       "      <th></th>\n",
       "      <th>id</th>\n",
       "      <th>temp</th>\n",
       "    </tr>\n",
       "  </thead>\n",
       "  <tbody>\n",
       "    <tr>\n",
       "      <th>0</th>\n",
       "      <td>1</td>\n",
       "      <td>25.709999</td>\n",
       "    </tr>\n",
       "    <tr>\n",
       "      <th>1</th>\n",
       "      <td>2</td>\n",
       "      <td>28.830000</td>\n",
       "    </tr>\n",
       "    <tr>\n",
       "      <th>2</th>\n",
       "      <td>3</td>\n",
       "      <td>24.780001</td>\n",
       "    </tr>\n",
       "    <tr>\n",
       "      <th>3</th>\n",
       "      <td>4</td>\n",
       "      <td>29.370001</td>\n",
       "    </tr>\n",
       "    <tr>\n",
       "      <th>4</th>\n",
       "      <td>5</td>\n",
       "      <td>34.470001</td>\n",
       "    </tr>\n",
       "    <tr>\n",
       "      <th>...</th>\n",
       "      <td>...</td>\n",
       "      <td>...</td>\n",
       "    </tr>\n",
       "    <tr>\n",
       "      <th>3408</th>\n",
       "      <td>3409</td>\n",
       "      <td>25.469999</td>\n",
       "    </tr>\n",
       "    <tr>\n",
       "      <th>3409</th>\n",
       "      <td>3410</td>\n",
       "      <td>33.360001</td>\n",
       "    </tr>\n",
       "    <tr>\n",
       "      <th>3410</th>\n",
       "      <td>3411</td>\n",
       "      <td>27.139999</td>\n",
       "    </tr>\n",
       "    <tr>\n",
       "      <th>3411</th>\n",
       "      <td>3412</td>\n",
       "      <td>25.280001</td>\n",
       "    </tr>\n",
       "    <tr>\n",
       "      <th>3412</th>\n",
       "      <td>3413</td>\n",
       "      <td>35.919998</td>\n",
       "    </tr>\n",
       "  </tbody>\n",
       "</table>\n",
       "<p>3413 rows × 2 columns</p>\n",
       "</div>"
      ],
      "text/plain": [
       "        id       temp\n",
       "0        1  25.709999\n",
       "1        2  28.830000\n",
       "2        3  24.780001\n",
       "3        4  29.370001\n",
       "4        5  34.470001\n",
       "...    ...        ...\n",
       "3408  3409  25.469999\n",
       "3409  3410  33.360001\n",
       "3410  3411  27.139999\n",
       "3411  3412  25.280001\n",
       "3412  3413  35.919998\n",
       "\n",
       "[3413 rows x 2 columns]"
      ]
     },
     "execution_count": 85,
     "metadata": {},
     "output_type": "execute_result"
    }
   ],
   "source": [
    "sub_df"
   ]
  },
  {
   "cell_type": "code",
   "execution_count": 87,
   "metadata": {
    "id": "COoGCRRq67EV"
   },
   "outputs": [],
   "source": [
    "sub_df.to_csv(\"autogluon_best_standardscaler_4gpus.csv\", index=False)"
   ]
  },
  {
   "cell_type": "code",
   "execution_count": 86,
   "metadata": {
    "colab": {
     "base_uri": "https://localhost:8080/"
    },
    "id": "Tx1hn9Ii6-7Z",
    "outputId": "801db2df-e173-4176-efc2-482b67acb7ee"
   },
   "outputs": [
    {
     "data": {
      "text/plain": [
       "np.float32(99522.1)"
      ]
     },
     "execution_count": 86,
     "metadata": {},
     "output_type": "execute_result"
    }
   ],
   "source": [
    "sub_df['temp'].sum()"
   ]
  },
  {
   "cell_type": "markdown",
   "metadata": {
    "id": "EifdVDd18MHf"
   },
   "source": [
    "* Round up - 99307.34"
   ]
  },
  {
   "cell_type": "code",
   "execution_count": null,
   "metadata": {
    "id": "AJegOK2D8KlY"
   },
   "outputs": [],
   "source": []
  }
 ],
 "metadata": {
  "accelerator": "GPU",
  "colab": {
   "gpuType": "T4",
   "machine_shape": "hm",
   "provenance": []
  },
  "kernelspec": {
   "display_name": "Python 3 (ipykernel)",
   "language": "python",
   "name": "python3"
  },
  "language_info": {
   "codemirror_mode": {
    "name": "ipython",
    "version": 3
   },
   "file_extension": ".py",
   "mimetype": "text/x-python",
   "name": "python",
   "nbconvert_exporter": "python",
   "pygments_lexer": "ipython3",
   "version": "3.10.13"
  }
 },
 "nbformat": 4,
 "nbformat_minor": 4
}
